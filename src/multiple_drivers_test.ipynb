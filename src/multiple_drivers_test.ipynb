{
 "cells": [
  {
   "cell_type": "code",
   "execution_count": 9,
   "metadata": {},
   "outputs": [],
   "source": [
    "from selenium import webdriver\n",
    "from selenium.webdriver.chrome.options import Options\n",
    "import utils.check_url as cu"
   ]
  },
  {
   "cell_type": "code",
   "execution_count": 2,
   "metadata": {},
   "outputs": [],
   "source": [
    "options = Options()\n"
   ]
  },
  {
   "cell_type": "code",
   "execution_count": 52,
   "metadata": {},
   "outputs": [],
   "source": [
    "options = Options()\n",
    "options.add_argument(\"--headless\")\n",
    "options.experimental_options[\"prefs\"] = { \n",
    "    \"profile.managed_default_content_settings.images\": 2, \n",
    "    \"profile.managed_default_content_settings.stylesheets\": 2, \n",
    "    \"profile.managed_default_content_settings.javascript\": 2, \n",
    "    \"profile.managed_default_content_settings.cookies\": 2, \n",
    "    \"profile.managed_default_content_settings.geolocation\": 2, \n",
    "    \"profile.default_content_setting_values.notifications\": 2, \n",
    "    }\n",
    "\n",
    "\n",
    "driver1=webdriver.Remote(command_executor='http://localhost:4444', options=options)\n",
    "driver2=webdriver.Remote(command_executor='http://localhost:4444', options=options)\n"
   ]
  },
  {
   "cell_type": "code",
   "execution_count": 53,
   "metadata": {},
   "outputs": [],
   "source": [
    "driver1.get(\"https://www.haon.hu/kereses?global_filter=vihar\")\n",
    "driver2.get(\"https://www.baon.hu/kereses?global_filter=vihar\")\n",
    "\n"
   ]
  },
  {
   "cell_type": "code",
   "execution_count": 51,
   "metadata": {},
   "outputs": [
    {
     "name": "stdout",
     "output_type": "stream",
     "text": [
      "Results: 10\n",
      "59 perce\n",
      "https://www.haon.hu/orszag-vilag/2022/01/lengyelorszagban-es-nemetorszagban-is-nagy-karokat-okoznak-a-szelviharok\n",
      "6 órája\n",
      "https://www.haon.hu/hazai-idojaras/2022/01/tobb-oras-napsutes-es-viharos-szel-lesz-vasarnap\n"
     ]
    },
    {
     "data": {
      "text/html": [
       "<div>\n",
       "<style scoped>\n",
       "    .dataframe tbody tr th:only-of-type {\n",
       "        vertical-align: middle;\n",
       "    }\n",
       "\n",
       "    .dataframe tbody tr th {\n",
       "        vertical-align: top;\n",
       "    }\n",
       "\n",
       "    .dataframe thead th {\n",
       "        text-align: right;\n",
       "    }\n",
       "</style>\n",
       "<table border=\"1\" class=\"dataframe\">\n",
       "  <thead>\n",
       "    <tr style=\"text-align: right;\">\n",
       "      <th></th>\n",
       "      <th>link</th>\n",
       "      <th>date</th>\n",
       "      <th>title</th>\n",
       "    </tr>\n",
       "  </thead>\n",
       "  <tbody>\n",
       "    <tr>\n",
       "      <th>0</th>\n",
       "      <td>https://www.haon.hu/orszag-vilag/2022/01/lengy...</td>\n",
       "      <td>59 perce</td>\n",
       "      <td>Lengyelországban és Németországban is nagy kár...</td>\n",
       "    </tr>\n",
       "    <tr>\n",
       "      <th>1</th>\n",
       "      <td>https://www.haon.hu/hazai-idojaras/2022/01/tob...</td>\n",
       "      <td>6 órája</td>\n",
       "      <td>Több órás napsütés és viharos szél lesz vasárnap</td>\n",
       "    </tr>\n",
       "  </tbody>\n",
       "</table>\n",
       "</div>"
      ],
      "text/plain": [
       "                                                link      date  \\\n",
       "0  https://www.haon.hu/orszag-vilag/2022/01/lengy...  59 perce   \n",
       "1  https://www.haon.hu/hazai-idojaras/2022/01/tob...   6 órája   \n",
       "\n",
       "                                               title  \n",
       "0  Lengyelországban és Németországban is nagy kár...  \n",
       "1   Több órás napsütés és viharos szél lesz vasárnap  "
      ]
     },
     "execution_count": 51,
     "metadata": {},
     "output_type": "execute_result"
    }
   ],
   "source": [
    "cu.check_URL(driver)"
   ]
  },
  {
   "cell_type": "code",
   "execution_count": 48,
   "metadata": {},
   "outputs": [],
   "source": [
    "driver1.quit()\n",
    "driver2.quit()"
   ]
  },
  {
   "cell_type": "code",
   "execution_count": 6,
   "metadata": {},
   "outputs": [],
   "source": [
    "options = Options()\n",
    "options.add_argument(\"--headless\")\n"
   ]
  },
  {
   "cell_type": "code",
   "execution_count": null,
   "metadata": {},
   "outputs": [],
   "source": []
  }
 ],
 "metadata": {
  "interpreter": {
   "hash": "1ed379fcb060ad2a17c7c071b22fd52c95940d845c7d2670f23a000ff4c4624a"
  },
  "kernelspec": {
   "display_name": "Python 3.8.12 64-bit ('relief_sandbox': conda)",
   "language": "python",
   "name": "python3"
  },
  "language_info": {
   "codemirror_mode": {
    "name": "ipython",
    "version": 3
   },
   "file_extension": ".py",
   "mimetype": "text/x-python",
   "name": "python",
   "nbconvert_exporter": "python",
   "pygments_lexer": "ipython3",
   "version": "3.8.12"
  },
  "orig_nbformat": 4
 },
 "nbformat": 4,
 "nbformat_minor": 2
}
