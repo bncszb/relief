{
 "cells": [
  {
   "cell_type": "code",
   "execution_count": 1,
   "metadata": {},
   "outputs": [],
   "source": [
    "import pandas as pd\n",
    "from utils.check_url import check_URL\n",
    "import utils.url_generator as ug\n",
    "import pandas as pd"
   ]
  },
  {
   "cell_type": "code",
   "execution_count": 6,
   "metadata": {},
   "outputs": [],
   "source": [
    "kw_path=\"/home/src/keywords.txt\"\n",
    "keywords=ug.get_keywords(kw_path)\n",
    "\n"
   ]
  },
  {
   "cell_type": "code",
   "execution_count": 4,
   "metadata": {},
   "outputs": [],
   "source": [
    "sites_path=\"/home/data/local/counties_NER.xlsx\"\n",
    "keywords_path=\"/home/src/keywords.txt\"\n",
    "\n",
    "site_df=pd.read_excel(sites_path)"
   ]
  },
  {
   "cell_type": "code",
   "execution_count": 13,
   "metadata": {},
   "outputs": [],
   "source": [
    "def get_urls_for_keyword (keyword):\n",
    "    sites_path=\"/home/data/local/counties_NER.xlsx\"\n",
    "    site_df=pd.read_excel(sites_path)\n",
    "\n",
    "    urls=[]\n",
    "    for i in site_df.index:\n",
    "        URL=site_df[\"site\"].iloc[i]+search+keyword\n",
    "        site_name=site_df[\"site_name\"].iloc[i]\n",
    "        urls.append(URL)\n",
    "    return urls\n"
   ]
  },
  {
   "cell_type": "code",
   "execution_count": 2,
   "metadata": {},
   "outputs": [
    {
     "data": {
      "text/plain": [
       "['https://www.baon.hu/kereses?global_filter=cső',\n",
       " 'https://www.bama.hu/kereses?global_filter=cső',\n",
       " 'https://www.beol.hu/kereses?global_filter=cső',\n",
       " 'https://www.boon.hu/kereses?global_filter=cső',\n",
       " 'https://www.delmagyar.hu/kereses?global_filter=cső',\n",
       " 'https://www.feol.hu/kereses?global_filter=cső',\n",
       " 'https://www.kisalfold.hu/kereses?global_filter=cső',\n",
       " 'https://www.haon.hu/kereses?global_filter=cső',\n",
       " 'https://www.heol.hu/kereses?global_filter=cső',\n",
       " 'https://www.szoljon.hu/kereses?global_filter=cső',\n",
       " 'https://www.kemma.hu/kereses?global_filter=cső',\n",
       " 'https://www.nool.hu/kereses?global_filter=cső',\n",
       " 'https://www.sonline.hu/kereses?global_filter=cső',\n",
       " 'https://www.szon.hu/kereses?global_filter=cső',\n",
       " 'https://www.teol.hu/kereses?global_filter=cső',\n",
       " 'https://www.vaol.hu/kereses?global_filter=cső',\n",
       " 'https://www.veol.hu/kereses?global_filter=cső',\n",
       " 'https://www.zaol.hu/kereses?global_filter=cső']"
      ]
     },
     "execution_count": 2,
     "metadata": {},
     "output_type": "execute_result"
    }
   ],
   "source": [
    "ug.get_urls_for_keyword(\"cső\")"
   ]
  },
  {
   "cell_type": "code",
   "execution_count": 10,
   "metadata": {},
   "outputs": [
    {
     "name": "stdout",
     "output_type": "stream",
     "text": [
      "https://www.baon.hu/kereses?global_filter=gyurcsány\n",
      "https://www.bama.hu/kereses?global_filter=gyurcsány\n",
      "https://www.beol.hu/kereses?global_filter=gyurcsány\n",
      "https://www.boon.hu/kereses?global_filter=gyurcsány\n",
      "https://www.delmagyar.hu/kereses?global_filter=gyurcsány\n",
      "https://www.feol.hu/kereses?global_filter=gyurcsány\n",
      "https://www.kisalfold.hu/kereses?global_filter=gyurcsány\n",
      "https://www.haon.hu/kereses?global_filter=gyurcsány\n",
      "https://www.heol.hu/kereses?global_filter=gyurcsány\n",
      "https://www.szoljon.hu/kereses?global_filter=gyurcsány\n",
      "https://www.kemma.hu/kereses?global_filter=gyurcsány\n",
      "https://www.nool.hu/kereses?global_filter=gyurcsány\n",
      "https://www.sonline.hu/kereses?global_filter=gyurcsány\n",
      "https://www.szon.hu/kereses?global_filter=gyurcsány\n",
      "https://www.teol.hu/kereses?global_filter=gyurcsány\n",
      "https://www.vaol.hu/kereses?global_filter=gyurcsány\n",
      "https://www.veol.hu/kereses?global_filter=gyurcsány\n",
      "https://www.zaol.hu/kereses?global_filter=gyurcsány\n"
     ]
    }
   ],
   "source": [
    "search=\"kereses?global_filter=\"\n",
    "\n",
    "for keyword in keywords:\n",
    "\n",
    "    for i in site_df.index:\n",
    "        URL=site_df[\"site\"].iloc[i]+search+keyword\n",
    "        site_name=site_df[\"site_name\"].iloc[i]\n",
    "        print(URL)\n",
    "\n",
    "\n",
    "\n"
   ]
  },
  {
   "cell_type": "code",
   "execution_count": null,
   "metadata": {},
   "outputs": [],
   "source": []
  }
 ],
 "metadata": {
  "interpreter": {
   "hash": "949777d72b0d2535278d3dc13498b2535136f6dfe0678499012e853ee9abcab1"
  },
  "kernelspec": {
   "display_name": "Python 3.9.9 64-bit",
   "language": "python",
   "name": "python3"
  },
  "language_info": {
   "codemirror_mode": {
    "name": "ipython",
    "version": 3
   },
   "file_extension": ".py",
   "mimetype": "text/x-python",
   "name": "python",
   "nbconvert_exporter": "python",
   "pygments_lexer": "ipython3",
   "version": "3.9.9"
  },
  "orig_nbformat": 4
 },
 "nbformat": 4,
 "nbformat_minor": 2
}
