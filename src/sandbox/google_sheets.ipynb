{
 "cells": [
  {
   "cell_type": "code",
   "execution_count": 13,
   "metadata": {},
   "outputs": [],
   "source": [
    "import pygsheets\n",
    "import pandas as pd\n",
    "\n",
    "# Use customized credentials \n",
    "creds_path=\"/Users/benceszabo/Side/relief/client_secret.json\"\n",
    "gc = pygsheets.authorize(client_secret=creds_path)\n"
   ]
  },
  {
   "cell_type": "code",
   "execution_count": null,
   "metadata": {},
   "outputs": [],
   "source": []
  },
  {
   "cell_type": "code",
   "execution_count": 24,
   "metadata": {},
   "outputs": [],
   "source": [
    "sh=gc.create(\"test2\")"
   ]
  },
  {
   "cell_type": "code",
   "execution_count": 25,
   "metadata": {},
   "outputs": [
    {
     "data": {
      "text/plain": [
       "'test2'"
      ]
     },
     "execution_count": 25,
     "metadata": {},
     "output_type": "execute_result"
    }
   ],
   "source": [
    "sh.title"
   ]
  },
  {
   "cell_type": "code",
   "execution_count": 54,
   "metadata": {},
   "outputs": [
    {
     "data": {
      "text/plain": [
       "'1zzfoLBWICP8nYqZdKVLwTA3_6lHxZfBFNWEuMlrbYFQ'"
      ]
     },
     "execution_count": 54,
     "metadata": {},
     "output_type": "execute_result"
    }
   ],
   "source": [
    "sh.id"
   ]
  },
  {
   "cell_type": "code",
   "execution_count": 26,
   "metadata": {},
   "outputs": [],
   "source": [
    "wk1 = sh.sheet1\n"
   ]
  },
  {
   "cell_type": "code",
   "execution_count": 27,
   "metadata": {},
   "outputs": [
    {
     "data": {
      "text/html": [
       "<div>\n",
       "<style scoped>\n",
       "    .dataframe tbody tr th:only-of-type {\n",
       "        vertical-align: middle;\n",
       "    }\n",
       "\n",
       "    .dataframe tbody tr th {\n",
       "        vertical-align: top;\n",
       "    }\n",
       "\n",
       "    .dataframe thead th {\n",
       "        text-align: right;\n",
       "    }\n",
       "</style>\n",
       "<table border=\"1\" class=\"dataframe\">\n",
       "  <thead>\n",
       "    <tr style=\"text-align: right;\">\n",
       "      <th></th>\n",
       "    </tr>\n",
       "  </thead>\n",
       "  <tbody>\n",
       "  </tbody>\n",
       "</table>\n",
       "</div>"
      ],
      "text/plain": [
       "Empty DataFrame\n",
       "Columns: []\n",
       "Index: []"
      ]
     },
     "execution_count": 27,
     "metadata": {},
     "output_type": "execute_result"
    }
   ],
   "source": [
    "pd.DataFrame(wk1.get_all_records()      )"
   ]
  },
  {
   "cell_type": "code",
   "execution_count": 28,
   "metadata": {},
   "outputs": [
    {
     "data": {
      "text/html": [
       "<div>\n",
       "<style scoped>\n",
       "    .dataframe tbody tr th:only-of-type {\n",
       "        vertical-align: middle;\n",
       "    }\n",
       "\n",
       "    .dataframe tbody tr th {\n",
       "        vertical-align: top;\n",
       "    }\n",
       "\n",
       "    .dataframe thead th {\n",
       "        text-align: right;\n",
       "    }\n",
       "</style>\n",
       "<table border=\"1\" class=\"dataframe\">\n",
       "  <thead>\n",
       "    <tr style=\"text-align: right;\">\n",
       "      <th></th>\n",
       "      <th>Unnamed: 0</th>\n",
       "      <th>Címer</th>\n",
       "      <th>Megye neve</th>\n",
       "      <th>Megyeszékhely</th>\n",
       "      <th>Terület (km²)</th>\n",
       "      <th>Népesség (ezer fő)</th>\n",
       "      <th>Település</th>\n",
       "      <th>Kistérség</th>\n",
       "      <th>site</th>\n",
       "      <th>site_name</th>\n",
       "    </tr>\n",
       "  </thead>\n",
       "  <tbody>\n",
       "    <tr>\n",
       "      <th>0</th>\n",
       "      <td>0</td>\n",
       "      <td>Bacs-kiskun-megye.svg</td>\n",
       "      <td>Bács-Kiskun megye</td>\n",
       "      <td>Coa Hungary Town Kecskemét.svgKecskemét</td>\n",
       "      <td>8445</td>\n",
       "      <td>505</td>\n",
       "      <td>119</td>\n",
       "      <td>10</td>\n",
       "      <td>https://www.baon.hu/</td>\n",
       "      <td>baon</td>\n",
       "    </tr>\n",
       "    <tr>\n",
       "      <th>1</th>\n",
       "      <td>1</td>\n",
       "      <td>Baranya.jpg</td>\n",
       "      <td>Baranya megye</td>\n",
       "      <td>COA Hungary Town Pécs.svgPécs</td>\n",
       "      <td>4430</td>\n",
       "      <td>363</td>\n",
       "      <td>301</td>\n",
       "      <td>9</td>\n",
       "      <td>https://www.bama.hu/</td>\n",
       "      <td>bama</td>\n",
       "    </tr>\n",
       "    <tr>\n",
       "      <th>2</th>\n",
       "      <td>2</td>\n",
       "      <td>Békés departemento blazono.svg</td>\n",
       "      <td>Békés megye</td>\n",
       "      <td>HUN Békéscsaba Címer.svgBékéscsaba</td>\n",
       "      <td>5631</td>\n",
       "      <td>336</td>\n",
       "      <td>75</td>\n",
       "      <td>8</td>\n",
       "      <td>https://www.beol.hu/</td>\n",
       "      <td>beol</td>\n",
       "    </tr>\n",
       "    <tr>\n",
       "      <th>3</th>\n",
       "      <td>3</td>\n",
       "      <td>Borsod-Abaúj-Zemplén departemento blazono.svg</td>\n",
       "      <td>Borsod-Abaúj-Zemplén megye</td>\n",
       "      <td>HUN Miskolc Címer.svgMiskolc</td>\n",
       "      <td>7247</td>\n",
       "      <td>648</td>\n",
       "      <td>358</td>\n",
       "      <td>15</td>\n",
       "      <td>https://www.boon.hu/</td>\n",
       "      <td>boon</td>\n",
       "    </tr>\n",
       "    <tr>\n",
       "      <th>4</th>\n",
       "      <td>4</td>\n",
       "      <td>HU Csongrád megye COA.svg</td>\n",
       "      <td>Csongrád-Csanád megye</td>\n",
       "      <td>HUN Szeged Címer.svgSzeged</td>\n",
       "      <td>4263</td>\n",
       "      <td>400</td>\n",
       "      <td>60</td>\n",
       "      <td>7</td>\n",
       "      <td>https://www.delmagyar.hu/</td>\n",
       "      <td>delmagyar</td>\n",
       "    </tr>\n",
       "    <tr>\n",
       "      <th>5</th>\n",
       "      <td>5</td>\n",
       "      <td>Coa Hungary County Fejér (history).svg</td>\n",
       "      <td>Fejér megye</td>\n",
       "      <td>HUN Székesfehérvár Címer.svgSzékesfehérvár</td>\n",
       "      <td>4359</td>\n",
       "      <td>416</td>\n",
       "      <td>108</td>\n",
       "      <td>10</td>\n",
       "      <td>https://www.feol.hu/</td>\n",
       "      <td>feol</td>\n",
       "    </tr>\n",
       "    <tr>\n",
       "      <th>6</th>\n",
       "      <td>6</td>\n",
       "      <td>HUN Győr-Moson-Sopron COA.jpg</td>\n",
       "      <td>Győr-Moson-Sopron megye</td>\n",
       "      <td>HUN Győr Címer.svgGyőr</td>\n",
       "      <td>4208</td>\n",
       "      <td>461</td>\n",
       "      <td>183</td>\n",
       "      <td>7</td>\n",
       "      <td>https://www.kisalfold.hu/</td>\n",
       "      <td>kisalfold</td>\n",
       "    </tr>\n",
       "    <tr>\n",
       "      <th>7</th>\n",
       "      <td>7</td>\n",
       "      <td>HUN Hajdú-Bihar COA.svg</td>\n",
       "      <td>Hajdú-Bihar megye</td>\n",
       "      <td>Coa Hungary Town Debrecen.svgDebrecen</td>\n",
       "      <td>6211</td>\n",
       "      <td>530</td>\n",
       "      <td>82</td>\n",
       "      <td>9</td>\n",
       "      <td>https://www.haon.hu/</td>\n",
       "      <td>haon</td>\n",
       "    </tr>\n",
       "    <tr>\n",
       "      <th>8</th>\n",
       "      <td>8</td>\n",
       "      <td>Coa Hungary County Heves.svg</td>\n",
       "      <td>Heves megye</td>\n",
       "      <td>HUN Eger COA.jpgEger</td>\n",
       "      <td>3637</td>\n",
       "      <td>295</td>\n",
       "      <td>121</td>\n",
       "      <td>7</td>\n",
       "      <td>https://www.heol.hu/</td>\n",
       "      <td>heol</td>\n",
       "    </tr>\n",
       "    <tr>\n",
       "      <th>9</th>\n",
       "      <td>9</td>\n",
       "      <td>HUN Jász-Nagykun-Szolnok megye COA.jpg</td>\n",
       "      <td>Jász-Nagykun-Szolnok megye</td>\n",
       "      <td>HUN Szolnok Címer.svgSzolnok</td>\n",
       "      <td>5582</td>\n",
       "      <td>371</td>\n",
       "      <td>78</td>\n",
       "      <td>7</td>\n",
       "      <td>https://www.szoljon.hu/</td>\n",
       "      <td>szoljon</td>\n",
       "    </tr>\n",
       "    <tr>\n",
       "      <th>10</th>\n",
       "      <td>10</td>\n",
       "      <td>HUN Komárom-Esztergom megye COA.jpg</td>\n",
       "      <td>Komárom-Esztergom megye</td>\n",
       "      <td>HUN Tatabánya Címer.svgTatabánya</td>\n",
       "      <td>2265</td>\n",
       "      <td>297</td>\n",
       "      <td>76</td>\n",
       "      <td>7</td>\n",
       "      <td>https://www.kemma.hu/</td>\n",
       "      <td>kemma</td>\n",
       "    </tr>\n",
       "    <tr>\n",
       "      <th>11</th>\n",
       "      <td>11</td>\n",
       "      <td>Coa Hungary County Nógrád.svg</td>\n",
       "      <td>Nógrád megye</td>\n",
       "      <td>HUN Salgótarján Címer.svgSalgótarján</td>\n",
       "      <td>2546</td>\n",
       "      <td>195</td>\n",
       "      <td>131</td>\n",
       "      <td>6</td>\n",
       "      <td>https://www.nool.hu/</td>\n",
       "      <td>nool</td>\n",
       "    </tr>\n",
       "    <tr>\n",
       "      <th>12</th>\n",
       "      <td>12</td>\n",
       "      <td>HUN Pest megye COA.jpg</td>\n",
       "      <td>Pest megye</td>\n",
       "      <td>Coa Hungary Town Budapest big.svgBudapest</td>\n",
       "      <td>6393</td>\n",
       "      <td>1213</td>\n",
       "      <td>187</td>\n",
       "      <td>16</td>\n",
       "      <td>https://www.pestmegye.com/</td>\n",
       "      <td>pestmegye</td>\n",
       "    </tr>\n",
       "    <tr>\n",
       "      <th>13</th>\n",
       "      <td>13</td>\n",
       "      <td>HUN Somogy megye COA.svg</td>\n",
       "      <td>Somogy megye</td>\n",
       "      <td>Coa Hungary Town Kaposvár.svgKaposvár</td>\n",
       "      <td>6036</td>\n",
       "      <td>55</td>\n",
       "      <td>245</td>\n",
       "      <td>11</td>\n",
       "      <td>https://www.sonline.hu/</td>\n",
       "      <td>sonline</td>\n",
       "    </tr>\n",
       "    <tr>\n",
       "      <th>14</th>\n",
       "      <td>14</td>\n",
       "      <td>HUN Szabolcs-Szatmár-Bereg megye COA.svg</td>\n",
       "      <td>Szabolcs-Szatmár-Bereg megye</td>\n",
       "      <td>HUN Nyíregyháza Címer.svgNyíregyháza</td>\n",
       "      <td>5936</td>\n",
       "      <td>98</td>\n",
       "      <td>229</td>\n",
       "      <td>12</td>\n",
       "      <td>https://www.szon.hu/</td>\n",
       "      <td>szon</td>\n",
       "    </tr>\n",
       "    <tr>\n",
       "      <th>15</th>\n",
       "      <td>15</td>\n",
       "      <td>HUN Tolna megye COA.jpg</td>\n",
       "      <td>Tolna megye</td>\n",
       "      <td>HUN Szekszárd Címer.svgSzekszárd</td>\n",
       "      <td>3703</td>\n",
       "      <td>67</td>\n",
       "      <td>109</td>\n",
       "      <td>5</td>\n",
       "      <td>https://www.teol.hu/</td>\n",
       "      <td>teol</td>\n",
       "    </tr>\n",
       "    <tr>\n",
       "      <th>16</th>\n",
       "      <td>16</td>\n",
       "      <td>HUN Vas megye COA.jpg</td>\n",
       "      <td>Vas megye</td>\n",
       "      <td>HUN Szombathely Címer.svgSzombathely</td>\n",
       "      <td>3336</td>\n",
       "      <td>80</td>\n",
       "      <td>216</td>\n",
       "      <td>9</td>\n",
       "      <td>https://www.vaol.hu/</td>\n",
       "      <td>vaol</td>\n",
       "    </tr>\n",
       "    <tr>\n",
       "      <th>17</th>\n",
       "      <td>17</td>\n",
       "      <td>Coa Hungary County Veszprém.svg</td>\n",
       "      <td>Veszprém megye</td>\n",
       "      <td>HUN Veszprém Címer.svgVeszprém</td>\n",
       "      <td>4493</td>\n",
       "      <td>82</td>\n",
       "      <td>217</td>\n",
       "      <td>9</td>\n",
       "      <td>https://www.veol.hu/</td>\n",
       "      <td>veol</td>\n",
       "    </tr>\n",
       "    <tr>\n",
       "      <th>18</th>\n",
       "      <td>18</td>\n",
       "      <td>Coa Hungary County Zala (2010-).svg</td>\n",
       "      <td>Zala megye</td>\n",
       "      <td>HUN Zalaegerszeg Címer.svgZalaegerszeg</td>\n",
       "      <td>3784</td>\n",
       "      <td>78</td>\n",
       "      <td>257</td>\n",
       "      <td>9</td>\n",
       "      <td>https://www.zaol.hu/</td>\n",
       "      <td>zaol</td>\n",
       "    </tr>\n",
       "  </tbody>\n",
       "</table>\n",
       "</div>"
      ],
      "text/plain": [
       "    Unnamed: 0                                          Címer  \\\n",
       "0            0                          Bacs-kiskun-megye.svg   \n",
       "1            1                                    Baranya.jpg   \n",
       "2            2                 Békés departemento blazono.svg   \n",
       "3            3  Borsod-Abaúj-Zemplén departemento blazono.svg   \n",
       "4            4                      HU Csongrád megye COA.svg   \n",
       "5            5         Coa Hungary County Fejér (history).svg   \n",
       "6            6                  HUN Győr-Moson-Sopron COA.jpg   \n",
       "7            7                        HUN Hajdú-Bihar COA.svg   \n",
       "8            8                   Coa Hungary County Heves.svg   \n",
       "9            9         HUN Jász-Nagykun-Szolnok megye COA.jpg   \n",
       "10          10            HUN Komárom-Esztergom megye COA.jpg   \n",
       "11          11                  Coa Hungary County Nógrád.svg   \n",
       "12          12                         HUN Pest megye COA.jpg   \n",
       "13          13                       HUN Somogy megye COA.svg   \n",
       "14          14       HUN Szabolcs-Szatmár-Bereg megye COA.svg   \n",
       "15          15                        HUN Tolna megye COA.jpg   \n",
       "16          16                          HUN Vas megye COA.jpg   \n",
       "17          17                Coa Hungary County Veszprém.svg   \n",
       "18          18            Coa Hungary County Zala (2010-).svg   \n",
       "\n",
       "                      Megye neve                               Megyeszékhely  \\\n",
       "0              Bács-Kiskun megye     Coa Hungary Town Kecskemét.svgKecskemét   \n",
       "1                  Baranya megye               COA Hungary Town Pécs.svgPécs   \n",
       "2                    Békés megye          HUN Békéscsaba Címer.svgBékéscsaba   \n",
       "3     Borsod-Abaúj-Zemplén megye                HUN Miskolc Címer.svgMiskolc   \n",
       "4          Csongrád-Csanád megye                  HUN Szeged Címer.svgSzeged   \n",
       "5                    Fejér megye  HUN Székesfehérvár Címer.svgSzékesfehérvár   \n",
       "6        Győr-Moson-Sopron megye                      HUN Győr Címer.svgGyőr   \n",
       "7              Hajdú-Bihar megye       Coa Hungary Town Debrecen.svgDebrecen   \n",
       "8                    Heves megye                        HUN Eger COA.jpgEger   \n",
       "9     Jász-Nagykun-Szolnok megye                HUN Szolnok Címer.svgSzolnok   \n",
       "10       Komárom-Esztergom megye            HUN Tatabánya Címer.svgTatabánya   \n",
       "11                  Nógrád megye        HUN Salgótarján Címer.svgSalgótarján   \n",
       "12                    Pest megye   Coa Hungary Town Budapest big.svgBudapest   \n",
       "13                  Somogy megye       Coa Hungary Town Kaposvár.svgKaposvár   \n",
       "14  Szabolcs-Szatmár-Bereg megye        HUN Nyíregyháza Címer.svgNyíregyháza   \n",
       "15                   Tolna megye            HUN Szekszárd Címer.svgSzekszárd   \n",
       "16                     Vas megye        HUN Szombathely Címer.svgSzombathely   \n",
       "17                Veszprém megye              HUN Veszprém Címer.svgVeszprém   \n",
       "18                    Zala megye      HUN Zalaegerszeg Címer.svgZalaegerszeg   \n",
       "\n",
       "    Terület (km²)  Népesség (ezer fő)  Település  Kistérség  \\\n",
       "0            8445                 505        119         10   \n",
       "1            4430                 363        301          9   \n",
       "2            5631                 336         75          8   \n",
       "3            7247                 648        358         15   \n",
       "4            4263                 400         60          7   \n",
       "5            4359                 416        108         10   \n",
       "6            4208                 461        183          7   \n",
       "7            6211                 530         82          9   \n",
       "8            3637                 295        121          7   \n",
       "9            5582                 371         78          7   \n",
       "10           2265                 297         76          7   \n",
       "11           2546                 195        131          6   \n",
       "12           6393                1213        187         16   \n",
       "13           6036                  55        245         11   \n",
       "14           5936                  98        229         12   \n",
       "15           3703                  67        109          5   \n",
       "16           3336                  80        216          9   \n",
       "17           4493                  82        217          9   \n",
       "18           3784                  78        257          9   \n",
       "\n",
       "                          site  site_name  \n",
       "0         https://www.baon.hu/       baon  \n",
       "1         https://www.bama.hu/       bama  \n",
       "2         https://www.beol.hu/       beol  \n",
       "3         https://www.boon.hu/       boon  \n",
       "4    https://www.delmagyar.hu/  delmagyar  \n",
       "5         https://www.feol.hu/       feol  \n",
       "6    https://www.kisalfold.hu/  kisalfold  \n",
       "7         https://www.haon.hu/       haon  \n",
       "8         https://www.heol.hu/       heol  \n",
       "9      https://www.szoljon.hu/    szoljon  \n",
       "10       https://www.kemma.hu/      kemma  \n",
       "11        https://www.nool.hu/       nool  \n",
       "12  https://www.pestmegye.com/  pestmegye  \n",
       "13     https://www.sonline.hu/    sonline  \n",
       "14        https://www.szon.hu/       szon  \n",
       "15        https://www.teol.hu/       teol  \n",
       "16        https://www.vaol.hu/       vaol  \n",
       "17        https://www.veol.hu/       veol  \n",
       "18        https://www.zaol.hu/       zaol  "
      ]
     },
     "execution_count": 28,
     "metadata": {},
     "output_type": "execute_result"
    }
   ],
   "source": [
    "counties=pd.read_excel(\"/Users/benceszabo/Side/relief/data/local/counties.xlsx\")\n",
    "counties"
   ]
  },
  {
   "cell_type": "code",
   "execution_count": 29,
   "metadata": {},
   "outputs": [],
   "source": [
    "wk1.set_dataframe(counties, 'A9')"
   ]
  },
  {
   "cell_type": "code",
   "execution_count": 30,
   "metadata": {},
   "outputs": [],
   "source": [
    "from datetime import datetime\n",
    "\n",
    "# current date and time\n",
    "now = datetime.now()\n",
    "\n",
    "timestamp = datetime.timestamp(now)"
   ]
  },
  {
   "cell_type": "code",
   "execution_count": 31,
   "metadata": {},
   "outputs": [
    {
     "data": {
      "text/plain": [
       "1643701923.405726"
      ]
     },
     "execution_count": 31,
     "metadata": {},
     "output_type": "execute_result"
    }
   ],
   "source": [
    "timestamp"
   ]
  },
  {
   "cell_type": "code",
   "execution_count": 32,
   "metadata": {},
   "outputs": [
    {
     "data": {
      "text/plain": [
       "datetime.datetime(2022, 2, 1, 8, 52, 3, 405726)"
      ]
     },
     "execution_count": 32,
     "metadata": {},
     "output_type": "execute_result"
    }
   ],
   "source": [
    "now"
   ]
  },
  {
   "cell_type": "code",
   "execution_count": 44,
   "metadata": {},
   "outputs": [
    {
     "data": {
      "text/plain": [
       "'22-02-01_08-55'"
      ]
     },
     "execution_count": 44,
     "metadata": {},
     "output_type": "execute_result"
    }
   ],
   "source": [
    "import time\n",
    "timestr = time.strftime(\"%y-%m-%d_%H-%M\")\n",
    "timestr"
   ]
  },
  {
   "cell_type": "code",
   "execution_count": 49,
   "metadata": {},
   "outputs": [
    {
     "data": {
      "text/plain": [
       "'22-02-01_09-03'"
      ]
     },
     "execution_count": 49,
     "metadata": {},
     "output_type": "execute_result"
    }
   ],
   "source": [
    "time.gmtime(2)\n",
    "time.strftime(\"%y-%m-%d_%H-%M\")"
   ]
  },
  {
   "cell_type": "code",
   "execution_count": 52,
   "metadata": {},
   "outputs": [
    {
     "ename": "ValueError",
     "evalue": "No engine for filetype: ''",
     "output_type": "error",
     "traceback": [
      "\u001b[0;31m---------------------------------------------------------------------------\u001b[0m",
      "\u001b[0;31mOptionError\u001b[0m                               Traceback (most recent call last)",
      "\u001b[0;32m~/opt/miniconda3/envs/relief_sandbox/lib/python3.8/site-packages/pandas/io/excel/_base.py\u001b[0m in \u001b[0;36m__new__\u001b[0;34m(cls, path, engine, date_format, datetime_format, mode, storage_options, if_sheet_exists, engine_kwargs, **kwargs)\u001b[0m\n\u001b[1;32m    826\u001b[0m                 \u001b[0;32mtry\u001b[0m\u001b[0;34m:\u001b[0m\u001b[0;34m\u001b[0m\u001b[0;34m\u001b[0m\u001b[0m\n\u001b[0;32m--> 827\u001b[0;31m                     \u001b[0mengine\u001b[0m \u001b[0;34m=\u001b[0m \u001b[0mconfig\u001b[0m\u001b[0;34m.\u001b[0m\u001b[0mget_option\u001b[0m\u001b[0;34m(\u001b[0m\u001b[0;34mf\"io.excel.{ext}.writer\"\u001b[0m\u001b[0;34m,\u001b[0m \u001b[0msilent\u001b[0m\u001b[0;34m=\u001b[0m\u001b[0;32mTrue\u001b[0m\u001b[0;34m)\u001b[0m\u001b[0;34m\u001b[0m\u001b[0;34m\u001b[0m\u001b[0m\n\u001b[0m\u001b[1;32m    828\u001b[0m                     \u001b[0;32mif\u001b[0m \u001b[0mengine\u001b[0m \u001b[0;34m==\u001b[0m \u001b[0;34m\"auto\"\u001b[0m\u001b[0;34m:\u001b[0m\u001b[0;34m\u001b[0m\u001b[0;34m\u001b[0m\u001b[0m\n",
      "\u001b[0;32m~/opt/miniconda3/envs/relief_sandbox/lib/python3.8/site-packages/pandas/_config/config.py\u001b[0m in \u001b[0;36m__call__\u001b[0;34m(self, *args, **kwds)\u001b[0m\n\u001b[1;32m    242\u001b[0m     \u001b[0;32mdef\u001b[0m \u001b[0m__call__\u001b[0m\u001b[0;34m(\u001b[0m\u001b[0mself\u001b[0m\u001b[0;34m,\u001b[0m \u001b[0;34m*\u001b[0m\u001b[0margs\u001b[0m\u001b[0;34m,\u001b[0m \u001b[0;34m**\u001b[0m\u001b[0mkwds\u001b[0m\u001b[0;34m)\u001b[0m\u001b[0;34m:\u001b[0m\u001b[0;34m\u001b[0m\u001b[0;34m\u001b[0m\u001b[0m\n\u001b[0;32m--> 243\u001b[0;31m         \u001b[0;32mreturn\u001b[0m \u001b[0mself\u001b[0m\u001b[0;34m.\u001b[0m\u001b[0m__func__\u001b[0m\u001b[0;34m(\u001b[0m\u001b[0;34m*\u001b[0m\u001b[0margs\u001b[0m\u001b[0;34m,\u001b[0m \u001b[0;34m**\u001b[0m\u001b[0mkwds\u001b[0m\u001b[0;34m)\u001b[0m\u001b[0;34m\u001b[0m\u001b[0;34m\u001b[0m\u001b[0m\n\u001b[0m\u001b[1;32m    244\u001b[0m \u001b[0;34m\u001b[0m\u001b[0m\n",
      "\u001b[0;32m~/opt/miniconda3/envs/relief_sandbox/lib/python3.8/site-packages/pandas/_config/config.py\u001b[0m in \u001b[0;36m_get_option\u001b[0;34m(pat, silent)\u001b[0m\n\u001b[1;32m    114\u001b[0m \u001b[0;32mdef\u001b[0m \u001b[0m_get_option\u001b[0m\u001b[0;34m(\u001b[0m\u001b[0mpat\u001b[0m\u001b[0;34m:\u001b[0m \u001b[0mstr\u001b[0m\u001b[0;34m,\u001b[0m \u001b[0msilent\u001b[0m\u001b[0;34m:\u001b[0m \u001b[0mbool\u001b[0m \u001b[0;34m=\u001b[0m \u001b[0;32mFalse\u001b[0m\u001b[0;34m)\u001b[0m\u001b[0;34m:\u001b[0m\u001b[0;34m\u001b[0m\u001b[0;34m\u001b[0m\u001b[0m\n\u001b[0;32m--> 115\u001b[0;31m     \u001b[0mkey\u001b[0m \u001b[0;34m=\u001b[0m \u001b[0m_get_single_key\u001b[0m\u001b[0;34m(\u001b[0m\u001b[0mpat\u001b[0m\u001b[0;34m,\u001b[0m \u001b[0msilent\u001b[0m\u001b[0;34m)\u001b[0m\u001b[0;34m\u001b[0m\u001b[0;34m\u001b[0m\u001b[0m\n\u001b[0m\u001b[1;32m    116\u001b[0m \u001b[0;34m\u001b[0m\u001b[0m\n",
      "\u001b[0;32m~/opt/miniconda3/envs/relief_sandbox/lib/python3.8/site-packages/pandas/_config/config.py\u001b[0m in \u001b[0;36m_get_single_key\u001b[0;34m(pat, silent)\u001b[0m\n\u001b[1;32m    100\u001b[0m             \u001b[0m_warn_if_deprecated\u001b[0m\u001b[0;34m(\u001b[0m\u001b[0mpat\u001b[0m\u001b[0;34m)\u001b[0m\u001b[0;34m\u001b[0m\u001b[0;34m\u001b[0m\u001b[0m\n\u001b[0;32m--> 101\u001b[0;31m         \u001b[0;32mraise\u001b[0m \u001b[0mOptionError\u001b[0m\u001b[0;34m(\u001b[0m\u001b[0;34mf\"No such keys(s): {repr(pat)}\"\u001b[0m\u001b[0;34m)\u001b[0m\u001b[0;34m\u001b[0m\u001b[0;34m\u001b[0m\u001b[0m\n\u001b[0m\u001b[1;32m    102\u001b[0m     \u001b[0;32mif\u001b[0m \u001b[0mlen\u001b[0m\u001b[0;34m(\u001b[0m\u001b[0mkeys\u001b[0m\u001b[0;34m)\u001b[0m \u001b[0;34m>\u001b[0m \u001b[0;36m1\u001b[0m\u001b[0;34m:\u001b[0m\u001b[0;34m\u001b[0m\u001b[0;34m\u001b[0m\u001b[0m\n",
      "\u001b[0;31mOptionError\u001b[0m: \"No such keys(s): 'io.excel..writer'\"",
      "\nThe above exception was the direct cause of the following exception:\n",
      "\u001b[0;31mValueError\u001b[0m                                Traceback (most recent call last)",
      "\u001b[0;32m/var/folders/j0/y36t88xs5z1fb7hd9lzv0qt00000gn/T/ipykernel_27086/481879896.py\u001b[0m in \u001b[0;36m<module>\u001b[0;34m\u001b[0m\n\u001b[0;32m----> 1\u001b[0;31m \u001b[0mcounties\u001b[0m\u001b[0;34m.\u001b[0m\u001b[0mto_excel\u001b[0m\u001b[0;34m(\u001b[0m\u001b[0mexcel_writer\u001b[0m\u001b[0;34m=\u001b[0m\u001b[0;34m\"openpyxl\"\u001b[0m\u001b[0;34m)\u001b[0m\u001b[0;34m\u001b[0m\u001b[0;34m\u001b[0m\u001b[0m\n\u001b[0m",
      "\u001b[0;32m~/opt/miniconda3/envs/relief_sandbox/lib/python3.8/site-packages/pandas/core/generic.py\u001b[0m in \u001b[0;36mto_excel\u001b[0;34m(self, excel_writer, sheet_name, na_rep, float_format, columns, header, index, index_label, startrow, startcol, engine, merge_cells, encoding, inf_rep, verbose, freeze_panes, storage_options)\u001b[0m\n\u001b[1;32m   2282\u001b[0m             \u001b[0minf_rep\u001b[0m\u001b[0;34m=\u001b[0m\u001b[0minf_rep\u001b[0m\u001b[0;34m,\u001b[0m\u001b[0;34m\u001b[0m\u001b[0;34m\u001b[0m\u001b[0m\n\u001b[1;32m   2283\u001b[0m         )\n\u001b[0;32m-> 2284\u001b[0;31m         formatter.write(\n\u001b[0m\u001b[1;32m   2285\u001b[0m             \u001b[0mexcel_writer\u001b[0m\u001b[0;34m,\u001b[0m\u001b[0;34m\u001b[0m\u001b[0;34m\u001b[0m\u001b[0m\n\u001b[1;32m   2286\u001b[0m             \u001b[0msheet_name\u001b[0m\u001b[0;34m=\u001b[0m\u001b[0msheet_name\u001b[0m\u001b[0;34m,\u001b[0m\u001b[0;34m\u001b[0m\u001b[0;34m\u001b[0m\u001b[0m\n",
      "\u001b[0;32m~/opt/miniconda3/envs/relief_sandbox/lib/python3.8/site-packages/pandas/io/formats/excel.py\u001b[0m in \u001b[0;36mwrite\u001b[0;34m(self, writer, sheet_name, startrow, startcol, freeze_panes, engine, storage_options)\u001b[0m\n\u001b[1;32m    832\u001b[0m             \u001b[0;31m# error: Cannot instantiate abstract class 'ExcelWriter' with abstract\u001b[0m\u001b[0;34m\u001b[0m\u001b[0;34m\u001b[0m\u001b[0;34m\u001b[0m\u001b[0m\n\u001b[1;32m    833\u001b[0m             \u001b[0;31m# attributes 'engine', 'save', 'supported_extensions' and 'write_cells'\u001b[0m\u001b[0;34m\u001b[0m\u001b[0;34m\u001b[0m\u001b[0;34m\u001b[0m\u001b[0m\n\u001b[0;32m--> 834\u001b[0;31m             writer = ExcelWriter(  # type: ignore[abstract]\n\u001b[0m\u001b[1;32m    835\u001b[0m                 \u001b[0mwriter\u001b[0m\u001b[0;34m,\u001b[0m \u001b[0mengine\u001b[0m\u001b[0;34m=\u001b[0m\u001b[0mengine\u001b[0m\u001b[0;34m,\u001b[0m \u001b[0mstorage_options\u001b[0m\u001b[0;34m=\u001b[0m\u001b[0mstorage_options\u001b[0m\u001b[0;34m\u001b[0m\u001b[0;34m\u001b[0m\u001b[0m\n\u001b[1;32m    836\u001b[0m             )\n",
      "\u001b[0;32m~/opt/miniconda3/envs/relief_sandbox/lib/python3.8/site-packages/pandas/io/excel/_base.py\u001b[0m in \u001b[0;36m__new__\u001b[0;34m(cls, path, engine, date_format, datetime_format, mode, storage_options, if_sheet_exists, engine_kwargs, **kwargs)\u001b[0m\n\u001b[1;32m    829\u001b[0m                         \u001b[0mengine\u001b[0m \u001b[0;34m=\u001b[0m \u001b[0mget_default_engine\u001b[0m\u001b[0;34m(\u001b[0m\u001b[0mext\u001b[0m\u001b[0;34m,\u001b[0m \u001b[0mmode\u001b[0m\u001b[0;34m=\u001b[0m\u001b[0;34m\"writer\"\u001b[0m\u001b[0;34m)\u001b[0m\u001b[0;34m\u001b[0m\u001b[0;34m\u001b[0m\u001b[0m\n\u001b[1;32m    830\u001b[0m                 \u001b[0;32mexcept\u001b[0m \u001b[0mKeyError\u001b[0m \u001b[0;32mas\u001b[0m \u001b[0merr\u001b[0m\u001b[0;34m:\u001b[0m\u001b[0;34m\u001b[0m\u001b[0;34m\u001b[0m\u001b[0m\n\u001b[0;32m--> 831\u001b[0;31m                     \u001b[0;32mraise\u001b[0m \u001b[0mValueError\u001b[0m\u001b[0;34m(\u001b[0m\u001b[0;34mf\"No engine for filetype: '{ext}'\"\u001b[0m\u001b[0;34m)\u001b[0m \u001b[0;32mfrom\u001b[0m \u001b[0merr\u001b[0m\u001b[0;34m\u001b[0m\u001b[0;34m\u001b[0m\u001b[0m\n\u001b[0m\u001b[1;32m    832\u001b[0m \u001b[0;34m\u001b[0m\u001b[0m\n\u001b[1;32m    833\u001b[0m             \u001b[0;32mif\u001b[0m \u001b[0mengine\u001b[0m \u001b[0;34m==\u001b[0m \u001b[0;34m\"xlwt\"\u001b[0m\u001b[0;34m:\u001b[0m\u001b[0;34m\u001b[0m\u001b[0;34m\u001b[0m\u001b[0m\n",
      "\u001b[0;31mValueError\u001b[0m: No engine for filetype: ''"
     ]
    }
   ],
   "source": [
    "counties.to_excel(excel_writer=\"openpyxl\")"
   ]
  },
  {
   "cell_type": "code",
   "execution_count": null,
   "metadata": {},
   "outputs": [],
   "source": []
  }
 ],
 "metadata": {
  "interpreter": {
   "hash": "1ed379fcb060ad2a17c7c071b22fd52c95940d845c7d2670f23a000ff4c4624a"
  },
  "kernelspec": {
   "display_name": "Python 3.8.12 64-bit ('relief_sandbox': conda)",
   "language": "python",
   "name": "python3"
  },
  "language_info": {
   "codemirror_mode": {
    "name": "ipython",
    "version": 3
   },
   "file_extension": ".py",
   "mimetype": "text/x-python",
   "name": "python",
   "nbconvert_exporter": "python",
   "pygments_lexer": "ipython3",
   "version": "3.8.12"
  },
  "orig_nbformat": 4
 },
 "nbformat": 4,
 "nbformat_minor": 2
}
