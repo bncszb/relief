{
 "cells": [
  {
   "cell_type": "code",
   "execution_count": 26,
   "metadata": {},
   "outputs": [],
   "source": [
    "from datetime import datetime\n",
    "import matplotlib.pyplot as plt\n",
    "from meteostat import Point, Hourly\n",
    "\n",
    "# Set time period\n",
    "start = datetime(2020, 1, 1)\n",
    "end = datetime(2021, 12, 31, 23, 59)\n",
    "\n",
    "# Create Point for Vancouver, BC\n",
    "vancouver = Point(46.3274, 18.0636, 70)\n",
    "\n",
    "# Get daily data for 2018\n",
    "data = Hourly(vancouver, start, end)\n",
    "data = data.fetch()\n",
    "\n",
    "# Plot line chart including average, minimum and maximum temperature\n",
    "# data.plot(y=['tavg', 'tmin', 'tmax'])\n",
    "# plt.show()"
   ]
  },
  {
   "cell_type": "code",
   "execution_count": 27,
   "metadata": {},
   "outputs": [
    {
     "data": {
      "text/plain": [
       "8745"
      ]
     },
     "execution_count": 27,
     "metadata": {},
     "output_type": "execute_result"
    }
   ],
   "source": [
    "sum(data[\"prcp\"].notna())"
   ]
  },
  {
   "cell_type": "code",
   "execution_count": 28,
   "metadata": {},
   "outputs": [
    {
     "data": {
      "text/html": [
       "<div>\n",
       "<style scoped>\n",
       "    .dataframe tbody tr th:only-of-type {\n",
       "        vertical-align: middle;\n",
       "    }\n",
       "\n",
       "    .dataframe tbody tr th {\n",
       "        vertical-align: top;\n",
       "    }\n",
       "\n",
       "    .dataframe thead th {\n",
       "        text-align: right;\n",
       "    }\n",
       "</style>\n",
       "<table border=\"1\" class=\"dataframe\">\n",
       "  <thead>\n",
       "    <tr style=\"text-align: right;\">\n",
       "      <th></th>\n",
       "      <th>temp</th>\n",
       "      <th>dwpt</th>\n",
       "      <th>rhum</th>\n",
       "      <th>prcp</th>\n",
       "      <th>snow</th>\n",
       "      <th>wdir</th>\n",
       "      <th>wspd</th>\n",
       "      <th>wpgt</th>\n",
       "      <th>pres</th>\n",
       "      <th>tsun</th>\n",
       "      <th>coco</th>\n",
       "    </tr>\n",
       "  </thead>\n",
       "  <tbody>\n",
       "    <tr>\n",
       "      <th>count</th>\n",
       "      <td>17544.000000</td>\n",
       "      <td>17544.000000</td>\n",
       "      <td>17544.000000</td>\n",
       "      <td>8745.000000</td>\n",
       "      <td>0.0</td>\n",
       "      <td>17544.00000</td>\n",
       "      <td>17544.000000</td>\n",
       "      <td>17544.000000</td>\n",
       "      <td>17544.000000</td>\n",
       "      <td>0.0</td>\n",
       "      <td>17544.000000</td>\n",
       "    </tr>\n",
       "    <tr>\n",
       "      <th>mean</th>\n",
       "      <td>12.293975</td>\n",
       "      <td>6.751545</td>\n",
       "      <td>74.068741</td>\n",
       "      <td>0.072979</td>\n",
       "      <td>NaN</td>\n",
       "      <td>150.89381</td>\n",
       "      <td>7.696797</td>\n",
       "      <td>21.204469</td>\n",
       "      <td>1017.830586</td>\n",
       "      <td>NaN</td>\n",
       "      <td>3.306544</td>\n",
       "    </tr>\n",
       "    <tr>\n",
       "      <th>std</th>\n",
       "      <td>8.971011</td>\n",
       "      <td>7.022064</td>\n",
       "      <td>20.858840</td>\n",
       "      <td>0.382725</td>\n",
       "      <td>NaN</td>\n",
       "      <td>129.61977</td>\n",
       "      <td>4.700572</td>\n",
       "      <td>10.265819</td>\n",
       "      <td>8.128677</td>\n",
       "      <td>NaN</td>\n",
       "      <td>3.262949</td>\n",
       "    </tr>\n",
       "    <tr>\n",
       "      <th>min</th>\n",
       "      <td>-8.800000</td>\n",
       "      <td>-17.100000</td>\n",
       "      <td>12.000000</td>\n",
       "      <td>0.000000</td>\n",
       "      <td>NaN</td>\n",
       "      <td>0.00000</td>\n",
       "      <td>0.000000</td>\n",
       "      <td>3.700000</td>\n",
       "      <td>987.000000</td>\n",
       "      <td>NaN</td>\n",
       "      <td>0.000000</td>\n",
       "    </tr>\n",
       "    <tr>\n",
       "      <th>25%</th>\n",
       "      <td>5.000000</td>\n",
       "      <td>1.200000</td>\n",
       "      <td>58.000000</td>\n",
       "      <td>0.000000</td>\n",
       "      <td>NaN</td>\n",
       "      <td>0.00000</td>\n",
       "      <td>3.600000</td>\n",
       "      <td>13.000000</td>\n",
       "      <td>1012.500000</td>\n",
       "      <td>NaN</td>\n",
       "      <td>2.000000</td>\n",
       "    </tr>\n",
       "    <tr>\n",
       "      <th>50%</th>\n",
       "      <td>11.800000</td>\n",
       "      <td>6.700000</td>\n",
       "      <td>79.000000</td>\n",
       "      <td>0.000000</td>\n",
       "      <td>NaN</td>\n",
       "      <td>160.00000</td>\n",
       "      <td>7.200000</td>\n",
       "      <td>18.500000</td>\n",
       "      <td>1017.300000</td>\n",
       "      <td>NaN</td>\n",
       "      <td>2.000000</td>\n",
       "    </tr>\n",
       "    <tr>\n",
       "      <th>75%</th>\n",
       "      <td>18.800000</td>\n",
       "      <td>12.300000</td>\n",
       "      <td>93.000000</td>\n",
       "      <td>0.000000</td>\n",
       "      <td>NaN</td>\n",
       "      <td>270.00000</td>\n",
       "      <td>10.800000</td>\n",
       "      <td>25.900000</td>\n",
       "      <td>1023.300000</td>\n",
       "      <td>NaN</td>\n",
       "      <td>4.000000</td>\n",
       "    </tr>\n",
       "    <tr>\n",
       "      <th>max</th>\n",
       "      <td>37.600000</td>\n",
       "      <td>22.100000</td>\n",
       "      <td>100.000000</td>\n",
       "      <td>13.700000</td>\n",
       "      <td>NaN</td>\n",
       "      <td>360.00000</td>\n",
       "      <td>43.200000</td>\n",
       "      <td>97.000000</td>\n",
       "      <td>1048.400000</td>\n",
       "      <td>NaN</td>\n",
       "      <td>27.000000</td>\n",
       "    </tr>\n",
       "  </tbody>\n",
       "</table>\n",
       "</div>"
      ],
      "text/plain": [
       "               temp          dwpt          rhum         prcp  snow  \\\n",
       "count  17544.000000  17544.000000  17544.000000  8745.000000   0.0   \n",
       "mean      12.293975      6.751545     74.068741     0.072979   NaN   \n",
       "std        8.971011      7.022064     20.858840     0.382725   NaN   \n",
       "min       -8.800000    -17.100000     12.000000     0.000000   NaN   \n",
       "25%        5.000000      1.200000     58.000000     0.000000   NaN   \n",
       "50%       11.800000      6.700000     79.000000     0.000000   NaN   \n",
       "75%       18.800000     12.300000     93.000000     0.000000   NaN   \n",
       "max       37.600000     22.100000    100.000000    13.700000   NaN   \n",
       "\n",
       "              wdir          wspd          wpgt          pres  tsun  \\\n",
       "count  17544.00000  17544.000000  17544.000000  17544.000000   0.0   \n",
       "mean     150.89381      7.696797     21.204469   1017.830586   NaN   \n",
       "std      129.61977      4.700572     10.265819      8.128677   NaN   \n",
       "min        0.00000      0.000000      3.700000    987.000000   NaN   \n",
       "25%        0.00000      3.600000     13.000000   1012.500000   NaN   \n",
       "50%      160.00000      7.200000     18.500000   1017.300000   NaN   \n",
       "75%      270.00000     10.800000     25.900000   1023.300000   NaN   \n",
       "max      360.00000     43.200000     97.000000   1048.400000   NaN   \n",
       "\n",
       "               coco  \n",
       "count  17544.000000  \n",
       "mean       3.306544  \n",
       "std        3.262949  \n",
       "min        0.000000  \n",
       "25%        2.000000  \n",
       "50%        2.000000  \n",
       "75%        4.000000  \n",
       "max       27.000000  "
      ]
     },
     "execution_count": 28,
     "metadata": {},
     "output_type": "execute_result"
    }
   ],
   "source": [
    "data.describe()"
   ]
  },
  {
   "cell_type": "code",
   "execution_count": 29,
   "metadata": {},
   "outputs": [],
   "source": [
    "import meteostat"
   ]
  },
  {
   "cell_type": "code",
   "execution_count": 41,
   "metadata": {},
   "outputs": [
    {
     "data": {
      "text/plain": [
       "40"
      ]
     },
     "execution_count": 41,
     "metadata": {},
     "output_type": "execute_result"
    }
   ],
   "source": [
    "X=(46.3274, 18.0636)\n",
    "stations=meteostat.Stations()\n",
    "stations.region(\"HU\").count()"
   ]
  },
  {
   "cell_type": "code",
   "execution_count": null,
   "metadata": {},
   "outputs": [],
   "source": []
  }
 ],
 "metadata": {
  "kernelspec": {
   "display_name": "Python 3.8.12 ('relief_sandbox')",
   "language": "python",
   "name": "python3"
  },
  "language_info": {
   "codemirror_mode": {
    "name": "ipython",
    "version": 3
   },
   "file_extension": ".py",
   "mimetype": "text/x-python",
   "name": "python",
   "nbconvert_exporter": "python",
   "pygments_lexer": "ipython3",
   "version": "3.8.12"
  },
  "orig_nbformat": 4,
  "vscode": {
   "interpreter": {
    "hash": "1ed379fcb060ad2a17c7c071b22fd52c95940d845c7d2670f23a000ff4c4624a"
   }
  }
 },
 "nbformat": 4,
 "nbformat_minor": 2
}
