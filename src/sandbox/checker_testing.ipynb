{
 "cells": [
  {
   "cell_type": "code",
   "execution_count": 1,
   "metadata": {},
   "outputs": [],
   "source": [
    "import pandas as pd\n",
    "import utils.check_url as cu\n",
    "import utils.url_generator as ug"
   ]
  },
  {
   "cell_type": "code",
   "execution_count": 2,
   "metadata": {},
   "outputs": [],
   "source": [
    "url=\"https://www.haon.hu/kereses?global_filter=gyurcs%C3%A1ny\""
   ]
  },
  {
   "cell_type": "code",
   "execution_count": 3,
   "metadata": {},
   "outputs": [
    {
     "name": "stdout",
     "output_type": "stream",
     "text": [
      "Creating driver...\n",
      "Getting url...\n",
      "Results: 10\n",
      "10 órája\n",
      "https://www.haon.hu/orszag-vilag/2022/01/egeszsegugy-riogato-a-mult-arnya\n"
     ]
    },
    {
     "name": "stderr",
     "output_type": "stream",
     "text": [
      "/home/src/utils/check_url.py:143: FutureWarning: The frame.append method is deprecated and will be removed from pandas in a future version. Use pandas.concat instead.\n",
      "  results_df=results_df.append(result_dict,ignore_index=True)\n",
      "/home/src/utils/check_url.py:143: FutureWarning: The frame.append method is deprecated and will be removed from pandas in a future version. Use pandas.concat instead.\n",
      "  results_df=results_df.append(result_dict,ignore_index=True)\n"
     ]
    },
    {
     "name": "stdout",
     "output_type": "stream",
     "text": [
      "tegnap, 15:18\n",
      "https://www.haon.hu/orszag-vilag/2022/01/kitervelt-szeleskoru-tamadast-inditott-a-magyarorszagi-baloldal-a-hivo-emberek-ellen\n"
     ]
    },
    {
     "data": {
      "text/html": [
       "<div>\n",
       "<style scoped>\n",
       "    .dataframe tbody tr th:only-of-type {\n",
       "        vertical-align: middle;\n",
       "    }\n",
       "\n",
       "    .dataframe tbody tr th {\n",
       "        vertical-align: top;\n",
       "    }\n",
       "\n",
       "    .dataframe thead th {\n",
       "        text-align: right;\n",
       "    }\n",
       "</style>\n",
       "<table border=\"1\" class=\"dataframe\">\n",
       "  <thead>\n",
       "    <tr style=\"text-align: right;\">\n",
       "      <th></th>\n",
       "      <th>link</th>\n",
       "      <th>date</th>\n",
       "      <th>title</th>\n",
       "    </tr>\n",
       "  </thead>\n",
       "  <tbody>\n",
       "    <tr>\n",
       "      <th>0</th>\n",
       "      <td>https://www.haon.hu/orszag-vilag/2022/01/egesz...</td>\n",
       "      <td>10 órája</td>\n",
       "      <td>Egészségügy: riogató a múlt árnya</td>\n",
       "    </tr>\n",
       "    <tr>\n",
       "      <th>1</th>\n",
       "      <td>https://www.haon.hu/orszag-vilag/2022/01/kiter...</td>\n",
       "      <td>Tegnap, 15:18</td>\n",
       "      <td>Kitervelt, széleskörű támadást indított a magy...</td>\n",
       "    </tr>\n",
       "  </tbody>\n",
       "</table>\n",
       "</div>"
      ],
      "text/plain": [
       "                                                link           date  \\\n",
       "0  https://www.haon.hu/orszag-vilag/2022/01/egesz...       10 órája   \n",
       "1  https://www.haon.hu/orszag-vilag/2022/01/kiter...  Tegnap, 15:18   \n",
       "\n",
       "                                               title  \n",
       "0                  Egészségügy: riogató a múlt árnya  \n",
       "1  Kitervelt, széleskörű támadást indított a magy...  "
      ]
     },
     "execution_count": 3,
     "metadata": {},
     "output_type": "execute_result"
    }
   ],
   "source": [
    "cu.search_URL(url)"
   ]
  },
  {
   "cell_type": "code",
   "execution_count": 9,
   "metadata": {},
   "outputs": [],
   "source": [
    "kws=ug.get_keywords()"
   ]
  },
  {
   "cell_type": "code",
   "execution_count": 2,
   "metadata": {},
   "outputs": [
    {
     "data": {
      "text/plain": [
       "['https://www.baon.hu/kereses?global_filter=gyurcsány',\n",
       " 'https://www.bama.hu/kereses?global_filter=gyurcsány',\n",
       " 'https://www.beol.hu/kereses?global_filter=gyurcsány']"
      ]
     },
     "execution_count": 2,
     "metadata": {},
     "output_type": "execute_result"
    }
   ],
   "source": [
    "urls=ug.get_urls_for_keyword(\"gyurcsány\")[:3]\n",
    "urls"
   ]
  },
  {
   "cell_type": "code",
   "execution_count": 3,
   "metadata": {},
   "outputs": [
    {
     "name": "stdout",
     "output_type": "stream",
     "text": [
      "Creating driver...\n",
      "Getting url...\n",
      "Results: 10\n",
      "11 órája\n",
      "https://www.baon.hu/orszag-vilag/2022/01/egeszsegugy-riogato-a-mult-arnya\n"
     ]
    },
    {
     "name": "stderr",
     "output_type": "stream",
     "text": [
      "/home/src/utils/check_url.py:97: FutureWarning: The frame.append method is deprecated and will be removed from pandas in a future version. Use pandas.concat instead.\n",
      "  results_df=results_df.append(result_dict,ignore_index=True)\n"
     ]
    },
    {
     "name": "stdout",
     "output_type": "stream",
     "text": [
      "tegnap, 15:18\n",
      "https://www.baon.hu/orszag-vilag/2022/01/kitervelt-szeleskoru-tamadast-inditott-a-magyarorszagi-baloldal-a-hivo-emberek-ellen\n"
     ]
    },
    {
     "name": "stderr",
     "output_type": "stream",
     "text": [
      "/home/src/utils/check_url.py:97: FutureWarning: The frame.append method is deprecated and will be removed from pandas in a future version. Use pandas.concat instead.\n",
      "  results_df=results_df.append(result_dict,ignore_index=True)\n"
     ]
    },
    {
     "name": "stdout",
     "output_type": "stream",
     "text": [
      "Getting url...\n",
      "Results: 10\n",
      "11 órája\n",
      "https://www.bama.hu/orszag-vilag/2022/01/egeszsegugy-riogato-a-mult-arnya\n",
      "22 órája\n",
      "https://www.bama.hu/helyi-kozelet/2022/01/gyurcsany-ferenccel-is-csortezett-hoppal-peter\n"
     ]
    },
    {
     "name": "stderr",
     "output_type": "stream",
     "text": [
      "/home/src/utils/check_url.py:97: FutureWarning: The frame.append method is deprecated and will be removed from pandas in a future version. Use pandas.concat instead.\n",
      "  results_df=results_df.append(result_dict,ignore_index=True)\n",
      "/home/src/utils/check_url.py:97: FutureWarning: The frame.append method is deprecated and will be removed from pandas in a future version. Use pandas.concat instead.\n",
      "  results_df=results_df.append(result_dict,ignore_index=True)\n"
     ]
    },
    {
     "name": "stdout",
     "output_type": "stream",
     "text": [
      "tegnap, 15:18\n",
      "https://www.bama.hu/orszag-vilag/2022/01/kitervelt-szeleskoru-tamadast-inditott-a-magyarorszagi-baloldal-a-hivo-emberek-ellen\n"
     ]
    },
    {
     "name": "stderr",
     "output_type": "stream",
     "text": [
      "/home/src/utils/check_url.py:97: FutureWarning: The frame.append method is deprecated and will be removed from pandas in a future version. Use pandas.concat instead.\n",
      "  results_df=results_df.append(result_dict,ignore_index=True)\n"
     ]
    },
    {
     "name": "stdout",
     "output_type": "stream",
     "text": [
      "Getting url...\n",
      "Results: 10\n",
      "11 órája\n",
      "https://www.beol.hu/orszag-vilag/2022/01/egeszsegugy-riogato-a-mult-arnya\n"
     ]
    },
    {
     "name": "stderr",
     "output_type": "stream",
     "text": [
      "/home/src/utils/check_url.py:97: FutureWarning: The frame.append method is deprecated and will be removed from pandas in a future version. Use pandas.concat instead.\n",
      "  results_df=results_df.append(result_dict,ignore_index=True)\n",
      "/home/src/utils/check_url.py:97: FutureWarning: The frame.append method is deprecated and will be removed from pandas in a future version. Use pandas.concat instead.\n",
      "  results_df=results_df.append(result_dict,ignore_index=True)\n"
     ]
    },
    {
     "name": "stdout",
     "output_type": "stream",
     "text": [
      "tegnap, 15:18\n",
      "https://www.beol.hu/orszag-vilag/2022/01/kitervelt-szeleskoru-tamadast-inditott-a-magyarorszagi-baloldal-a-hivo-emberek-ellen\n"
     ]
    },
    {
     "data": {
      "text/html": [
       "<div>\n",
       "<style scoped>\n",
       "    .dataframe tbody tr th:only-of-type {\n",
       "        vertical-align: middle;\n",
       "    }\n",
       "\n",
       "    .dataframe tbody tr th {\n",
       "        vertical-align: top;\n",
       "    }\n",
       "\n",
       "    .dataframe thead th {\n",
       "        text-align: right;\n",
       "    }\n",
       "</style>\n",
       "<table border=\"1\" class=\"dataframe\">\n",
       "  <thead>\n",
       "    <tr style=\"text-align: right;\">\n",
       "      <th></th>\n",
       "      <th>link</th>\n",
       "      <th>date</th>\n",
       "      <th>title</th>\n",
       "    </tr>\n",
       "  </thead>\n",
       "  <tbody>\n",
       "    <tr>\n",
       "      <th>0</th>\n",
       "      <td>https://www.baon.hu/orszag-vilag/2022/01/egesz...</td>\n",
       "      <td>11 órája</td>\n",
       "      <td>Egészségügy: riogató a múlt árnya</td>\n",
       "    </tr>\n",
       "    <tr>\n",
       "      <th>1</th>\n",
       "      <td>https://www.baon.hu/orszag-vilag/2022/01/kiter...</td>\n",
       "      <td>Tegnap, 15:18</td>\n",
       "      <td>Kitervelt, széleskörű támadást indított a magy...</td>\n",
       "    </tr>\n",
       "    <tr>\n",
       "      <th>0</th>\n",
       "      <td>https://www.bama.hu/orszag-vilag/2022/01/egesz...</td>\n",
       "      <td>11 órája</td>\n",
       "      <td>Egészségügy: riogató a múlt árnya</td>\n",
       "    </tr>\n",
       "    <tr>\n",
       "      <th>1</th>\n",
       "      <td>https://www.bama.hu/helyi-kozelet/2022/01/gyur...</td>\n",
       "      <td>22 órája</td>\n",
       "      <td>Gyurcsány Ferenccel is csörtézett Hoppál Péter</td>\n",
       "    </tr>\n",
       "    <tr>\n",
       "      <th>2</th>\n",
       "      <td>https://www.bama.hu/orszag-vilag/2022/01/kiter...</td>\n",
       "      <td>Tegnap, 15:18</td>\n",
       "      <td>Kitervelt, széleskörű támadást indított a magy...</td>\n",
       "    </tr>\n",
       "    <tr>\n",
       "      <th>0</th>\n",
       "      <td>https://www.beol.hu/orszag-vilag/2022/01/egesz...</td>\n",
       "      <td>11 órája</td>\n",
       "      <td>Egészségügy: riogató a múlt árnya</td>\n",
       "    </tr>\n",
       "    <tr>\n",
       "      <th>1</th>\n",
       "      <td>https://www.beol.hu/orszag-vilag/2022/01/kiter...</td>\n",
       "      <td>Tegnap, 15:18</td>\n",
       "      <td>Kitervelt, széleskörű támadást indított a magy...</td>\n",
       "    </tr>\n",
       "  </tbody>\n",
       "</table>\n",
       "</div>"
      ],
      "text/plain": [
       "                                                link           date  \\\n",
       "0  https://www.baon.hu/orszag-vilag/2022/01/egesz...       11 órája   \n",
       "1  https://www.baon.hu/orszag-vilag/2022/01/kiter...  Tegnap, 15:18   \n",
       "0  https://www.bama.hu/orszag-vilag/2022/01/egesz...       11 órája   \n",
       "1  https://www.bama.hu/helyi-kozelet/2022/01/gyur...       22 órája   \n",
       "2  https://www.bama.hu/orszag-vilag/2022/01/kiter...  Tegnap, 15:18   \n",
       "0  https://www.beol.hu/orszag-vilag/2022/01/egesz...       11 órája   \n",
       "1  https://www.beol.hu/orszag-vilag/2022/01/kiter...  Tegnap, 15:18   \n",
       "\n",
       "                                               title  \n",
       "0                  Egészségügy: riogató a múlt árnya  \n",
       "1  Kitervelt, széleskörű támadást indított a magy...  \n",
       "0                  Egészségügy: riogató a múlt árnya  \n",
       "1     Gyurcsány Ferenccel is csörtézett Hoppál Péter  \n",
       "2  Kitervelt, széleskörű támadást indított a magy...  \n",
       "0                  Egészségügy: riogató a múlt árnya  \n",
       "1  Kitervelt, széleskörű támadást indított a magy...  "
      ]
     },
     "execution_count": 3,
     "metadata": {},
     "output_type": "execute_result"
    }
   ],
   "source": [
    "cu.search_URLs(urls)"
   ]
  },
  {
   "cell_type": "code",
   "execution_count": 6,
   "metadata": {},
   "outputs": [
    {
     "name": "stdout",
     "output_type": "stream",
     "text": [
      "Creating driver...\n",
      "Getting url...\n",
      "Results: 10\n",
      "10 órája\n",
      "https://www.baon.hu/orszag-vilag/2022/01/egeszsegugy-riogato-a-mult-arnya\n"
     ]
    },
    {
     "name": "stderr",
     "output_type": "stream",
     "text": [
      "/home/src/utils/check_url.py:73: FutureWarning: The frame.append method is deprecated and will be removed from pandas in a future version. Use pandas.concat instead.\n",
      "  results_df=results_df.append(result_dict,ignore_index=True)\n"
     ]
    },
    {
     "name": "stdout",
     "output_type": "stream",
     "text": [
      "tegnap, 15:18\n",
      "https://www.baon.hu/orszag-vilag/2022/01/kitervelt-szeleskoru-tamadast-inditott-a-magyarorszagi-baloldal-a-hivo-emberek-ellen\n"
     ]
    },
    {
     "name": "stderr",
     "output_type": "stream",
     "text": [
      "/home/src/utils/check_url.py:73: FutureWarning: The frame.append method is deprecated and will be removed from pandas in a future version. Use pandas.concat instead.\n",
      "  results_df=results_df.append(result_dict,ignore_index=True)\n"
     ]
    },
    {
     "name": "stdout",
     "output_type": "stream",
     "text": [
      "Creating driver...\n",
      "Getting url...\n",
      "Results: 10\n",
      "10 órája\n",
      "https://www.bama.hu/orszag-vilag/2022/01/egeszsegugy-riogato-a-mult-arnya\n"
     ]
    },
    {
     "name": "stderr",
     "output_type": "stream",
     "text": [
      "/home/src/utils/check_url.py:73: FutureWarning: The frame.append method is deprecated and will be removed from pandas in a future version. Use pandas.concat instead.\n",
      "  results_df=results_df.append(result_dict,ignore_index=True)\n"
     ]
    },
    {
     "name": "stdout",
     "output_type": "stream",
     "text": [
      "22 órája\n",
      "https://www.bama.hu/helyi-kozelet/2022/01/gyurcsany-ferenccel-is-csortezett-hoppal-peter\n",
      "tegnap, 15:18\n",
      "https://www.bama.hu/orszag-vilag/2022/01/kitervelt-szeleskoru-tamadast-inditott-a-magyarorszagi-baloldal-a-hivo-emberek-ellen\n"
     ]
    },
    {
     "name": "stderr",
     "output_type": "stream",
     "text": [
      "/home/src/utils/check_url.py:73: FutureWarning: The frame.append method is deprecated and will be removed from pandas in a future version. Use pandas.concat instead.\n",
      "  results_df=results_df.append(result_dict,ignore_index=True)\n",
      "/home/src/utils/check_url.py:73: FutureWarning: The frame.append method is deprecated and will be removed from pandas in a future version. Use pandas.concat instead.\n",
      "  results_df=results_df.append(result_dict,ignore_index=True)\n"
     ]
    },
    {
     "name": "stdout",
     "output_type": "stream",
     "text": [
      "Creating driver...\n",
      "Getting url...\n",
      "Results: 10\n",
      "10 órája\n",
      "https://www.beol.hu/orszag-vilag/2022/01/egeszsegugy-riogato-a-mult-arnya\n"
     ]
    },
    {
     "name": "stderr",
     "output_type": "stream",
     "text": [
      "/home/src/utils/check_url.py:73: FutureWarning: The frame.append method is deprecated and will be removed from pandas in a future version. Use pandas.concat instead.\n",
      "  results_df=results_df.append(result_dict,ignore_index=True)\n"
     ]
    },
    {
     "name": "stdout",
     "output_type": "stream",
     "text": [
      "tegnap, 15:18\n",
      "https://www.beol.hu/orszag-vilag/2022/01/kitervelt-szeleskoru-tamadast-inditott-a-magyarorszagi-baloldal-a-hivo-emberek-ellen\n"
     ]
    },
    {
     "name": "stderr",
     "output_type": "stream",
     "text": [
      "/home/src/utils/check_url.py:73: FutureWarning: The frame.append method is deprecated and will be removed from pandas in a future version. Use pandas.concat instead.\n",
      "  results_df=results_df.append(result_dict,ignore_index=True)\n"
     ]
    }
   ],
   "source": [
    "res=[]\n",
    "for url in urls:\n",
    "    res.append(cu.search_URL(url))\n"
   ]
  },
  {
   "cell_type": "code",
   "execution_count": 7,
   "metadata": {},
   "outputs": [
    {
     "data": {
      "text/html": [
       "<div>\n",
       "<style scoped>\n",
       "    .dataframe tbody tr th:only-of-type {\n",
       "        vertical-align: middle;\n",
       "    }\n",
       "\n",
       "    .dataframe tbody tr th {\n",
       "        vertical-align: top;\n",
       "    }\n",
       "\n",
       "    .dataframe thead th {\n",
       "        text-align: right;\n",
       "    }\n",
       "</style>\n",
       "<table border=\"1\" class=\"dataframe\">\n",
       "  <thead>\n",
       "    <tr style=\"text-align: right;\">\n",
       "      <th></th>\n",
       "      <th>link</th>\n",
       "      <th>date</th>\n",
       "      <th>title</th>\n",
       "    </tr>\n",
       "  </thead>\n",
       "  <tbody>\n",
       "    <tr>\n",
       "      <th>0</th>\n",
       "      <td>https://www.baon.hu/orszag-vilag/2022/01/egesz...</td>\n",
       "      <td>10 órája</td>\n",
       "      <td>Egészségügy: riogató a múlt árnya</td>\n",
       "    </tr>\n",
       "    <tr>\n",
       "      <th>1</th>\n",
       "      <td>https://www.baon.hu/orszag-vilag/2022/01/kiter...</td>\n",
       "      <td>Tegnap, 15:18</td>\n",
       "      <td>Kitervelt, széleskörű támadást indított a magy...</td>\n",
       "    </tr>\n",
       "    <tr>\n",
       "      <th>0</th>\n",
       "      <td>https://www.bama.hu/orszag-vilag/2022/01/egesz...</td>\n",
       "      <td>10 órája</td>\n",
       "      <td>Egészségügy: riogató a múlt árnya</td>\n",
       "    </tr>\n",
       "    <tr>\n",
       "      <th>1</th>\n",
       "      <td>https://www.bama.hu/helyi-kozelet/2022/01/gyur...</td>\n",
       "      <td>22 órája</td>\n",
       "      <td>Gyurcsány Ferenccel is csörtézett Hoppál Péter</td>\n",
       "    </tr>\n",
       "    <tr>\n",
       "      <th>2</th>\n",
       "      <td>https://www.bama.hu/orszag-vilag/2022/01/kiter...</td>\n",
       "      <td>Tegnap, 15:18</td>\n",
       "      <td>Kitervelt, széleskörű támadást indított a magy...</td>\n",
       "    </tr>\n",
       "    <tr>\n",
       "      <th>0</th>\n",
       "      <td>https://www.beol.hu/orszag-vilag/2022/01/egesz...</td>\n",
       "      <td>10 órája</td>\n",
       "      <td>Egészségügy: riogató a múlt árnya</td>\n",
       "    </tr>\n",
       "    <tr>\n",
       "      <th>1</th>\n",
       "      <td>https://www.beol.hu/orszag-vilag/2022/01/kiter...</td>\n",
       "      <td>Tegnap, 15:18</td>\n",
       "      <td>Kitervelt, széleskörű támadást indított a magy...</td>\n",
       "    </tr>\n",
       "  </tbody>\n",
       "</table>\n",
       "</div>"
      ],
      "text/plain": [
       "                                                link           date  \\\n",
       "0  https://www.baon.hu/orszag-vilag/2022/01/egesz...       10 órája   \n",
       "1  https://www.baon.hu/orszag-vilag/2022/01/kiter...  Tegnap, 15:18   \n",
       "0  https://www.bama.hu/orszag-vilag/2022/01/egesz...       10 órája   \n",
       "1  https://www.bama.hu/helyi-kozelet/2022/01/gyur...       22 órája   \n",
       "2  https://www.bama.hu/orszag-vilag/2022/01/kiter...  Tegnap, 15:18   \n",
       "0  https://www.beol.hu/orszag-vilag/2022/01/egesz...       10 órája   \n",
       "1  https://www.beol.hu/orszag-vilag/2022/01/kiter...  Tegnap, 15:18   \n",
       "\n",
       "                                               title  \n",
       "0                  Egészségügy: riogató a múlt árnya  \n",
       "1  Kitervelt, széleskörű támadást indított a magy...  \n",
       "0                  Egészségügy: riogató a múlt árnya  \n",
       "1     Gyurcsány Ferenccel is csörtézett Hoppál Péter  \n",
       "2  Kitervelt, széleskörű támadást indított a magy...  \n",
       "0                  Egészségügy: riogató a múlt árnya  \n",
       "1  Kitervelt, széleskörű támadást indított a magy...  "
      ]
     },
     "execution_count": 7,
     "metadata": {},
     "output_type": "execute_result"
    }
   ],
   "source": [
    "pd.concat(res)"
   ]
  },
  {
   "cell_type": "code",
   "execution_count": null,
   "metadata": {},
   "outputs": [],
   "source": []
  }
 ],
 "metadata": {
  "interpreter": {
   "hash": "949777d72b0d2535278d3dc13498b2535136f6dfe0678499012e853ee9abcab1"
  },
  "kernelspec": {
   "display_name": "Python 3.9.9 64-bit",
   "language": "python",
   "name": "python3"
  },
  "language_info": {
   "codemirror_mode": {
    "name": "ipython",
    "version": 3
   },
   "file_extension": ".py",
   "mimetype": "text/x-python",
   "name": "python",
   "nbconvert_exporter": "python",
   "pygments_lexer": "ipython3",
   "version": "3.9.9"
  },
  "orig_nbformat": 4
 },
 "nbformat": 4,
 "nbformat_minor": 2
}
