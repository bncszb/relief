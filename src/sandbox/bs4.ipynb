{
 "cells": [
  {
   "cell_type": "code",
   "execution_count": 2,
   "metadata": {},
   "outputs": [],
   "source": [
    "import bs4\n",
    "import requests\n",
    "\n",
    "import pandas as pd\n",
    "\n"
   ]
  },
  {
   "cell_type": "code",
   "execution_count": 4,
   "metadata": {},
   "outputs": [
    {
     "data": {
      "text/html": [
       "<div>\n",
       "<style scoped>\n",
       "    .dataframe tbody tr th:only-of-type {\n",
       "        vertical-align: middle;\n",
       "    }\n",
       "\n",
       "    .dataframe tbody tr th {\n",
       "        vertical-align: top;\n",
       "    }\n",
       "\n",
       "    .dataframe thead th {\n",
       "        text-align: right;\n",
       "    }\n",
       "</style>\n",
       "<table border=\"1\" class=\"dataframe\">\n",
       "  <thead>\n",
       "    <tr style=\"text-align: right;\">\n",
       "      <th></th>\n",
       "      <th>Unnamed: 0</th>\n",
       "      <th>Címer</th>\n",
       "      <th>Megye neve</th>\n",
       "      <th>Megyeszékhely</th>\n",
       "      <th>Terület (km²)</th>\n",
       "      <th>Népesség (ezer fő)</th>\n",
       "      <th>Település</th>\n",
       "      <th>Kistérség</th>\n",
       "      <th>site</th>\n",
       "      <th>site_name</th>\n",
       "    </tr>\n",
       "  </thead>\n",
       "  <tbody>\n",
       "    <tr>\n",
       "      <th>0</th>\n",
       "      <td>0</td>\n",
       "      <td>Bacs-kiskun-megye.svg</td>\n",
       "      <td>Bács-Kiskun megye</td>\n",
       "      <td>Coa Hungary Town Kecskemét.svgKecskemét</td>\n",
       "      <td>8445</td>\n",
       "      <td>505</td>\n",
       "      <td>119</td>\n",
       "      <td>10</td>\n",
       "      <td>https://www.baon.hu/</td>\n",
       "      <td>baon</td>\n",
       "    </tr>\n",
       "    <tr>\n",
       "      <th>1</th>\n",
       "      <td>1</td>\n",
       "      <td>Baranya.jpg</td>\n",
       "      <td>Baranya megye</td>\n",
       "      <td>COA Hungary Town Pécs.svgPécs</td>\n",
       "      <td>4430</td>\n",
       "      <td>363</td>\n",
       "      <td>301</td>\n",
       "      <td>9</td>\n",
       "      <td>https://www.bama.hu/</td>\n",
       "      <td>bama</td>\n",
       "    </tr>\n",
       "    <tr>\n",
       "      <th>2</th>\n",
       "      <td>2</td>\n",
       "      <td>Békés departemento blazono.svg</td>\n",
       "      <td>Békés megye</td>\n",
       "      <td>HUN Békéscsaba Címer.svgBékéscsaba</td>\n",
       "      <td>5631</td>\n",
       "      <td>336</td>\n",
       "      <td>75</td>\n",
       "      <td>8</td>\n",
       "      <td>https://www.beol.hu/</td>\n",
       "      <td>beol</td>\n",
       "    </tr>\n",
       "    <tr>\n",
       "      <th>3</th>\n",
       "      <td>3</td>\n",
       "      <td>Borsod-Abaúj-Zemplén departemento blazono.svg</td>\n",
       "      <td>Borsod-Abaúj-Zemplén megye</td>\n",
       "      <td>HUN Miskolc Címer.svgMiskolc</td>\n",
       "      <td>7247</td>\n",
       "      <td>648</td>\n",
       "      <td>358</td>\n",
       "      <td>15</td>\n",
       "      <td>https://www.boon.hu/</td>\n",
       "      <td>boon</td>\n",
       "    </tr>\n",
       "    <tr>\n",
       "      <th>4</th>\n",
       "      <td>4</td>\n",
       "      <td>HU Csongrád megye COA.svg</td>\n",
       "      <td>Csongrád-Csanád megye</td>\n",
       "      <td>HUN Szeged Címer.svgSzeged</td>\n",
       "      <td>4263</td>\n",
       "      <td>400</td>\n",
       "      <td>60</td>\n",
       "      <td>7</td>\n",
       "      <td>https://www.delmagyar.hu/</td>\n",
       "      <td>delmagyar</td>\n",
       "    </tr>\n",
       "  </tbody>\n",
       "</table>\n",
       "</div>"
      ],
      "text/plain": [
       "   Unnamed: 0                                          Címer  \\\n",
       "0           0                          Bacs-kiskun-megye.svg   \n",
       "1           1                                    Baranya.jpg   \n",
       "2           2                 Békés departemento blazono.svg   \n",
       "3           3  Borsod-Abaúj-Zemplén departemento blazono.svg   \n",
       "4           4                      HU Csongrád megye COA.svg   \n",
       "\n",
       "                   Megye neve                            Megyeszékhely  \\\n",
       "0           Bács-Kiskun megye  Coa Hungary Town Kecskemét.svgKecskemét   \n",
       "1               Baranya megye            COA Hungary Town Pécs.svgPécs   \n",
       "2                 Békés megye       HUN Békéscsaba Címer.svgBékéscsaba   \n",
       "3  Borsod-Abaúj-Zemplén megye             HUN Miskolc Címer.svgMiskolc   \n",
       "4       Csongrád-Csanád megye               HUN Szeged Címer.svgSzeged   \n",
       "\n",
       "   Terület (km²)  Népesség (ezer fő)  Település  Kistérség  \\\n",
       "0           8445                 505        119         10   \n",
       "1           4430                 363        301          9   \n",
       "2           5631                 336         75          8   \n",
       "3           7247                 648        358         15   \n",
       "4           4263                 400         60          7   \n",
       "\n",
       "                        site  site_name  \n",
       "0       https://www.baon.hu/       baon  \n",
       "1       https://www.bama.hu/       bama  \n",
       "2       https://www.beol.hu/       beol  \n",
       "3       https://www.boon.hu/       boon  \n",
       "4  https://www.delmagyar.hu/  delmagyar  "
      ]
     },
     "execution_count": 4,
     "metadata": {},
     "output_type": "execute_result"
    }
   ],
   "source": [
    "site_df=pd.read_excel(\"/Users/benceszabo/Side/relief/data/local/counties.xlsx\")\n",
    "site_df.head()"
   ]
  },
  {
   "cell_type": "code",
   "execution_count": 5,
   "metadata": {},
   "outputs": [
    {
     "data": {
      "text/plain": [
       "<Response [200]>"
      ]
     },
     "execution_count": 5,
     "metadata": {},
     "output_type": "execute_result"
    }
   ],
   "source": [
    "url=\"https://www.baon.hu/\"\n",
    "\n",
    "html=requests.get(url)\n",
    "html"
   ]
  },
  {
   "cell_type": "code",
   "execution_count": 7,
   "metadata": {},
   "outputs": [],
   "source": [
    "soup = bs4.BeautifulSoup(html.text)"
   ]
  },
  {
   "cell_type": "code",
   "execution_count": 19,
   "metadata": {},
   "outputs": [
    {
     "data": {
      "text/plain": [
       "100"
      ]
     },
     "execution_count": 19,
     "metadata": {},
     "output_type": "execute_result"
    }
   ],
   "source": [
    "titles=soup.find_all(class_=\"article-title\")\n",
    "len(titles)"
   ]
  },
  {
   "cell_type": "code",
   "execution_count": 20,
   "metadata": {},
   "outputs": [
    {
     "data": {
      "text/plain": [
       "[<h2 _ngcontent-sc13=\"\" class=\"article-title\">Együtt képviselte hazáját a táncospár az izraeli világbajnokságon</h2>,\n",
       " <h2 _ngcontent-sc13=\"\" class=\"article-title\">Együtt képviselte hazáját a táncospár az izraeli világbajnokságon</h2>,\n",
       " <h2 _ngcontent-sc13=\"\" class=\"article-title\">Egy ember életét vesztette a Kiskunfélegyháza és Tiszaalpár között történt balesetben</h2>,\n",
       " <h2 _ngcontent-sc13=\"\" class=\"article-title\">Egy ember életét vesztette a Kiskunfélegyháza és Tiszaalpár között történt balesetben</h2>,\n",
       " <h2 _ngcontent-sc13=\"\" class=\"article-title\">Baloldali szavazók szedték ízekre Márki-Zay Pétert</h2>,\n",
       " <h2 _ngcontent-sc13=\"\" class=\"article-title\">Baloldali szavazók szedték ízekre Márki-Zay Pétert</h2>,\n",
       " <h2 _ngcontent-sc13=\"\" class=\"article-title\"><!-- --> Két autó ütközött össze Kocséron <!-- --></h2>,\n",
       " <h2 _ngcontent-sc13=\"\" class=\"article-title\"><!-- --> Így élhetünk együtt a szobanövényekkel <!-- --></h2>,\n",
       " <h2 _ngcontent-sc13=\"\" class=\"article-title\"><!-- --> Teljes esztelenség Márki-Zay Péter kijelentése <!-- --></h2>,\n",
       " <h2 _ngcontent-sc13=\"\" class=\"article-title\"><!-- --> Márki-Zay Péter az idős embereket jelölte ki új ellenségének <!-- --></h2>,\n",
       " <h2 _ngcontent-sc13=\"\" class=\"article-title\">Így válasszon cipőt, ha meg szeretné óvni lábát a durva elváltozásoktól!</h2>,\n",
       " <h2 _ngcontent-sc13=\"\" class=\"article-title\">Nosztalgiával emlékeznek olvasóink a régi szép időkre</h2>,\n",
       " <h2 _ngcontent-sc13=\"\" class=\"article-title\">Márki-Zay választási kalkulációiban visszatérő elem az idősek elhalálozása</h2>,\n",
       " <h2 _ngcontent-sc13=\"\" class=\"article-title\"><!-- --> Rengeteg vitamint tartalmaz a gránátalma <!-- --></h2>,\n",
       " <h2 _ngcontent-sc13=\"\" class=\"article-title\"><!-- --> Tündérszépek: 10 érv a jelentkezés mellett <!-- --></h2>,\n",
       " <h2 _ngcontent-sc13=\"\" class=\"article-title\"><!-- --> Hétfőn helyenként kialakulhat kisebb eső, zápor <!-- --></h2>,\n",
       " <h2 _ngcontent-sc13=\"\" class=\"article-title\">Megválasztották az év halát</h2>,\n",
       " <h2 _ngcontent-sc13=\"\" class=\"article-title\">Véradások Bács-Kiskun megyében január 3–9. között</h2>,\n",
       " <h2 _ngcontent-sc13=\"\" class=\"article-title\">Fontos az ifjúság nevelése a kerekegyházi tűzoltó-egyesület számára</h2>,\n",
       " <h2 _ngcontent-sc13=\"\" class=\"article-title\">A válsághelyzetben sem hagyták magukra az időseket</h2>,\n",
       " <h2 _ngcontent-sc13=\"\" class=\"article-title\">Négy autó ütközött össze a 44-esen, Lakiteleknél</h2>,\n",
       " <h2 _ngcontent-sc13=\"\" class=\"article-title\">Ötvenegy határsértőt tartóztattak fel a Bács-Kiskun megyei rendőrök</h2>,\n",
       " <h2 _ngcontent-sc13=\"\" class=\"article-title\">Ezeken a helyeken lassíthatják közúti munkálatok a forgalmat Bács-Kiskunban</h2>,\n",
       " <h2 _ngcontent-sc13=\"\" class=\"article-title\">Ingatlanajánló: Vegyen csárdát Kecskeméten!</h2>,\n",
       " <h2 _ngcontent-sc13=\"\" class=\"article-title\">Bajára is megérkezett az első baba</h2>,\n",
       " <h2 _ngcontent-sc13=\"\" class=\"article-title\">Bajára is megérkezett az első baba</h2>,\n",
       " <h2 _ngcontent-sc13=\"\" class=\"article-title\"><!-- --> Ezek a cikkek voltak a legnépszerűbbek olvasóink körében 2021-ben <!-- --></h2>,\n",
       " <h2 _ngcontent-sc13=\"\" class=\"article-title\">Szentkirályi Alexandra: jelentős béremelésekkel indul 2022 (videó)</h2>,\n",
       " <h2 _ngcontent-sc13=\"\" class=\"article-title\">Márki-Zay Péter programja: a vidéki emberek másodrangúak</h2>,\n",
       " <h2 _ngcontent-sc13=\"\" class=\"article-title\">Sikeres esztendő áll a Bács-Kiskun megyei polgárőrök mögött</h2>,\n",
       " <h2 _ngcontent-sc13=\"\" class=\"article-title\">Nem lesz hiány a hosszú hétvégékből 2022-ben sem</h2>,\n",
       " <h2 _ngcontent-sc13=\"\" class=\"article-title\"><!-- --> Szünetel a temetésfelvétel a kecskeméti köztemető Béke fasori ügyfélszolgálatán <!-- --></h2>,\n",
       " <h2 _ngcontent-sc13=\"\" class=\"article-title\"><!-- --> Januárban kétszer viszik el a fenyőfákat ingyen Bácsszentgyörgyön <!-- --></h2>,\n",
       " <h2 _ngcontent-sc13=\"\" class=\"article-title\"><!-- --> Közmeghallgatást tartanak Solton <!-- --></h2>,\n",
       " <h2 _ngcontent-sc13=\"\" class=\"article-title\"><!-- --> Januárban Tompán  is ellenőrzik a társasházak kéményeit <!-- --></h2>,\n",
       " <h2 _ngcontent-sc13=\"\" class=\"article-title\">Rohamrendőrök oszlattak fel Amszterdamban egy korlátozások elleni tüntetést</h2>,\n",
       " <h2 _ngcontent-sc13=\"\" class=\"article-title\">Angliában maszkot kell viselniük a középiskolásoknak az omikron miatt</h2>,\n",
       " <h2 _ngcontent-sc13=\"\" class=\"article-title\">Az ország, ahol mindenki be van oltva: gyakorlatilag nincs halálozás</h2>,\n",
       " <h2 _ngcontent-sc13=\"\" class=\"article-title\">Varga Judit: nagy felelősség sorsdöntő időkben</h2>,\n",
       " <h2 _ngcontent-sc13=\"\" class=\"article-title\">Franciaország módosítja a karanténkövetelményeket</h2>,\n",
       " <h2 _ngcontent-sc13=\"\" class=\"article-title\">Kigyulladt a dél-afrikai parlament épülete Fokvárosban</h2>,\n",
       " <h2 _ngcontent-sc13=\"\" class=\"article-title\">„Nem hagyjuk, hogy Magyarországon a keresztényeket támadás érje!”</h2>,\n",
       " <h2 _ngcontent-sc13=\"\" class=\"article-title\">Márki-Zay halálkampánya: az idős szavazókat megtizedelte a Covid</h2>,\n",
       " <h2 _ngcontent-sc13=\"\" class=\"article-title\">Ferenc pápa: az anyák képesek békét teremteni az élet és a világ nehézségeiben</h2>,\n",
       " <h2 _ngcontent-sc13=\"\" class=\"article-title\">Tapolcai halálos tragédia: életben van és stabil az állapota a 17 éves lánynak</h2>,\n",
       " <h2 _ngcontent-sc13=\"\" class=\"article-title\">Tapolcai halálos tragédia: életben van és stabil az állapota a 17 éves lánynak</h2>,\n",
       " <h2 _ngcontent-sc13=\"\" class=\"article-title\"><!-- --> Szörnyű balesettel kezdődött az év: négy fiatal meghalt, amikor vonattal ütközött az autójuk Tapolcánál <!-- --></h2>,\n",
       " <h2 _ngcontent-sc13=\"\" class=\"article-title\"><!-- --> Családi dráma: újév reggelén ölte meg a feleségét egy férfi Ököritófülpösön <!-- --></h2>,\n",
       " <h2 _ngcontent-sc13=\"\" class=\"article-title\"><!-- --> Így telt a tűzoltók szilvesztere Bács-Kiskun megyében <!-- --></h2>,\n",
       " <h2 _ngcontent-sc13=\"\" class=\"article-title\"> Tűzesetek, balesetek és szén-monoxid-mérgezés az év utolsó napján</h2>,\n",
       " <h2 _ngcontent-sc13=\"\" class=\"article-title\">Nagy jövő előtt a kécskei Lovas ikrek</h2>,\n",
       " <h2 _ngcontent-sc13=\"\" class=\"article-title\">Nagy jövő előtt a kécskei Lovas ikrek</h2>,\n",
       " <h2 _ngcontent-sc13=\"\" class=\"article-title\">A Getafe legyőzte a Real Madridot</h2>,\n",
       " <h2 _ngcontent-sc13=\"\" class=\"article-title\">Lionel Messi és több csapattársa karanténba került</h2>,\n",
       " <h2 _ngcontent-sc13=\"\" class=\"article-title\">A St. Louis nyerte a leghidegebb szabadtéri meccset</h2>,\n",
       " <h2 _ngcontent-sc13=\"\" class=\"article-title\">Jani Réka a selejtező első fordulójában búcsúzott</h2>,\n",
       " <h2 _ngcontent-sc13=\"\" class=\"article-title\"><!-- --> Maldini szerint a Milannak költöznie kell a sikeres jövő érdekében <!-- --></h2>,\n",
       " <h2 _ngcontent-sc13=\"\" class=\"article-title\"><!-- --> Al-Attijah volt a leggyorsabb a prológon <!-- --></h2>,\n",
       " <h2 _ngcontent-sc13=\"\" class=\"article-title\"><!-- --> Schäfer András nyerte a Magyar Aranylabdát <!-- --></h2>,\n",
       " <h2 _ngcontent-sc13=\"\" class=\"article-title\"><!-- --> Kihagyja az Australian Open melbourne-i felvezetőjét Emma Raducanu <!-- --></h2>,\n",
       " <h2 _ngcontent-sc13=\"\" class=\"article-title\">Jó úton jár a BÁCSVÍZ KVSC</h2>,\n",
       " <h2 _ngcontent-sc13=\"\" class=\"article-title\">Jánoshalmán az első hely a cél</h2>,\n",
       " <h2 _ngcontent-sc13=\"\" class=\"article-title\">Tollforgató focisták: így tudósítanak ők, Kunfehértón</h2>,\n",
       " <h2 _ngcontent-sc13=\"\" class=\"article-title\">Szívszorító búcsú Babicsek Bernáttól: „Rengeteg tervünk volt veled”</h2>,\n",
       " <h2 _ngcontent-sc13=\"\" class=\"article-title\">Szívszorító búcsú Babicsek Bernáttól: „Rengeteg tervünk volt veled”</h2>,\n",
       " <h2 _ngcontent-sc13=\"\" class=\"article-title\"><!-- --> Keresztezte egymást a koronavírus és az influenza – megjelent a Flurona <!-- --></h2>,\n",
       " <h2 _ngcontent-sc13=\"\" class=\"article-title\"><!-- --> Damu Roland két évvel a halála előtt öngyilkosságot kísérelt meg <!-- --></h2>,\n",
       " <h2 _ngcontent-sc13=\"\" class=\"article-title\"><!-- --> Egy bearded collie lett az év legszebb kutyája <!-- --></h2>,\n",
       " <h2 _ngcontent-sc13=\"\" class=\"article-title\">Babicsek Bernát halt meg a solymári lakástűzben, családtagja talált rá</h2>,\n",
       " <h2 _ngcontent-sc13=\"\" class=\"article-title\">Weisz Fanni talpig flitterben, extra mély dekoltázzsal ünnepelt</h2>,\n",
       " <h2 _ngcontent-sc13=\"\" class=\"article-title\">Kapás Boglárkának tíz hónap kellett, hogy képes legyen leírni, meghalt a kishúga</h2>,\n",
       " <h2 _ngcontent-sc13=\"\" class=\"article-title\">Január közepén jön a Samsung nagy bejelentése</h2>,\n",
       " <h2 _ngcontent-sc13=\"\" class=\"article-title\">Január közepén jön a Samsung nagy bejelentése</h2>,\n",
       " <h2 _ngcontent-sc13=\"\" class=\"article-title\">A jövőben a vérnyomást és a vércukorszintet is mérheti egy okosgyűrű</h2>,\n",
       " <h2 _ngcontent-sc13=\"\" class=\"article-title\">A digitális kapcsolattartás uralta az ünnepeket</h2>,\n",
       " <h2 _ngcontent-sc13=\"\" class=\"article-title\">2022-ben már Nintendo Switch konzolt is nehéz lesz szerezni</h2>,\n",
       " <h2 _ngcontent-sc13=\"\" class=\"article-title\">Most épp sárgaságot okozó hibával bosszant a Windows 11</h2>,\n",
       " <h2 _ngcontent-sc13=\"\" class=\"article-title\">Kezd téliesebbre fordulni az időjárás a jövő héten</h2>,\n",
       " <h2 _ngcontent-sc13=\"\" class=\"article-title\">Kezd téliesebbre fordulni az időjárás a jövő héten</h2>,\n",
       " <h2 _ngcontent-sc13=\"\" class=\"article-title\">Mutatjuk a hatos lottó nyerőszámait és nyereményeit</h2>,\n",
       " <h2 _ngcontent-sc13=\"\" class=\"article-title\">Mutatjuk a hatos lottó nyerőszámait és nyereményeit</h2>,\n",
       " <h2 _ngcontent-sc13=\"\" class=\"article-title\">Furcsa technikával szárnyalt a világ legnagyobb repülő ősmadara</h2>,\n",
       " <h2 _ngcontent-sc13=\"\" class=\"article-title\">Furcsa technikával szárnyalt a világ legnagyobb repülő ősmadara</h2>,\n",
       " <h2 _ngcontent-sc13=\"\" class=\"article-title\"><!-- --> Vasárnap ünnepelte 119. születésnapját a világ legidősebb embere <!-- --></h2>,\n",
       " <h2 _ngcontent-sc13=\"\" class=\"article-title\"><!-- --> Több ezer évvel ezelőtti vulkánkitörés egyik áldozatát találhatták meg Törökországban <!-- --></h2>,\n",
       " <h2 _ngcontent-sc13=\"\" class=\"article-title\"><!-- --> Sikeres fejlesztések valósultak meg tavaly a nemzeti parkokban <!-- --></h2>,\n",
       " <h2 _ngcontent-sc13=\"\" class=\"article-title\"><!-- --> Újév napján is megdőltek a melegrekordok <!-- --></h2>,\n",
       " <h2 _ngcontent-sc13=\"\" class=\"article-title\">Kihúzták az ötös lottó nyerőszámait</h2>,\n",
       " <h2 _ngcontent-sc13=\"\" class=\"article-title\">A bodorka lett az idei év hala</h2>,\n",
       " <h2 _ngcontent-sc13=\"\" class=\"article-title\">Több mint 180 embert kellett kórházba vinni túlzott alkoholfogyasztás miatt</h2>,\n",
       " <h2 _ngcontent-sc13=\"\" class=\"article-title\">Elhunyt Juraj Filas cseh zeneszerző</h2>,\n",
       " <h2 _ngcontent-sc13=\"\" class=\"article-title\">Megújul az M5, a közmédia csatornája</h2>,\n",
       " <h2 _ngcontent-sc13=\"\" class=\"article-title\">Ünnepi koncertet ad a Várkert Bazárban a MÁV Szimfonikus Zenekar</h2>,\n",
       " <h2 _ngcontent-sc13=\"\" class=\"article-title\">Meghalt Halmy Miklós festőművész, szobrász, grafikus</h2>,\n",
       " <h2 _ngcontent-sc13=\"\" class=\"article-title\">Saját lakásban lakik szinte mindenki az EU keleti felén</h2>,\n",
       " <h2 _ngcontent-sc13=\"\" class=\"article-title\">Saját lakásban lakik szinte mindenki az EU keleti felén</h2>,\n",
       " <h2 _ngcontent-sc13=\"\" class=\"article-title\"><!-- --> Erőteljes gazdasági növekedés és javuló egyensúlyi mutatók várhatóak a következő években <!-- --></h2>,\n",
       " <h2 _ngcontent-sc13=\"\" class=\"article-title\"><!-- --> A járvány előtti időszakét is meghaladta a tavalyi kereskedelmi forgalom <!-- --></h2>,\n",
       " <h2 _ngcontent-sc13=\"\" class=\"article-title\"><!-- --> Többet hozott a konyhára az agrárkülkereskedelem <!-- --></h2>,\n",
       " <h2 _ngcontent-sc13=\"\" class=\"article-title\"><!-- --> Folytatódik a Nagyvillám sípálya fejlesztése <!-- --></h2>]"
      ]
     },
     "execution_count": 20,
     "metadata": {},
     "output_type": "execute_result"
    }
   ],
   "source": [
    "titles"
   ]
  },
  {
   "cell_type": "code",
   "execution_count": 23,
   "metadata": {},
   "outputs": [
    {
     "data": {
      "text/plain": [
       "88"
      ]
     },
     "execution_count": 23,
     "metadata": {},
     "output_type": "execute_result"
    }
   ],
   "source": [
    "links=soup.find_all(\"a\",class_=\"article-link\")\n",
    "len(links)"
   ]
  },
  {
   "cell_type": "code",
   "execution_count": 24,
   "metadata": {},
   "outputs": [
    {
     "data": {
      "text/plain": [
       "[<a _ngcontent-sc13=\"\" class=\"article-link\" href=\"/helyi-kozelet/2022/01/egyutt-kepviselte-hazajat-a-tancospar-az-izraeli-vilagbajnoksagon\"><div _ngcontent-sc13=\"\" class=\"article-sub-title-wrapper\"><span _ngcontent-sc13=\"\" class=\"article-sub-title\">Kecskemét</span><span _ngcontent-sc13=\"\" class=\"article-date\">45 perce</span></div><h2 _ngcontent-sc13=\"\" class=\"article-title\">Együtt képviselte hazáját a táncospár az izraeli világbajnokságon</h2></a>,\n",
       " <a _ngcontent-sc13=\"\" class=\"article-link\" href=\"/helyi-kek-hirek/2022/01/ket-auto-utkozott-ossze-kocseron\"><h2 _ngcontent-sc13=\"\" class=\"article-title\"><!-- --> Két autó ütközött össze Kocséron <!-- --></h2></a>,\n",
       " <a _ngcontent-sc13=\"\" class=\"article-link\" href=\"/helyi-eletstilus/2022/01/igy-elhetunk-egyutt-a-szobanovenyekkel\"><h2 _ngcontent-sc13=\"\" class=\"article-title\"><!-- --> Így élhetünk együtt a szobanövényekkel <!-- --></h2></a>,\n",
       " <a _ngcontent-sc13=\"\" class=\"article-link\" href=\"/orszag-vilag/2022/01/teljes-esztelenseg-marki-zay-peter-kijelentese\"><h2 _ngcontent-sc13=\"\" class=\"article-title\"><!-- --> Teljes esztelenség Márki-Zay Péter kijelentése <!-- --></h2></a>,\n",
       " <a _ngcontent-sc13=\"\" class=\"article-link\" href=\"/orszag-vilag/2022/01/marki-zay-peter-az-idos-embereket-jelolte-ki-uj-ellensegenek\"><h2 _ngcontent-sc13=\"\" class=\"article-title\"><!-- --> Márki-Zay Péter az idős embereket jelölte ki új ellenségének <!-- --></h2></a>,\n",
       " <a _ngcontent-sc13=\"\" class=\"article-link article-image\" href=\"/helyi-eletstilus/2022/01/igy-valasszon-cipot-ha-meg-szeretne-ovni-labat-a-durva-elvaltozasoktol\" style=\"\" trendencyimagelazyload=\"\"><!-- --></a>,\n",
       " <a _ngcontent-sc13=\"\" class=\"article-link\" href=\"/helyi-eletstilus/2022/01/igy-valasszon-cipot-ha-meg-szeretne-ovni-labat-a-durva-elvaltozasoktol\"><div _ngcontent-sc13=\"\" class=\"article-sub-title-wrapper\"><span _ngcontent-sc13=\"\" class=\"article-sub-title\">Bács-Kiskun</span><span _ngcontent-sc13=\"\" class=\"article-date\">1 órája</span></div><h2 _ngcontent-sc13=\"\" class=\"article-title\">Így válasszon cipőt, ha meg szeretné óvni lábát a durva elváltozásoktól!</h2></a>,\n",
       " <a _ngcontent-sc13=\"\" class=\"article-link article-image\" href=\"/helyi-kozelet/2022/01/nosztalgiaval-emlekeznek-olvasoink-a-regi-szep-idokre-64\" style=\"\" trendencyimagelazyload=\"\"><!-- --></a>,\n",
       " <a _ngcontent-sc13=\"\" class=\"article-link\" href=\"/helyi-kozelet/2022/01/nosztalgiaval-emlekeznek-olvasoink-a-regi-szep-idokre-64\"><div _ngcontent-sc13=\"\" class=\"article-sub-title-wrapper\"><span _ngcontent-sc13=\"\" class=\"article-sub-title\">Múltidéző</span><span _ngcontent-sc13=\"\" class=\"article-date\">3 órája</span></div><h2 _ngcontent-sc13=\"\" class=\"article-title\">Nosztalgiával emlékeznek olvasóink a régi szép időkre</h2></a>,\n",
       " <a _ngcontent-sc13=\"\" class=\"article-link article-image\" href=\"/orszag-vilag/2022/01/marki-zay-valasztasi-kalkulacioiban-visszatero-elem-az-idosek-elhalalozasa\" style=\"\" trendencyimagelazyload=\"\"><!-- --></a>,\n",
       " <a _ngcontent-sc13=\"\" class=\"article-link\" href=\"/orszag-vilag/2022/01/marki-zay-valasztasi-kalkulacioiban-visszatero-elem-az-idosek-elhalalozasa\"><div _ngcontent-sc13=\"\" class=\"article-sub-title-wrapper\"><span _ngcontent-sc13=\"\" class=\"article-sub-title\">Baloldal</span><span _ngcontent-sc13=\"\" class=\"article-date\">7 órája</span></div><h2 _ngcontent-sc13=\"\" class=\"article-title\">Márki-Zay választási kalkulációiban visszatérő elem az idősek elhalálozása</h2></a>,\n",
       " <a _ngcontent-sc13=\"\" class=\"article-link\" href=\"/helyi-eletstilus/2022/01/rengeteg-vitamint-tartalmaz-a-granatalma\"><h2 _ngcontent-sc13=\"\" class=\"article-title\"><!-- --> Rengeteg vitamint tartalmaz a gránátalma <!-- --></h2></a>,\n",
       " <a _ngcontent-sc13=\"\" class=\"article-link\" href=\"/helyi-eletstilus/2022/01/tunderszepek-10-erv-a-jelentkezes-mellett\"><h2 _ngcontent-sc13=\"\" class=\"article-title\"><!-- --> Tündérszépek: 10 érv a jelentkezés mellett <!-- --></h2></a>,\n",
       " <a _ngcontent-sc13=\"\" class=\"article-link\" href=\"/idojaras/2022/01/hetfon-helyenkent-kialakulhat-kisebb-eso-zapor\"><h2 _ngcontent-sc13=\"\" class=\"article-title\"><!-- --> Hétfőn helyenként kialakulhat kisebb eső, zápor <!-- --></h2></a>,\n",
       " <a _ngcontent-sc13=\"\" class=\"article-link article-image\" href=\"/helyi-kozelet/2022/01/megvalasztottak-az-ev-halat\" style=\"\" trendencyimagelazyload=\"\"><!-- --></a>,\n",
       " <a _ngcontent-sc13=\"\" class=\"article-link\" href=\"/helyi-kozelet/2022/01/megvalasztottak-az-ev-halat\"><div _ngcontent-sc13=\"\" class=\"article-sub-title-wrapper\"><span _ngcontent-sc13=\"\" class=\"article-sub-title\">Bodorka</span><span _ngcontent-sc13=\"\" class=\"article-date\">6 órája</span></div><h2 _ngcontent-sc13=\"\" class=\"article-title\">Megválasztották az év halát</h2></a>,\n",
       " <a _ngcontent-sc13=\"\" class=\"article-link article-image\" href=\"/helyi-kozelet/2022/01/veradasok-bacs-kiskun-megyeben-januar-3-9-kozott\" style=\"\" trendencyimagelazyload=\"\"><!-- --></a>,\n",
       " <a _ngcontent-sc13=\"\" class=\"article-link\" href=\"/helyi-kozelet/2022/01/veradasok-bacs-kiskun-megyeben-januar-3-9-kozott\"><div _ngcontent-sc13=\"\" class=\"article-sub-title-wrapper\"><span _ngcontent-sc13=\"\" class=\"article-sub-title\">Bács-Kiskun</span><span _ngcontent-sc13=\"\" class=\"article-date\">8 órája</span></div><h2 _ngcontent-sc13=\"\" class=\"article-title\">Véradások Bács-Kiskun megyében január 3–9. között</h2></a>,\n",
       " <a _ngcontent-sc13=\"\" class=\"article-link article-image\" href=\"/helyi-kozelet/2022/01/fontos-az-ifjusag-nevelese-a-kerekegyhazi-tuzolto-egyesulet-szamara\" style=\"\" trendencyimagelazyload=\"\"><!-- --></a>,\n",
       " <a _ngcontent-sc13=\"\" class=\"article-link\" href=\"/helyi-kozelet/2022/01/fontos-az-ifjusag-nevelese-a-kerekegyhazi-tuzolto-egyesulet-szamara\"><div _ngcontent-sc13=\"\" class=\"article-sub-title-wrapper\"><span _ngcontent-sc13=\"\" class=\"article-sub-title\">Eredményes év</span><span _ngcontent-sc13=\"\" class=\"article-date\">9 órája</span></div><h2 _ngcontent-sc13=\"\" class=\"article-title\">Fontos az ifjúság nevelése a kerekegyházi tűzoltó-egyesület számára</h2></a>,\n",
       " <a _ngcontent-sc13=\"\" class=\"article-link article-image\" href=\"/helyi-kozelet/2022/01/a-valsaghelyzetben-sem-hagytak-magukra-az-idoseket\" style=\"\" trendencyimagelazyload=\"\"><!-- --></a>,\n",
       " <a _ngcontent-sc13=\"\" class=\"article-link\" href=\"/helyi-kozelet/2022/01/a-valsaghelyzetben-sem-hagytak-magukra-az-idoseket\"><div _ngcontent-sc13=\"\" class=\"article-sub-title-wrapper\"><span _ngcontent-sc13=\"\" class=\"article-sub-title\">Budapest / Baja</span><span _ngcontent-sc13=\"\" class=\"article-date\">10 órája</span></div><h2 _ngcontent-sc13=\"\" class=\"article-title\">A válsághelyzetben sem hagyták magukra az időseket</h2></a>,\n",
       " <a _ngcontent-sc13=\"\" class=\"article-link\" href=\"/helyi-kozelet/2022/01/bajara-is-megerkezett-az-elso-baba\"><div _ngcontent-sc13=\"\" class=\"article-sub-title-wrapper\"><span _ngcontent-sc13=\"\" class=\"article-sub-title\">Képpel frissítve</span><span _ngcontent-sc13=\"\" class=\"article-date\">23 órája</span></div><h2 _ngcontent-sc13=\"\" class=\"article-title\">Bajára is megérkezett az első baba</h2></a>,\n",
       " <a _ngcontent-sc13=\"\" class=\"article-link\" href=\"/helyi-kozelet/2022/01/ezek-a-cikkek-voltak-a-legnepszerubbek-olvasoink-koreben-2021-ben\"><h2 _ngcontent-sc13=\"\" class=\"article-title\"><!-- --> Ezek a cikkek voltak a legnépszerűbbek olvasóink körében 2021-ben <!-- --></h2></a>,\n",
       " <a _ngcontent-sc13=\"\" class=\"article-link\" href=\"/helyi-kozelet/2022/01/szunetel-a-temetesfelvetel-a-kecskemeti-koztemeto-beke-fasori-ugyfelszolgalatan\"><h2 _ngcontent-sc13=\"\" class=\"article-title\"><!-- --> Szünetel a temetésfelvétel a kecskeméti köztemető Béke fasori ügyfélszolgálatán <!-- --></h2></a>,\n",
       " <a _ngcontent-sc13=\"\" class=\"article-link\" href=\"/helyi-kozelet/2022/01/januarban-ketszer-viszik-el-a-fenyofakat-ingyen-bacsszentgyorgyon\"><h2 _ngcontent-sc13=\"\" class=\"article-title\"><!-- --> Januárban kétszer viszik el a fenyőfákat ingyen Bácsszentgyörgyön <!-- --></h2></a>,\n",
       " <a _ngcontent-sc13=\"\" class=\"article-link\" href=\"/helyi-kozelet/2022/01/kozmeghallgatast-tartanak-solton\"><h2 _ngcontent-sc13=\"\" class=\"article-title\"><!-- --> Közmeghallgatást tartanak Solton <!-- --></h2></a>,\n",
       " <a _ngcontent-sc13=\"\" class=\"article-link\" href=\"/helyi-kozelet/2022/01/januarban-tompan-is-ellenorzik-a-tarsashazak-kemenyeit\"><h2 _ngcontent-sc13=\"\" class=\"article-title\"><!-- --> Januárban Tompán  is ellenőrzik a társasházak kéményeit <!-- --></h2></a>,\n",
       " <a _ngcontent-sc13=\"\" class=\"article-link article-image\" href=\"/orszag-vilag/2022/01/rohamrendorok-oszlattak-fel-amszterdamban-egy-korlatozasok-elleni-tuntetest\" style=\"\" trendencyimagelazyload=\"\"><!-- --></a>,\n",
       " <a _ngcontent-sc13=\"\" class=\"article-link\" href=\"/orszag-vilag/2022/01/rohamrendorok-oszlattak-fel-amszterdamban-egy-korlatozasok-elleni-tuntetest\"><div _ngcontent-sc13=\"\" class=\"article-sub-title-wrapper\"><span _ngcontent-sc13=\"\" class=\"article-sub-title\">Koronavírus</span><span _ngcontent-sc13=\"\" class=\"article-date\">2 órája</span></div><h2 _ngcontent-sc13=\"\" class=\"article-title\">Rohamrendőrök oszlattak fel Amszterdamban egy korlátozások elleni tüntetést</h2></a>,\n",
       " <a _ngcontent-sc13=\"\" class=\"article-link article-image\" href=\"/orszag-vilag/2022/01/angliaban-maszkot-kell-viselniuk-a-kozepiskolasoknak-az-omikron-miatt\" style=\"\" trendencyimagelazyload=\"\"><!-- --></a>,\n",
       " <a _ngcontent-sc13=\"\" class=\"article-link\" href=\"/orszag-vilag/2022/01/angliaban-maszkot-kell-viselniuk-a-kozepiskolasoknak-az-omikron-miatt\"><div _ngcontent-sc13=\"\" class=\"article-sub-title-wrapper\"><span _ngcontent-sc13=\"\" class=\"article-sub-title\">Védekezés</span><span _ngcontent-sc13=\"\" class=\"article-date\">6 órája</span></div><h2 _ngcontent-sc13=\"\" class=\"article-title\">Angliában maszkot kell viselniük a középiskolásoknak az omikron miatt</h2></a>,\n",
       " <a _ngcontent-sc13=\"\" class=\"article-link article-image\" href=\"/orszag-vilag/2022/01/az-orszag-ahol-mindenki-be-van-oltva-gyakorlatilag-nincs-halalozas\" style=\"\" trendencyimagelazyload=\"\"><!-- --></a>,\n",
       " <a _ngcontent-sc13=\"\" class=\"article-link\" href=\"/orszag-vilag/2022/01/az-orszag-ahol-mindenki-be-van-oltva-gyakorlatilag-nincs-halalozas\"><div _ngcontent-sc13=\"\" class=\"article-sub-title-wrapper\"><span _ngcontent-sc13=\"\" class=\"article-sub-title\">Járványkezelés</span><span _ngcontent-sc13=\"\" class=\"article-date\">7 órája</span></div><h2 _ngcontent-sc13=\"\" class=\"article-title\">Az ország, ahol mindenki be van oltva: gyakorlatilag nincs halálozás</h2></a>,\n",
       " <a _ngcontent-sc13=\"\" class=\"article-link article-image\" href=\"/orszag-vilag/2022/01/varga-judit-nagy-felelosseg-sorsdonto-idokben\" style=\"\" trendencyimagelazyload=\"\"><!-- --></a>,\n",
       " <a _ngcontent-sc13=\"\" class=\"article-link\" href=\"/orszag-vilag/2022/01/varga-judit-nagy-felelosseg-sorsdonto-idokben\"><div _ngcontent-sc13=\"\" class=\"article-sub-title-wrapper\"><span _ngcontent-sc13=\"\" class=\"article-sub-title\">Soros elnökség</span><span _ngcontent-sc13=\"\" class=\"article-date\">9 órája</span></div><h2 _ngcontent-sc13=\"\" class=\"article-title\">Varga Judit: nagy felelősség sorsdöntő időkben</h2></a>,\n",
       " <a _ngcontent-sc13=\"\" class=\"article-link\" href=\"/hazai-kek-hirek/2022/01/tapolcai-halalos-tragedia-eletben-van-es-stabil-az-allapota-a-17-eves-lanynak\"><div _ngcontent-sc13=\"\" class=\"article-sub-title-wrapper\"><span _ngcontent-sc13=\"\" class=\"article-sub-title\">Gyásznapot tartanak</span><span _ngcontent-sc13=\"\" class=\"article-date\">6 órája</span></div><h2 _ngcontent-sc13=\"\" class=\"article-title\">Tapolcai halálos tragédia: életben van és stabil az állapota a 17 éves lánynak</h2></a>,\n",
       " <a _ngcontent-sc13=\"\" class=\"article-link\" href=\"/hazai-kek-hirek/2022/01/negyen-meghaltak-amikor-vonattal-utkozott-egy-auto-tapolcanal\"><h2 _ngcontent-sc13=\"\" class=\"article-title\"><!-- --> Szörnyű balesettel kezdődött az év: négy fiatal meghalt, amikor vonattal ütközött az autójuk Tapolcánál <!-- --></h2></a>,\n",
       " <a _ngcontent-sc13=\"\" class=\"article-link\" href=\"/hazai-kek-hirek/2022/01/ujev-reggelen-olte-meg-a-feleseget-egy-ferfi-okoritofulposon\"><h2 _ngcontent-sc13=\"\" class=\"article-title\"><!-- --> Családi dráma: újév reggelén ölte meg a feleségét egy férfi Ököritófülpösön <!-- --></h2></a>,\n",
       " <a _ngcontent-sc13=\"\" class=\"article-link\" href=\"/helyi-kek-hirek/2022/01/igy-telt-a-tuzoltok-szilvesztere-bacs-kiskun-megyeben\"><h2 _ngcontent-sc13=\"\" class=\"article-title\"><!-- --> Így telt a tűzoltók szilvesztere Bács-Kiskun megyében <!-- --></h2></a>,\n",
       " <a _ngcontent-sc13=\"\" class=\"article-link article-image\" href=\"/hazai-kek-hirek/2022/01/tuzesetek-balesetek-es-szen-monoxid-mergezes-az-ev-utolso-napjan\" style=\"\" trendencyimagelazyload=\"\"><!-- --></a>,\n",
       " <a _ngcontent-sc13=\"\" class=\"article-link\" href=\"/hazai-kek-hirek/2022/01/tuzesetek-balesetek-es-szen-monoxid-mergezes-az-ev-utolso-napjan\"><div _ngcontent-sc13=\"\" class=\"article-sub-title-wrapper\"><span _ngcontent-sc13=\"\" class=\"article-sub-title\">Eseménydús éjszaka volt</span><span _ngcontent-sc13=\"\" class=\"article-date\">Tegnap, 10:59</span></div><h2 _ngcontent-sc13=\"\" class=\"article-title\"> Tűzesetek, balesetek és szén-monoxid-mérgezés az év utolsó napján</h2></a>,\n",
       " <a _ngcontent-sc13=\"\" class=\"article-link\" href=\"/helyi-sport/2022/01/nagy-jovo-elott-a-kecskei-lovas-ikrek\"><div _ngcontent-sc13=\"\" class=\"article-sub-title-wrapper\"><span _ngcontent-sc13=\"\" class=\"article-sub-title\">Labdarúgás</span><span _ngcontent-sc13=\"\" class=\"article-date\">5 órája</span></div><h2 _ngcontent-sc13=\"\" class=\"article-title\">Nagy jövő előtt a kécskei Lovas ikrek</h2></a>,\n",
       " <a _ngcontent-sc13=\"\" class=\"article-link\" href=\"/nemzetkozi-sport/2022/01/maldini-szerint-a-milannak-koltoznie-kell-a-sikeres-jovo-erdekeben\"><h2 _ngcontent-sc13=\"\" class=\"article-title\"><!-- --> Maldini szerint a Milannak költöznie kell a sikeres jövő érdekében <!-- --></h2></a>,\n",
       " <a _ngcontent-sc13=\"\" class=\"article-link\" href=\"/nemzetkozi-sport/2022/01/al-attijah-volt-a-leggyorsabb-a-prologon\"><h2 _ngcontent-sc13=\"\" class=\"article-title\"><!-- --> Al-Attijah volt a leggyorsabb a prológon <!-- --></h2></a>,\n",
       " <a _ngcontent-sc13=\"\" class=\"article-link\" href=\"/hazai-sport/2022/01/schafer-andras-nyerte-a-magyar-aranylabdat\"><h2 _ngcontent-sc13=\"\" class=\"article-title\"><!-- --> Schäfer András nyerte a Magyar Aranylabdát <!-- --></h2></a>,\n",
       " <a _ngcontent-sc13=\"\" class=\"article-link\" href=\"/nemzetkozi-sport/2022/01/kihagyja-az-australian-open-melbourne-i-felvezetojet-emma-raducanu\"><h2 _ngcontent-sc13=\"\" class=\"article-title\"><!-- --> Kihagyja az Australian Open melbourne-i felvezetőjét Emma Raducanu <!-- --></h2></a>,\n",
       " <a _ngcontent-sc13=\"\" class=\"article-link article-image\" href=\"/helyi-sport/2022/01/jo-uton-jar-a-bacsviz-kvsc\" style=\"\" trendencyimagelazyload=\"\"><!-- --></a>,\n",
       " <a _ngcontent-sc13=\"\" class=\"article-link\" href=\"/helyi-sport/2022/01/jo-uton-jar-a-bacsviz-kvsc\"><div _ngcontent-sc13=\"\" class=\"article-sub-title-wrapper\"><span _ngcontent-sc13=\"\" class=\"article-sub-title\">Úszás</span><span _ngcontent-sc13=\"\" class=\"article-date\">13 órája</span></div><h2 _ngcontent-sc13=\"\" class=\"article-title\">Jó úton jár a BÁCSVÍZ KVSC</h2></a>,\n",
       " <a _ngcontent-sc13=\"\" class=\"article-link article-image\" href=\"/helyi-sport/2022/01/janoshalman-az-elso-hely-a-cel\" style=\"\" trendencyimagelazyload=\"\"><!-- --></a>,\n",
       " <a _ngcontent-sc13=\"\" class=\"article-link\" href=\"/helyi-sport/2022/01/janoshalman-az-elso-hely-a-cel\"><div _ngcontent-sc13=\"\" class=\"article-sub-title-wrapper\"><span _ngcontent-sc13=\"\" class=\"article-sub-title\">Labdarúgás</span><span _ngcontent-sc13=\"\" class=\"article-date\">Tegnap, 7:41</span></div><h2 _ngcontent-sc13=\"\" class=\"article-title\">Jánoshalmán az első hely a cél</h2></a>,\n",
       " <a _ngcontent-sc13=\"\" class=\"article-link article-image\" href=\"/helyi-sport/2021/12/tollforgato-focistak-igy-tudositanak-ok-kunfeherton\" style=\"\" trendencyimagelazyload=\"\"><!-- --></a>,\n",
       " <a _ngcontent-sc13=\"\" class=\"article-link\" href=\"/helyi-sport/2021/12/tollforgato-focistak-igy-tudositanak-ok-kunfeherton\"><div _ngcontent-sc13=\"\" class=\"article-sub-title-wrapper\"><span _ngcontent-sc13=\"\" class=\"article-sub-title\">Labdarúgás</span><span _ngcontent-sc13=\"\" class=\"article-date\">2021.12.31. 11:38</span></div><h2 _ngcontent-sc13=\"\" class=\"article-title\">Tollforgató focisták: így tudósítanak ők, Kunfehértón</h2></a>,\n",
       " <a _ngcontent-sc13=\"\" class=\"article-link\" href=\"/hazai-bulvar-celeb/2022/01/szivszorito-bucsu-babicsek-bernattol-rengeteg-tervunk-volt-veled\"><div _ngcontent-sc13=\"\" class=\"article-sub-title-wrapper\"><span _ngcontent-sc13=\"\" class=\"article-sub-title\">Fájdalmas sorok</span><span _ngcontent-sc13=\"\" class=\"article-date\">7 órája</span></div><h2 _ngcontent-sc13=\"\" class=\"article-title\">Szívszorító búcsú Babicsek Bernáttól: „Rengeteg tervünk volt veled”</h2></a>,\n",
       " <a _ngcontent-sc13=\"\" class=\"article-link\" href=\"/nemzetkozi-bulvar-celeb/2022/01/keresztezte-egymast-a-koronavirus-es-az-influenza-megjelent-a-flurona\"><h2 _ngcontent-sc13=\"\" class=\"article-title\"><!-- --> Keresztezte egymást a koronavírus és az influenza – megjelent a Flurona <!-- --></h2></a>,\n",
       " <a _ngcontent-sc13=\"\" class=\"article-link\" href=\"/hazai-bulvar-celeb/2022/01/damu-roland-ket-evvel-a-halala-elott-ongyilkossagot-kiserelt-meg\"><h2 _ngcontent-sc13=\"\" class=\"article-title\"><!-- --> Damu Roland két évvel a halála előtt öngyilkosságot kísérelt meg <!-- --></h2></a>,\n",
       " <a _ngcontent-sc13=\"\" class=\"article-link\" href=\"/hazai-bulvar-celeb/2022/01/egy-bearded-collie-lett-az-ev-legszebb-kutyaja\"><h2 _ngcontent-sc13=\"\" class=\"article-title\"><!-- --> Egy bearded collie lett az év legszebb kutyája <!-- --></h2></a>,\n",
       " <a _ngcontent-sc13=\"\" class=\"article-link article-image\" href=\"/hazai-bulvar-celeb/2022/01/babicsek-bernat-halt-meg-a-solymari-lakastuzben-csaladtagja-talalt-ra\" style=\"\" trendencyimagelazyload=\"\"><!-- --></a>,\n",
       " <a _ngcontent-sc13=\"\" class=\"article-link\" href=\"/hazai-bulvar-celeb/2022/01/babicsek-bernat-halt-meg-a-solymari-lakastuzben-csaladtagja-talalt-ra\"><div _ngcontent-sc13=\"\" class=\"article-sub-title-wrapper\"><span _ngcontent-sc13=\"\" class=\"article-sub-title\">Gyász</span><span _ngcontent-sc13=\"\" class=\"article-date\">21 órája</span></div><h2 _ngcontent-sc13=\"\" class=\"article-title\">Babicsek Bernát halt meg a solymári lakástűzben, családtagja talált rá</h2></a>,\n",
       " <a _ngcontent-sc13=\"\" class=\"article-link article-image\" href=\"/hazai-bulvar-celeb/2022/01/weisz-fanni-talpig-flitterben-extra-mely-dekoltazzsal-unnepelt\" style=\"\" trendencyimagelazyload=\"\"><!-- --></a>,\n",
       " <a _ngcontent-sc13=\"\" class=\"article-link\" href=\"/hazai-bulvar-celeb/2022/01/weisz-fanni-talpig-flitterben-extra-mely-dekoltazzsal-unnepelt\"><div _ngcontent-sc13=\"\" class=\"article-sub-title-wrapper\"><span _ngcontent-sc13=\"\" class=\"article-sub-title\">Szilveszteri fotó</span><span _ngcontent-sc13=\"\" class=\"article-date\">23 órája</span></div><h2 _ngcontent-sc13=\"\" class=\"article-title\">Weisz Fanni talpig flitterben, extra mély dekoltázzsal ünnepelt</h2></a>,\n",
       " <a _ngcontent-sc13=\"\" class=\"article-link article-image\" href=\"/hazai-bulvar-celeb/2022/01/kapas-boglarkanak-tiz-honap-kellett-hogy-kepes-legyen-leirni-meghalt-a-kishuga\" style=\"\" trendencyimagelazyload=\"\"><!-- --></a>,\n",
       " <a _ngcontent-sc13=\"\" class=\"article-link\" href=\"/hazai-bulvar-celeb/2022/01/kapas-boglarkanak-tiz-honap-kellett-hogy-kepes-legyen-leirni-meghalt-a-kishuga\"><div _ngcontent-sc13=\"\" class=\"article-sub-title-wrapper\"><span _ngcontent-sc13=\"\" class=\"article-sub-title\">Szívfacsaró vallomás</span><span _ngcontent-sc13=\"\" class=\"article-date\">Tegnap, 18:01</span></div><h2 _ngcontent-sc13=\"\" class=\"article-title\">Kapás Boglárkának tíz hónap kellett, hogy képes legyen leírni, meghalt a kishúga</h2></a>,\n",
       " <a _ngcontent-sc13=\"\" class=\"article-link\" href=\"/digitalia/2022/01/januar-kozepen-jon-a-samsung-nagy-bejelentese\"><div _ngcontent-sc13=\"\" class=\"article-sub-title-wrapper\"><span _ngcontent-sc13=\"\" class=\"article-sub-title\">Újdonság</span><span _ngcontent-sc13=\"\" class=\"article-date\">3 órája</span></div><h2 _ngcontent-sc13=\"\" class=\"article-title\">Január közepén jön a Samsung nagy bejelentése</h2></a>,\n",
       " <a _ngcontent-sc13=\"\" class=\"article-link\" href=\"/egyperces/2022/01/kezd-teliesebbre-fordulni-az-idojaras-a-jovo-heten\"><div _ngcontent-sc13=\"\" class=\"article-sub-title-wrapper\"><span _ngcontent-sc13=\"\" class=\"article-sub-title\">Kezdődik</span><span _ngcontent-sc13=\"\" class=\"article-date\">2 órája</span></div><h2 _ngcontent-sc13=\"\" class=\"article-title\">Kezd téliesebbre fordulni az időjárás a jövő héten</h2></a>,\n",
       " <a _ngcontent-sc13=\"\" class=\"article-link\" href=\"/egyperces/2022/01/vasarnap-unnepelte-119-szuletesnapjat-a-vilag-legidosebb-embere\"><h2 _ngcontent-sc13=\"\" class=\"article-title\"><!-- --> Vasárnap ünnepelte 119. születésnapját a világ legidősebb embere <!-- --></h2></a>,\n",
       " <a _ngcontent-sc13=\"\" class=\"article-link\" href=\"/egyperces/2022/01/tobb-ezer-evvel-ezelotti-vulkankitores-egyik-aldozatat-talalhattak-meg-torokorszagban\"><h2 _ngcontent-sc13=\"\" class=\"article-title\"><!-- --> Több ezer évvel ezelőtti vulkánkitörés egyik áldozatát találhatták meg Törökországban <!-- --></h2></a>,\n",
       " <a _ngcontent-sc13=\"\" class=\"article-link\" href=\"/egyperces/2022/01/sikeres-fejlesztesek-valosultak-meg-tavaly-a-nemzeti-parkokban\"><h2 _ngcontent-sc13=\"\" class=\"article-title\"><!-- --> Sikeres fejlesztések valósultak meg tavaly a nemzeti parkokban <!-- --></h2></a>,\n",
       " <a _ngcontent-sc13=\"\" class=\"article-link\" href=\"/egyperces/2022/01/ujev-napjan-is-megdoltek-a-melegrekordok\"><h2 _ngcontent-sc13=\"\" class=\"article-title\"><!-- --> Újév napján is megdőltek a melegrekordok <!-- --></h2></a>,\n",
       " <a _ngcontent-sc13=\"\" class=\"article-link article-image\" href=\"/egyperces/2022/01/kihuztak-az-otos-lotto-nyeroszamait-15\" style=\"\" trendencyimagelazyload=\"\"><!-- --></a>,\n",
       " <a _ngcontent-sc13=\"\" class=\"article-link\" href=\"/egyperces/2022/01/kihuztak-az-otos-lotto-nyeroszamait-15\"><div _ngcontent-sc13=\"\" class=\"article-sub-title-wrapper\"><span _ngcontent-sc13=\"\" class=\"article-sub-title\">Szerencsejáték</span><span _ngcontent-sc13=\"\" class=\"article-date\">23 órája</span></div><h2 _ngcontent-sc13=\"\" class=\"article-title\">Kihúzták az ötös lottó nyerőszámait</h2></a>,\n",
       " <a _ngcontent-sc13=\"\" class=\"article-link article-image\" href=\"/egyperces/2022/01/a-bodorka-lett-az-idei-ev-hala\" style=\"\" trendencyimagelazyload=\"\"><!-- --></a>,\n",
       " <a _ngcontent-sc13=\"\" class=\"article-link\" href=\"/egyperces/2022/01/a-bodorka-lett-az-idei-ev-hala\"><div _ngcontent-sc13=\"\" class=\"article-sub-title-wrapper\"><span _ngcontent-sc13=\"\" class=\"article-sub-title\">Közönségszavazás</span><span _ngcontent-sc13=\"\" class=\"article-date\">Tegnap, 16:03</span></div><h2 _ngcontent-sc13=\"\" class=\"article-title\">A bodorka lett az idei év hala</h2></a>,\n",
       " <a _ngcontent-sc13=\"\" class=\"article-link article-image\" href=\"/egyperces/2022/01/tobb-mint-180-embert-kellett-korhazba-vinni-tulzott-alkoholfogyasztas-miatt\" style=\"\" trendencyimagelazyload=\"\"><!-- --></a>,\n",
       " <a _ngcontent-sc13=\"\" class=\"article-link\" href=\"/egyperces/2022/01/tobb-mint-180-embert-kellett-korhazba-vinni-tulzott-alkoholfogyasztas-miatt\"><div _ngcontent-sc13=\"\" class=\"article-sub-title-wrapper\"><span _ngcontent-sc13=\"\" class=\"article-sub-title\">Rosszul indul az évük</span><span _ngcontent-sc13=\"\" class=\"article-date\">Tegnap, 14:34</span></div><h2 _ngcontent-sc13=\"\" class=\"article-title\">Több mint 180 embert kellett kórházba vinni túlzott alkoholfogyasztás miatt</h2></a>,\n",
       " <a _ngcontent-sc13=\"\" class=\"article-link article-image\" href=\"/nemzetkozi-kultura/2022/01/elhunyt-juraj-filas-cseh-zeneszerzo\" style=\"\" trendencyimagelazyload=\"\"><!-- --></a>,\n",
       " <a _ngcontent-sc13=\"\" class=\"article-link\" href=\"/nemzetkozi-kultura/2022/01/elhunyt-juraj-filas-cseh-zeneszerzo\"><div _ngcontent-sc13=\"\" class=\"article-sub-title-wrapper\"><span _ngcontent-sc13=\"\" class=\"article-sub-title\">Gyász</span><span _ngcontent-sc13=\"\" class=\"article-date\">1 órája</span></div><h2 _ngcontent-sc13=\"\" class=\"article-title\">Elhunyt Juraj Filas cseh zeneszerző</h2></a>,\n",
       " <a _ngcontent-sc13=\"\" class=\"article-link article-image\" href=\"/kultura/2022/01/megujul-az-m5-a-kozmedia-csatornaja\" style=\"\" trendencyimagelazyload=\"\"><!-- --></a>,\n",
       " <a _ngcontent-sc13=\"\" class=\"article-link\" href=\"/kultura/2022/01/megujul-az-m5-a-kozmedia-csatornaja\"><div _ngcontent-sc13=\"\" class=\"article-sub-title-wrapper\"><span _ngcontent-sc13=\"\" class=\"article-sub-title\">A kultúra otthona</span><span _ngcontent-sc13=\"\" class=\"article-date\">7 órája</span></div><h2 _ngcontent-sc13=\"\" class=\"article-title\">Megújul az M5, a közmédia csatornája</h2></a>,\n",
       " <a _ngcontent-sc13=\"\" class=\"article-link article-image\" href=\"/kultura/2022/01/unnepi-koncertet-ad-a-varkert-bazarban-a-mav-szimfonikus-zenekar\" style=\"\" trendencyimagelazyload=\"\"><!-- --></a>,\n",
       " <a _ngcontent-sc13=\"\" class=\"article-link\" href=\"/kultura/2022/01/unnepi-koncertet-ad-a-varkert-bazarban-a-mav-szimfonikus-zenekar\"><div _ngcontent-sc13=\"\" class=\"article-sub-title-wrapper\"><span _ngcontent-sc13=\"\" class=\"article-sub-title\">V4 Classics</span><span _ngcontent-sc13=\"\" class=\"article-date\">12 órája</span></div><h2 _ngcontent-sc13=\"\" class=\"article-title\">Ünnepi koncertet ad a Várkert Bazárban a MÁV Szimfonikus Zenekar</h2></a>,\n",
       " <a _ngcontent-sc13=\"\" class=\"article-link article-image\" href=\"/hazai-kultura/2022/01/meghalt-halmy-miklos-festomuvesz-szobrasz-grafikus\" style=\"\" trendencyimagelazyload=\"\"><!-- --></a>,\n",
       " <a _ngcontent-sc13=\"\" class=\"article-link\" href=\"/hazai-kultura/2022/01/meghalt-halmy-miklos-festomuvesz-szobrasz-grafikus\"><div _ngcontent-sc13=\"\" class=\"article-sub-title-wrapper\"><span _ngcontent-sc13=\"\" class=\"article-sub-title\">Hazai kultúra</span><span _ngcontent-sc13=\"\" class=\"article-date\">Tegnap, 17:22</span></div><h2 _ngcontent-sc13=\"\" class=\"article-title\">Meghalt Halmy Miklós festőművész, szobrász, grafikus</h2></a>,\n",
       " <a _ngcontent-sc13=\"\" class=\"article-link\" href=\"/nemzetkozi-gazdasag/2022/01/sajat-lakasban-lakik-szinte-mindenki-az-eu-keleti-felen\"><div _ngcontent-sc13=\"\" class=\"article-sub-title-wrapper\"><span _ngcontent-sc13=\"\" class=\"article-sub-title\">Statisztika</span><span _ngcontent-sc13=\"\" class=\"article-date\">8 órája</span></div><h2 _ngcontent-sc13=\"\" class=\"article-title\">Saját lakásban lakik szinte mindenki az EU keleti felén</h2></a>,\n",
       " <a _ngcontent-sc13=\"\" class=\"article-link\" href=\"/hazai-gazdasag/2022/01/eroteljes-gazdasagi-novekedes-es-javulo-egyensulyi-mutatok-varhatoak-a-kovetkezo-evekben\"><h2 _ngcontent-sc13=\"\" class=\"article-title\"><!-- --> Erőteljes gazdasági növekedés és javuló egyensúlyi mutatók várhatóak a következő években <!-- --></h2></a>,\n",
       " <a _ngcontent-sc13=\"\" class=\"article-link\" href=\"/gazdasag/2022/01/a-jarvany-elotti-idoszaket-is-meghaladta-a-tavalyi-kereskedelmi-forgalom\"><h2 _ngcontent-sc13=\"\" class=\"article-title\"><!-- --> A járvány előtti időszakét is meghaladta a tavalyi kereskedelmi forgalom <!-- --></h2></a>,\n",
       " <a _ngcontent-sc13=\"\" class=\"article-link\" href=\"/hazai-gazdasag/2022/01/tobbet-hozott-a-konyhara-az-agrarkulkereskedelem\"><h2 _ngcontent-sc13=\"\" class=\"article-title\"><!-- --> Többet hozott a konyhára az agrárkülkereskedelem <!-- --></h2></a>,\n",
       " <a _ngcontent-sc13=\"\" class=\"article-link\" href=\"/hazai-gazdasag/2022/01/folytatodik-a-nagyvillam-sipalya-fejlesztese\"><h2 _ngcontent-sc13=\"\" class=\"article-title\"><!-- --> Folytatódik a Nagyvillám sípálya fejlesztése <!-- --></h2></a>]"
      ]
     },
     "execution_count": 24,
     "metadata": {},
     "output_type": "execute_result"
    }
   ],
   "source": [
    "links"
   ]
  },
  {
   "cell_type": "code",
   "execution_count": null,
   "metadata": {},
   "outputs": [],
   "source": []
  }
 ],
 "metadata": {
  "interpreter": {
   "hash": "1ed379fcb060ad2a17c7c071b22fd52c95940d845c7d2670f23a000ff4c4624a"
  },
  "kernelspec": {
   "display_name": "Python 3.8.12 64-bit ('relief_sandbox': conda)",
   "language": "python",
   "name": "python3"
  },
  "language_info": {
   "codemirror_mode": {
    "name": "ipython",
    "version": 3
   },
   "file_extension": ".py",
   "mimetype": "text/x-python",
   "name": "python",
   "nbconvert_exporter": "python",
   "pygments_lexer": "ipython3",
   "version": "3.8.12"
  },
  "orig_nbformat": 4
 },
 "nbformat": 4,
 "nbformat_minor": 2
}
