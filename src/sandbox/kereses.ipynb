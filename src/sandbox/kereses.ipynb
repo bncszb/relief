{
 "cells": [
  {
   "cell_type": "code",
   "execution_count": 1,
   "metadata": {},
   "outputs": [],
   "source": [
    "import pandas as pd\n",
    "import newspaper\n",
    "import bs4\n",
    "import requests\n",
    "from selenium import webdriver"
   ]
  },
  {
   "cell_type": "code",
   "execution_count": 50,
   "metadata": {},
   "outputs": [
    {
     "data": {
      "text/html": [
       "<div>\n",
       "<style scoped>\n",
       "    .dataframe tbody tr th:only-of-type {\n",
       "        vertical-align: middle;\n",
       "    }\n",
       "\n",
       "    .dataframe tbody tr th {\n",
       "        vertical-align: top;\n",
       "    }\n",
       "\n",
       "    .dataframe thead th {\n",
       "        text-align: right;\n",
       "    }\n",
       "</style>\n",
       "<table border=\"1\" class=\"dataframe\">\n",
       "  <thead>\n",
       "    <tr style=\"text-align: right;\">\n",
       "      <th></th>\n",
       "      <th>Címer</th>\n",
       "      <th>Megye neve</th>\n",
       "      <th>Megyeszékhely</th>\n",
       "      <th>Terület (km²)</th>\n",
       "      <th>Népesség (ezer fő)</th>\n",
       "      <th>Település</th>\n",
       "      <th>Kistérség</th>\n",
       "      <th>site</th>\n",
       "      <th>site_name</th>\n",
       "    </tr>\n",
       "  </thead>\n",
       "  <tbody>\n",
       "    <tr>\n",
       "      <th>0</th>\n",
       "      <td>Bacs-kiskun-megye.svg</td>\n",
       "      <td>Bács-Kiskun megye</td>\n",
       "      <td>Coa Hungary Town Kecskemét.svgKecskemét</td>\n",
       "      <td>8445</td>\n",
       "      <td>505</td>\n",
       "      <td>119</td>\n",
       "      <td>10</td>\n",
       "      <td>https://www.baon.hu/</td>\n",
       "      <td>baon</td>\n",
       "    </tr>\n",
       "    <tr>\n",
       "      <th>1</th>\n",
       "      <td>Baranya.jpg</td>\n",
       "      <td>Baranya megye</td>\n",
       "      <td>COA Hungary Town Pécs.svgPécs</td>\n",
       "      <td>4430</td>\n",
       "      <td>363</td>\n",
       "      <td>301</td>\n",
       "      <td>9</td>\n",
       "      <td>https://www.bama.hu/</td>\n",
       "      <td>bama</td>\n",
       "    </tr>\n",
       "    <tr>\n",
       "      <th>2</th>\n",
       "      <td>Békés departemento blazono.svg</td>\n",
       "      <td>Békés megye</td>\n",
       "      <td>HUN Békéscsaba Címer.svgBékéscsaba</td>\n",
       "      <td>5631</td>\n",
       "      <td>336</td>\n",
       "      <td>75</td>\n",
       "      <td>8</td>\n",
       "      <td>https://www.beol.hu/</td>\n",
       "      <td>beol</td>\n",
       "    </tr>\n",
       "    <tr>\n",
       "      <th>3</th>\n",
       "      <td>Borsod-Abaúj-Zemplén departemento blazono.svg</td>\n",
       "      <td>Borsod-Abaúj-Zemplén megye</td>\n",
       "      <td>HUN Miskolc Címer.svgMiskolc</td>\n",
       "      <td>7247</td>\n",
       "      <td>648</td>\n",
       "      <td>358</td>\n",
       "      <td>15</td>\n",
       "      <td>https://www.boon.hu/</td>\n",
       "      <td>boon</td>\n",
       "    </tr>\n",
       "    <tr>\n",
       "      <th>4</th>\n",
       "      <td>HU Csongrád megye COA.svg</td>\n",
       "      <td>Csongrád-Csanád megye</td>\n",
       "      <td>HUN Szeged Címer.svgSzeged</td>\n",
       "      <td>4263</td>\n",
       "      <td>400</td>\n",
       "      <td>60</td>\n",
       "      <td>7</td>\n",
       "      <td>https://www.delmagyar.hu/</td>\n",
       "      <td>delmagyar</td>\n",
       "    </tr>\n",
       "  </tbody>\n",
       "</table>\n",
       "</div>"
      ],
      "text/plain": [
       "                                           Címer                  Megye neve  \\\n",
       "0                          Bacs-kiskun-megye.svg           Bács-Kiskun megye   \n",
       "1                                    Baranya.jpg               Baranya megye   \n",
       "2                 Békés departemento blazono.svg                 Békés megye   \n",
       "3  Borsod-Abaúj-Zemplén departemento blazono.svg  Borsod-Abaúj-Zemplén megye   \n",
       "4                      HU Csongrád megye COA.svg       Csongrád-Csanád megye   \n",
       "\n",
       "                             Megyeszékhely  Terület (km²)  Népesség (ezer fő)  \\\n",
       "0  Coa Hungary Town Kecskemét.svgKecskemét           8445                 505   \n",
       "1            COA Hungary Town Pécs.svgPécs           4430                 363   \n",
       "2       HUN Békéscsaba Címer.svgBékéscsaba           5631                 336   \n",
       "3             HUN Miskolc Címer.svgMiskolc           7247                 648   \n",
       "4               HUN Szeged Címer.svgSzeged           4263                 400   \n",
       "\n",
       "   Település  Kistérség                       site  site_name  \n",
       "0        119         10       https://www.baon.hu/       baon  \n",
       "1        301          9       https://www.bama.hu/       bama  \n",
       "2         75          8       https://www.beol.hu/       beol  \n",
       "3        358         15       https://www.boon.hu/       boon  \n",
       "4         60          7  https://www.delmagyar.hu/  delmagyar  "
      ]
     },
     "execution_count": 50,
     "metadata": {},
     "output_type": "execute_result"
    }
   ],
   "source": [
    "site_df=pd.read_excel(\"/Users/benceszabo/Side/relief/data/local/counties.xlsx\",index_col=0)\n",
    "site_df.head()"
   ]
  },
  {
   "cell_type": "code",
   "execution_count": 51,
   "metadata": {},
   "outputs": [
    {
     "data": {
      "text/plain": [
       "Int64Index([0, 1, 2, 3, 4, 5, 6, 7, 8, 9, 10, 11, 12, 13, 14, 15, 16, 17, 18], dtype='int64')"
      ]
     },
     "execution_count": 51,
     "metadata": {},
     "output_type": "execute_result"
    }
   ],
   "source": [
    "site_df.index"
   ]
  },
  {
   "cell_type": "code",
   "execution_count": 3,
   "metadata": {},
   "outputs": [],
   "source": [
    "search=\"kereses?global_filter=\"\n",
    "\n",
    "keyword=\"villámárvíz\"\n"
   ]
  },
  {
   "cell_type": "code",
   "execution_count": 4,
   "metadata": {},
   "outputs": [
    {
     "name": "stdout",
     "output_type": "stream",
     "text": [
      "Bács-Kiskun megye\n",
      "https://www.baon.hu/kereses?global_filter=vill%C3%A1m%C3%A1rv%C3%ADz\n"
     ]
    }
   ],
   "source": [
    "county_id=0\n",
    "print(site_df[\"Megye neve\"].iloc[county_id])\n",
    "\n",
    "URL=site_df[\"site\"].iloc[county_id]+search+keyword\n",
    "URL=\"https://www.baon.hu/kereses?global_filter=vill%C3%A1m%C3%A1rv%C3%ADz\"\n",
    "print(URL)\n",
    "html_text=requests.get(URL).text\n"
   ]
  },
  {
   "cell_type": "code",
   "execution_count": 38,
   "metadata": {},
   "outputs": [
    {
     "ename": "RuntimeError",
     "evalue": "Cannot use HTMLSession within an existing event loop. Use AsyncHTMLSession instead.",
     "output_type": "error",
     "traceback": [
      "\u001b[0;31m---------------------------------------------------------------------------\u001b[0m",
      "\u001b[0;31mRuntimeError\u001b[0m                              Traceback (most recent call last)",
      "\u001b[0;32m/var/folders/f4/25wfnr0j4f7cqph3245jt7240000gn/T/ipykernel_7573/1360628860.py\u001b[0m in \u001b[0;36m<module>\u001b[0;34m\u001b[0m\n\u001b[1;32m      1\u001b[0m \u001b[0;32mimport\u001b[0m \u001b[0msearch_keyword\u001b[0m\u001b[0;34m\u001b[0m\u001b[0;34m\u001b[0m\u001b[0m\n\u001b[1;32m      2\u001b[0m \u001b[0;34m\u001b[0m\u001b[0m\n\u001b[0;32m----> 3\u001b[0;31m \u001b[0msearch_keyword\u001b[0m\u001b[0;34m.\u001b[0m\u001b[0mget_html_for_URL\u001b[0m\u001b[0;34m(\u001b[0m\u001b[0mURL\u001b[0m\u001b[0;34m)\u001b[0m\u001b[0;34m\u001b[0m\u001b[0;34m\u001b[0m\u001b[0m\n\u001b[0m",
      "\u001b[0;32m~/Side/relief/src/search_keyword.py\u001b[0m in \u001b[0;36mget_html_for_URL\u001b[0;34m(url)\u001b[0m\n\u001b[1;32m      5\u001b[0m     \u001b[0msession\u001b[0m \u001b[0;34m=\u001b[0m \u001b[0mHTMLSession\u001b[0m\u001b[0;34m(\u001b[0m\u001b[0;34m)\u001b[0m\u001b[0;34m\u001b[0m\u001b[0;34m\u001b[0m\u001b[0m\n\u001b[1;32m      6\u001b[0m     \u001b[0mr\u001b[0m \u001b[0;34m=\u001b[0m \u001b[0msession\u001b[0m\u001b[0;34m.\u001b[0m\u001b[0mget\u001b[0m\u001b[0;34m(\u001b[0m\u001b[0murl\u001b[0m\u001b[0;34m)\u001b[0m\u001b[0;34m\u001b[0m\u001b[0;34m\u001b[0m\u001b[0m\n\u001b[0;32m----> 7\u001b[0;31m     \u001b[0mr\u001b[0m\u001b[0;34m.\u001b[0m\u001b[0mhtml\u001b[0m\u001b[0;34m.\u001b[0m\u001b[0mrender\u001b[0m\u001b[0;34m(\u001b[0m\u001b[0;34m)\u001b[0m\u001b[0;34m\u001b[0m\u001b[0;34m\u001b[0m\u001b[0m\n\u001b[0m\u001b[1;32m      8\u001b[0m     \u001b[0;32mreturn\u001b[0m \u001b[0mr\u001b[0m\u001b[0;34m.\u001b[0m\u001b[0mhtml\u001b[0m\u001b[0;34m\u001b[0m\u001b[0;34m\u001b[0m\u001b[0m\n",
      "\u001b[0;32m~/opt/miniconda3/envs/relief_sandbox/lib/python3.8/site-packages/requests_html.py\u001b[0m in \u001b[0;36mrender\u001b[0;34m(self, retries, script, wait, scrolldown, sleep, reload, timeout, keep_page)\u001b[0m\n\u001b[1;32m    584\u001b[0m         \"\"\"\n\u001b[1;32m    585\u001b[0m \u001b[0;34m\u001b[0m\u001b[0m\n\u001b[0;32m--> 586\u001b[0;31m         \u001b[0mself\u001b[0m\u001b[0;34m.\u001b[0m\u001b[0mbrowser\u001b[0m \u001b[0;34m=\u001b[0m \u001b[0mself\u001b[0m\u001b[0;34m.\u001b[0m\u001b[0msession\u001b[0m\u001b[0;34m.\u001b[0m\u001b[0mbrowser\u001b[0m  \u001b[0;31m# Automatically create a event loop and browser\u001b[0m\u001b[0;34m\u001b[0m\u001b[0;34m\u001b[0m\u001b[0m\n\u001b[0m\u001b[1;32m    587\u001b[0m         \u001b[0mcontent\u001b[0m \u001b[0;34m=\u001b[0m \u001b[0;32mNone\u001b[0m\u001b[0;34m\u001b[0m\u001b[0;34m\u001b[0m\u001b[0m\n\u001b[1;32m    588\u001b[0m \u001b[0;34m\u001b[0m\u001b[0m\n",
      "\u001b[0;32m~/opt/miniconda3/envs/relief_sandbox/lib/python3.8/site-packages/requests_html.py\u001b[0m in \u001b[0;36mbrowser\u001b[0;34m(self)\u001b[0m\n\u001b[1;32m    727\u001b[0m             \u001b[0mself\u001b[0m\u001b[0;34m.\u001b[0m\u001b[0mloop\u001b[0m \u001b[0;34m=\u001b[0m \u001b[0masyncio\u001b[0m\u001b[0;34m.\u001b[0m\u001b[0mget_event_loop\u001b[0m\u001b[0;34m(\u001b[0m\u001b[0;34m)\u001b[0m\u001b[0;34m\u001b[0m\u001b[0;34m\u001b[0m\u001b[0m\n\u001b[1;32m    728\u001b[0m             \u001b[0;32mif\u001b[0m \u001b[0mself\u001b[0m\u001b[0;34m.\u001b[0m\u001b[0mloop\u001b[0m\u001b[0;34m.\u001b[0m\u001b[0mis_running\u001b[0m\u001b[0;34m(\u001b[0m\u001b[0;34m)\u001b[0m\u001b[0;34m:\u001b[0m\u001b[0;34m\u001b[0m\u001b[0;34m\u001b[0m\u001b[0m\n\u001b[0;32m--> 729\u001b[0;31m                 \u001b[0;32mraise\u001b[0m \u001b[0mRuntimeError\u001b[0m\u001b[0;34m(\u001b[0m\u001b[0;34m\"Cannot use HTMLSession within an existing event loop. Use AsyncHTMLSession instead.\"\u001b[0m\u001b[0;34m)\u001b[0m\u001b[0;34m\u001b[0m\u001b[0;34m\u001b[0m\u001b[0m\n\u001b[0m\u001b[1;32m    730\u001b[0m             \u001b[0mself\u001b[0m\u001b[0;34m.\u001b[0m\u001b[0m_browser\u001b[0m \u001b[0;34m=\u001b[0m \u001b[0mself\u001b[0m\u001b[0;34m.\u001b[0m\u001b[0mloop\u001b[0m\u001b[0;34m.\u001b[0m\u001b[0mrun_until_complete\u001b[0m\u001b[0;34m(\u001b[0m\u001b[0msuper\u001b[0m\u001b[0;34m(\u001b[0m\u001b[0;34m)\u001b[0m\u001b[0;34m.\u001b[0m\u001b[0mbrowser\u001b[0m\u001b[0;34m)\u001b[0m\u001b[0;34m\u001b[0m\u001b[0;34m\u001b[0m\u001b[0m\n\u001b[1;32m    731\u001b[0m         \u001b[0;32mreturn\u001b[0m \u001b[0mself\u001b[0m\u001b[0;34m.\u001b[0m\u001b[0m_browser\u001b[0m\u001b[0;34m\u001b[0m\u001b[0;34m\u001b[0m\u001b[0m\n",
      "\u001b[0;31mRuntimeError\u001b[0m: Cannot use HTMLSession within an existing event loop. Use AsyncHTMLSession instead."
     ]
    }
   ],
   "source": [
    "import search_keyword\n",
    "\n",
    "search_keyword.get_html_for_URL(URL)"
   ]
  },
  {
   "cell_type": "code",
   "execution_count": 23,
   "metadata": {},
   "outputs": [],
   "source": [
    "from requests_html import HTMLSession\n",
    "session = HTMLSession()"
   ]
  },
  {
   "cell_type": "code",
   "execution_count": 24,
   "metadata": {},
   "outputs": [],
   "source": [
    "r = session.get(URL)\n"
   ]
  },
  {
   "cell_type": "code",
   "execution_count": 34,
   "metadata": {},
   "outputs": [
    {
     "ename": "RuntimeError",
     "evalue": "Cannot use HTMLSession within an existing event loop. Use AsyncHTMLSession instead.",
     "output_type": "error",
     "traceback": [
      "\u001b[0;31m---------------------------------------------------------------------------\u001b[0m",
      "\u001b[0;31mRuntimeError\u001b[0m                              Traceback (most recent call last)",
      "\u001b[0;32m/var/folders/f4/25wfnr0j4f7cqph3245jt7240000gn/T/ipykernel_7573/1098586689.py\u001b[0m in \u001b[0;36m<module>\u001b[0;34m\u001b[0m\n\u001b[0;32m----> 1\u001b[0;31m \u001b[0mr\u001b[0m\u001b[0;34m.\u001b[0m\u001b[0mhtml\u001b[0m\u001b[0;34m.\u001b[0m\u001b[0mrender\u001b[0m\u001b[0;34m(\u001b[0m\u001b[0;34m)\u001b[0m\u001b[0;34m\u001b[0m\u001b[0;34m\u001b[0m\u001b[0m\n\u001b[0m",
      "\u001b[0;32m~/opt/miniconda3/envs/relief_sandbox/lib/python3.8/site-packages/requests_html.py\u001b[0m in \u001b[0;36mrender\u001b[0;34m(self, retries, script, wait, scrolldown, sleep, reload, timeout, keep_page)\u001b[0m\n\u001b[1;32m    584\u001b[0m         \"\"\"\n\u001b[1;32m    585\u001b[0m \u001b[0;34m\u001b[0m\u001b[0m\n\u001b[0;32m--> 586\u001b[0;31m         \u001b[0mself\u001b[0m\u001b[0;34m.\u001b[0m\u001b[0mbrowser\u001b[0m \u001b[0;34m=\u001b[0m \u001b[0mself\u001b[0m\u001b[0;34m.\u001b[0m\u001b[0msession\u001b[0m\u001b[0;34m.\u001b[0m\u001b[0mbrowser\u001b[0m  \u001b[0;31m# Automatically create a event loop and browser\u001b[0m\u001b[0;34m\u001b[0m\u001b[0;34m\u001b[0m\u001b[0m\n\u001b[0m\u001b[1;32m    587\u001b[0m         \u001b[0mcontent\u001b[0m \u001b[0;34m=\u001b[0m \u001b[0;32mNone\u001b[0m\u001b[0;34m\u001b[0m\u001b[0;34m\u001b[0m\u001b[0m\n\u001b[1;32m    588\u001b[0m \u001b[0;34m\u001b[0m\u001b[0m\n",
      "\u001b[0;32m~/opt/miniconda3/envs/relief_sandbox/lib/python3.8/site-packages/requests_html.py\u001b[0m in \u001b[0;36mbrowser\u001b[0;34m(self)\u001b[0m\n\u001b[1;32m    727\u001b[0m             \u001b[0mself\u001b[0m\u001b[0;34m.\u001b[0m\u001b[0mloop\u001b[0m \u001b[0;34m=\u001b[0m \u001b[0masyncio\u001b[0m\u001b[0;34m.\u001b[0m\u001b[0mget_event_loop\u001b[0m\u001b[0;34m(\u001b[0m\u001b[0;34m)\u001b[0m\u001b[0;34m\u001b[0m\u001b[0;34m\u001b[0m\u001b[0m\n\u001b[1;32m    728\u001b[0m             \u001b[0;32mif\u001b[0m \u001b[0mself\u001b[0m\u001b[0;34m.\u001b[0m\u001b[0mloop\u001b[0m\u001b[0;34m.\u001b[0m\u001b[0mis_running\u001b[0m\u001b[0;34m(\u001b[0m\u001b[0;34m)\u001b[0m\u001b[0;34m:\u001b[0m\u001b[0;34m\u001b[0m\u001b[0;34m\u001b[0m\u001b[0m\n\u001b[0;32m--> 729\u001b[0;31m                 \u001b[0;32mraise\u001b[0m \u001b[0mRuntimeError\u001b[0m\u001b[0;34m(\u001b[0m\u001b[0;34m\"Cannot use HTMLSession within an existing event loop. Use AsyncHTMLSession instead.\"\u001b[0m\u001b[0;34m)\u001b[0m\u001b[0;34m\u001b[0m\u001b[0;34m\u001b[0m\u001b[0m\n\u001b[0m\u001b[1;32m    730\u001b[0m             \u001b[0mself\u001b[0m\u001b[0;34m.\u001b[0m\u001b[0m_browser\u001b[0m \u001b[0;34m=\u001b[0m \u001b[0mself\u001b[0m\u001b[0;34m.\u001b[0m\u001b[0mloop\u001b[0m\u001b[0;34m.\u001b[0m\u001b[0mrun_until_complete\u001b[0m\u001b[0;34m(\u001b[0m\u001b[0msuper\u001b[0m\u001b[0;34m(\u001b[0m\u001b[0;34m)\u001b[0m\u001b[0;34m.\u001b[0m\u001b[0mbrowser\u001b[0m\u001b[0;34m)\u001b[0m\u001b[0;34m\u001b[0m\u001b[0;34m\u001b[0m\u001b[0m\n\u001b[1;32m    731\u001b[0m         \u001b[0;32mreturn\u001b[0m \u001b[0mself\u001b[0m\u001b[0;34m.\u001b[0m\u001b[0m_browser\u001b[0m\u001b[0;34m\u001b[0m\u001b[0;34m\u001b[0m\u001b[0m\n",
      "\u001b[0;31mRuntimeError\u001b[0m: Cannot use HTMLSession within an existing event loop. Use AsyncHTMLSession instead."
     ]
    }
   ],
   "source": [
    "r.html.render()"
   ]
  },
  {
   "cell_type": "code",
   "execution_count": 36,
   "metadata": {},
   "outputs": [],
   "source": [
    "import nest_asyncio\n",
    "\n",
    "nest_asyncio.apply()\n",
    "\n",
    "session = HTMLSession()\n",
    "r = session.get(URL)\n",
    "\n",
    "html_str = r.text"
   ]
  },
  {
   "cell_type": "code",
   "execution_count": 39,
   "metadata": {},
   "outputs": [],
   "source": [
    "with open(\"search.html\") as html_file:\n",
    "    html_text=html_file.read()\n",
    "    "
   ]
  },
  {
   "cell_type": "code",
   "execution_count": 44,
   "metadata": {},
   "outputs": [
    {
     "ename": "AttributeError",
     "evalue": "'NoneType' object has no attribute 'xpath'",
     "output_type": "error",
     "traceback": [
      "\u001b[0;31m---------------------------------------------------------------------------\u001b[0m",
      "\u001b[0;31mAttributeError\u001b[0m                            Traceback (most recent call last)",
      "\u001b[0;32m/var/folders/f4/25wfnr0j4f7cqph3245jt7240000gn/T/ipykernel_7573/1551431270.py\u001b[0m in \u001b[0;36m<module>\u001b[0;34m\u001b[0m\n\u001b[0;32m----> 1\u001b[0;31m \u001b[0mnewspaper\u001b[0m\u001b[0;34m.\u001b[0m\u001b[0mfulltext\u001b[0m\u001b[0;34m(\u001b[0m\u001b[0mhtml_text\u001b[0m\u001b[0;34m)\u001b[0m\u001b[0;34m\u001b[0m\u001b[0;34m\u001b[0m\u001b[0m\n\u001b[0m",
      "\u001b[0;32m~/opt/miniconda3/envs/relief_sandbox/lib/python3.8/site-packages/newspaper/api.py\u001b[0m in \u001b[0;36mfulltext\u001b[0;34m(html, language)\u001b[0m\n\u001b[1;32m     89\u001b[0m \u001b[0;34m\u001b[0m\u001b[0m\n\u001b[1;32m     90\u001b[0m     \u001b[0mtop_node\u001b[0m \u001b[0;34m=\u001b[0m \u001b[0mextractor\u001b[0m\u001b[0;34m.\u001b[0m\u001b[0mcalculate_best_node\u001b[0m\u001b[0;34m(\u001b[0m\u001b[0mdoc\u001b[0m\u001b[0;34m)\u001b[0m\u001b[0;34m\u001b[0m\u001b[0;34m\u001b[0m\u001b[0m\n\u001b[0;32m---> 91\u001b[0;31m     \u001b[0mtop_node\u001b[0m \u001b[0;34m=\u001b[0m \u001b[0mextractor\u001b[0m\u001b[0;34m.\u001b[0m\u001b[0mpost_cleanup\u001b[0m\u001b[0;34m(\u001b[0m\u001b[0mtop_node\u001b[0m\u001b[0;34m)\u001b[0m\u001b[0;34m\u001b[0m\u001b[0;34m\u001b[0m\u001b[0m\n\u001b[0m\u001b[1;32m     92\u001b[0m     \u001b[0mtext\u001b[0m\u001b[0;34m,\u001b[0m \u001b[0marticle_html\u001b[0m \u001b[0;34m=\u001b[0m \u001b[0moutput_formatter\u001b[0m\u001b[0;34m.\u001b[0m\u001b[0mget_formatted\u001b[0m\u001b[0;34m(\u001b[0m\u001b[0mtop_node\u001b[0m\u001b[0;34m)\u001b[0m\u001b[0;34m\u001b[0m\u001b[0;34m\u001b[0m\u001b[0m\n\u001b[1;32m     93\u001b[0m     \u001b[0;32mreturn\u001b[0m \u001b[0mtext\u001b[0m\u001b[0;34m\u001b[0m\u001b[0;34m\u001b[0m\u001b[0m\n",
      "\u001b[0;32m~/opt/miniconda3/envs/relief_sandbox/lib/python3.8/site-packages/newspaper/extractors.py\u001b[0m in \u001b[0;36mpost_cleanup\u001b[0;34m(self, top_node)\u001b[0m\n\u001b[1;32m   1038\u001b[0m         \u001b[0;32mor\u001b[0m \u001b[0mparas\u001b[0m \u001b[0;32mwith\u001b[0m \u001b[0mno\u001b[0m \u001b[0mgusto\u001b[0m\u001b[0;34m;\u001b[0m \u001b[0madd\u001b[0m \u001b[0madjacent\u001b[0m \u001b[0mnodes\u001b[0m \u001b[0mwhich\u001b[0m \u001b[0mlook\u001b[0m \u001b[0mcontenty\u001b[0m\u001b[0;34m\u001b[0m\u001b[0;34m\u001b[0m\u001b[0m\n\u001b[1;32m   1039\u001b[0m         \"\"\"\n\u001b[0;32m-> 1040\u001b[0;31m         \u001b[0mnode\u001b[0m \u001b[0;34m=\u001b[0m \u001b[0mself\u001b[0m\u001b[0;34m.\u001b[0m\u001b[0madd_siblings\u001b[0m\u001b[0;34m(\u001b[0m\u001b[0mtop_node\u001b[0m\u001b[0;34m)\u001b[0m\u001b[0;34m\u001b[0m\u001b[0;34m\u001b[0m\u001b[0m\n\u001b[0m\u001b[1;32m   1041\u001b[0m         \u001b[0;32mfor\u001b[0m \u001b[0me\u001b[0m \u001b[0;32min\u001b[0m \u001b[0mself\u001b[0m\u001b[0;34m.\u001b[0m\u001b[0mparser\u001b[0m\u001b[0;34m.\u001b[0m\u001b[0mgetChildren\u001b[0m\u001b[0;34m(\u001b[0m\u001b[0mnode\u001b[0m\u001b[0;34m)\u001b[0m\u001b[0;34m:\u001b[0m\u001b[0;34m\u001b[0m\u001b[0;34m\u001b[0m\u001b[0m\n\u001b[1;32m   1042\u001b[0m             \u001b[0me_tag\u001b[0m \u001b[0;34m=\u001b[0m \u001b[0mself\u001b[0m\u001b[0;34m.\u001b[0m\u001b[0mparser\u001b[0m\u001b[0;34m.\u001b[0m\u001b[0mgetTag\u001b[0m\u001b[0;34m(\u001b[0m\u001b[0me\u001b[0m\u001b[0;34m)\u001b[0m\u001b[0;34m\u001b[0m\u001b[0;34m\u001b[0m\u001b[0m\n",
      "\u001b[0;32m~/opt/miniconda3/envs/relief_sandbox/lib/python3.8/site-packages/newspaper/extractors.py\u001b[0m in \u001b[0;36madd_siblings\u001b[0;34m(self, top_node)\u001b[0m\n\u001b[1;32m    867\u001b[0m \u001b[0;34m\u001b[0m\u001b[0m\n\u001b[1;32m    868\u001b[0m     \u001b[0;32mdef\u001b[0m \u001b[0madd_siblings\u001b[0m\u001b[0;34m(\u001b[0m\u001b[0mself\u001b[0m\u001b[0;34m,\u001b[0m \u001b[0mtop_node\u001b[0m\u001b[0;34m)\u001b[0m\u001b[0;34m:\u001b[0m\u001b[0;34m\u001b[0m\u001b[0;34m\u001b[0m\u001b[0m\n\u001b[0;32m--> 869\u001b[0;31m         \u001b[0mbaseline_score_siblings_para\u001b[0m \u001b[0;34m=\u001b[0m \u001b[0mself\u001b[0m\u001b[0;34m.\u001b[0m\u001b[0mget_siblings_score\u001b[0m\u001b[0;34m(\u001b[0m\u001b[0mtop_node\u001b[0m\u001b[0;34m)\u001b[0m\u001b[0;34m\u001b[0m\u001b[0;34m\u001b[0m\u001b[0m\n\u001b[0m\u001b[1;32m    870\u001b[0m         \u001b[0mresults\u001b[0m \u001b[0;34m=\u001b[0m \u001b[0mself\u001b[0m\u001b[0;34m.\u001b[0m\u001b[0mwalk_siblings\u001b[0m\u001b[0;34m(\u001b[0m\u001b[0mtop_node\u001b[0m\u001b[0;34m)\u001b[0m\u001b[0;34m\u001b[0m\u001b[0;34m\u001b[0m\u001b[0m\n\u001b[1;32m    871\u001b[0m         \u001b[0;32mfor\u001b[0m \u001b[0mcurrent_node\u001b[0m \u001b[0;32min\u001b[0m \u001b[0mresults\u001b[0m\u001b[0;34m:\u001b[0m\u001b[0;34m\u001b[0m\u001b[0;34m\u001b[0m\u001b[0m\n",
      "\u001b[0;32m~/opt/miniconda3/envs/relief_sandbox/lib/python3.8/site-packages/newspaper/extractors.py\u001b[0m in \u001b[0;36mget_siblings_score\u001b[0;34m(self, top_node)\u001b[0m\n\u001b[1;32m    924\u001b[0m         \u001b[0mparagraphs_number\u001b[0m \u001b[0;34m=\u001b[0m \u001b[0;36m0\u001b[0m\u001b[0;34m\u001b[0m\u001b[0;34m\u001b[0m\u001b[0m\n\u001b[1;32m    925\u001b[0m         \u001b[0mparagraphs_score\u001b[0m \u001b[0;34m=\u001b[0m \u001b[0;36m0\u001b[0m\u001b[0;34m\u001b[0m\u001b[0;34m\u001b[0m\u001b[0m\n\u001b[0;32m--> 926\u001b[0;31m         \u001b[0mnodes_to_check\u001b[0m \u001b[0;34m=\u001b[0m \u001b[0mself\u001b[0m\u001b[0;34m.\u001b[0m\u001b[0mparser\u001b[0m\u001b[0;34m.\u001b[0m\u001b[0mgetElementsByTag\u001b[0m\u001b[0;34m(\u001b[0m\u001b[0mtop_node\u001b[0m\u001b[0;34m,\u001b[0m \u001b[0mtag\u001b[0m\u001b[0;34m=\u001b[0m\u001b[0;34m'p'\u001b[0m\u001b[0;34m)\u001b[0m\u001b[0;34m\u001b[0m\u001b[0;34m\u001b[0m\u001b[0m\n\u001b[0m\u001b[1;32m    927\u001b[0m \u001b[0;34m\u001b[0m\u001b[0m\n\u001b[1;32m    928\u001b[0m         \u001b[0;32mfor\u001b[0m \u001b[0mnode\u001b[0m \u001b[0;32min\u001b[0m \u001b[0mnodes_to_check\u001b[0m\u001b[0;34m:\u001b[0m\u001b[0;34m\u001b[0m\u001b[0;34m\u001b[0m\u001b[0m\n",
      "\u001b[0;32m~/opt/miniconda3/envs/relief_sandbox/lib/python3.8/site-packages/newspaper/parsers.py\u001b[0m in \u001b[0;36mgetElementsByTag\u001b[0;34m(cls, node, tag, attr, value, childs, use_regex)\u001b[0m\n\u001b[1;32m    121\u001b[0m                 \u001b[0mtrans\u001b[0m \u001b[0;34m=\u001b[0m \u001b[0;34m'translate(@%s, \"%s\", \"%s\")'\u001b[0m \u001b[0;34m%\u001b[0m \u001b[0;34m(\u001b[0m\u001b[0mattr\u001b[0m\u001b[0;34m,\u001b[0m \u001b[0mstring\u001b[0m\u001b[0;34m.\u001b[0m\u001b[0mascii_uppercase\u001b[0m\u001b[0;34m,\u001b[0m \u001b[0mstring\u001b[0m\u001b[0;34m.\u001b[0m\u001b[0mascii_lowercase\u001b[0m\u001b[0;34m)\u001b[0m\u001b[0;34m\u001b[0m\u001b[0;34m\u001b[0m\u001b[0m\n\u001b[1;32m    122\u001b[0m                 \u001b[0mselector\u001b[0m \u001b[0;34m=\u001b[0m \u001b[0;34m'%s[contains(%s, \"%s\")]'\u001b[0m \u001b[0;34m%\u001b[0m \u001b[0;34m(\u001b[0m\u001b[0mselector\u001b[0m\u001b[0;34m,\u001b[0m \u001b[0mtrans\u001b[0m\u001b[0;34m,\u001b[0m \u001b[0mvalue\u001b[0m\u001b[0;34m.\u001b[0m\u001b[0mlower\u001b[0m\u001b[0;34m(\u001b[0m\u001b[0;34m)\u001b[0m\u001b[0;34m)\u001b[0m\u001b[0;34m\u001b[0m\u001b[0;34m\u001b[0m\u001b[0m\n\u001b[0;32m--> 123\u001b[0;31m         \u001b[0melems\u001b[0m \u001b[0;34m=\u001b[0m \u001b[0mnode\u001b[0m\u001b[0;34m.\u001b[0m\u001b[0mxpath\u001b[0m\u001b[0;34m(\u001b[0m\u001b[0mselector\u001b[0m\u001b[0;34m,\u001b[0m \u001b[0mnamespaces\u001b[0m\u001b[0;34m=\u001b[0m\u001b[0mNS\u001b[0m\u001b[0;34m)\u001b[0m\u001b[0;34m\u001b[0m\u001b[0;34m\u001b[0m\u001b[0m\n\u001b[0m\u001b[1;32m    124\u001b[0m         \u001b[0;31m# remove the root node\u001b[0m\u001b[0;34m\u001b[0m\u001b[0;34m\u001b[0m\u001b[0;34m\u001b[0m\u001b[0m\n\u001b[1;32m    125\u001b[0m         \u001b[0;31m# if we have a selection tag\u001b[0m\u001b[0;34m\u001b[0m\u001b[0;34m\u001b[0m\u001b[0;34m\u001b[0m\u001b[0m\n",
      "\u001b[0;31mAttributeError\u001b[0m: 'NoneType' object has no attribute 'xpath'"
     ]
    }
   ],
   "source": []
  },
  {
   "cell_type": "code",
   "execution_count": 41,
   "metadata": {},
   "outputs": [],
   "source": [
    "soup=bs4.BeautifulSoup(html_text)"
   ]
  },
  {
   "cell_type": "code",
   "execution_count": 47,
   "metadata": {},
   "outputs": [],
   "source": [
    "subsoup=soup.find(class_=\"left-column ng-tns-c101-0\")"
   ]
  },
  {
   "cell_type": "code",
   "execution_count": 52,
   "metadata": {},
   "outputs": [
    {
     "data": {
      "text/plain": [
       "[<span _ngcontent-my-app-c84=\"\" class=\"article-date\">2021.10.16. 09:11</span>,\n",
       " <span _ngcontent-my-app-c84=\"\" class=\"article-date\">2021.09.20. 19:00</span>,\n",
       " <span _ngcontent-my-app-c84=\"\" class=\"article-date\">2021.07.18. 16:07</span>,\n",
       " <span _ngcontent-my-app-c84=\"\" class=\"article-date\">2021.07.14. 15:50</span>,\n",
       " <span _ngcontent-my-app-c84=\"\" class=\"article-date\">2021.07.11. 08:35</span>,\n",
       " <span _ngcontent-my-app-c84=\"\" class=\"article-date\">2021.02.08. 18:30</span>,\n",
       " <span _ngcontent-my-app-c84=\"\" class=\"article-date\">2020.06.14. 18:46</span>,\n",
       " <span _ngcontent-my-app-c84=\"\" class=\"article-date\">2019.09.02. 12:10</span>,\n",
       " <span _ngcontent-my-app-c84=\"\" class=\"article-date\">2019.06.08. 14:25</span>,\n",
       " <span _ngcontent-my-app-c84=\"\" class=\"article-date\">2019.04.25. 18:00</span>]"
      ]
     },
     "execution_count": 52,
     "metadata": {},
     "output_type": "execute_result"
    }
   ],
   "source": [
    "dates=subsoup.find_all(\"span\",class_=\"article-date\")\n",
    "dates"
   ]
  },
  {
   "cell_type": "code",
   "execution_count": 54,
   "metadata": {},
   "outputs": [
    {
     "data": {
      "text/plain": [
       "'2021.10.16. 09:11'"
      ]
     },
     "execution_count": 54,
     "metadata": {},
     "output_type": "execute_result"
    }
   ],
   "source": [
    "dates[0].text"
   ]
  },
  {
   "cell_type": "code",
   "execution_count": 105,
   "metadata": {},
   "outputs": [],
   "source": [
    "from datetime import datetime, timedelta"
   ]
  },
  {
   "cell_type": "code",
   "execution_count": 62,
   "metadata": {},
   "outputs": [
    {
     "data": {
      "text/plain": [
       "datetime.datetime(2021, 10, 16, 9, 11)"
      ]
     },
     "execution_count": 62,
     "metadata": {},
     "output_type": "execute_result"
    }
   ],
   "source": [
    "date_time_str = dates[0].text\n",
    "\n",
    "date_time_obj = datetime. strptime(date_time_str, '%Y.%m.%d. %H:%M')\n",
    "date_time_obj"
   ]
  },
  {
   "cell_type": "code",
   "execution_count": 42,
   "metadata": {},
   "outputs": [
    {
     "data": {
      "text/plain": [
       "[<span _ngcontent-my-app-c84=\"\" class=\"article-date\">2021.10.16. 09:11</span>,\n",
       " <span _ngcontent-my-app-c84=\"\" class=\"article-date\">2021.09.20. 19:00</span>,\n",
       " <span _ngcontent-my-app-c84=\"\" class=\"article-date\">2021.07.18. 16:07</span>,\n",
       " <span _ngcontent-my-app-c84=\"\" class=\"article-date\">2021.07.14. 15:50</span>,\n",
       " <span _ngcontent-my-app-c84=\"\" class=\"article-date\">2021.07.11. 08:35</span>,\n",
       " <span _ngcontent-my-app-c84=\"\" class=\"article-date\">2021.02.08. 18:30</span>,\n",
       " <span _ngcontent-my-app-c84=\"\" class=\"article-date\">2020.06.14. 18:46</span>,\n",
       " <span _ngcontent-my-app-c84=\"\" class=\"article-date\">2019.09.02. 12:10</span>,\n",
       " <span _ngcontent-my-app-c84=\"\" class=\"article-date\">2019.06.08. 14:25</span>,\n",
       " <span _ngcontent-my-app-c84=\"\" class=\"article-date\">2019.04.25. 18:00</span>,\n",
       " <span _ngcontent-my-app-c84=\"\" class=\"article-date\">9 órája</span>,\n",
       " <span _ngcontent-my-app-c84=\"\" class=\"article-date\">9 órája</span>,\n",
       " <span _ngcontent-my-app-c84=\"\" class=\"article-date\">13 órája</span>,\n",
       " <span _ngcontent-my-app-c84=\"\" class=\"article-date\">13 órája</span>,\n",
       " <span _ngcontent-my-app-c84=\"\" class=\"article-date\">14 órája</span>,\n",
       " <span _ngcontent-my-app-c84=\"\" class=\"article-date\">14 órája</span>,\n",
       " <span _ngcontent-my-app-c84=\"\" class=\"article-date\">3 órája</span>,\n",
       " <span _ngcontent-my-app-c84=\"\" class=\"article-date\">5 órája</span>,\n",
       " <span _ngcontent-my-app-c84=\"\" class=\"article-date\">5 órája</span>,\n",
       " <span _ngcontent-my-app-c84=\"\" class=\"article-date\">5 órája</span>,\n",
       " <span _ngcontent-my-app-c84=\"\" class=\"article-date\">5 órája</span>,\n",
       " <span _ngcontent-my-app-c84=\"\" class=\"article-date\">14 órája</span>,\n",
       " <span _ngcontent-my-app-c84=\"\" class=\"article-date\">14 órája</span>,\n",
       " <span _ngcontent-my-app-c84=\"\" class=\"article-date\">Tegnap, 15:22</span>,\n",
       " <span _ngcontent-my-app-c84=\"\" class=\"article-date\">Tegnap, 15:22</span>]"
      ]
     },
     "execution_count": 42,
     "metadata": {},
     "output_type": "execute_result"
    }
   ],
   "source": [
    "soup.find_all(\"span\",class_=\"article-date\")"
   ]
  },
  {
   "cell_type": "code",
   "execution_count": 43,
   "metadata": {},
   "outputs": [
    {
     "data": {
      "text/plain": [
       "[<h2 _ngcontent-my-app-c84=\"\" class=\"article-title\">A villámárvizekről rendeztek konferenciát Baján</h2>,\n",
       " <h2 _ngcontent-my-app-c84=\"\" class=\"article-title\">Konferenciát szervez a bajai kar</h2>,\n",
       " <h2 _ngcontent-my-app-c84=\"\" class=\"article-title\">Több helyen okozott újabb károkat a vihar</h2>,\n",
       " <h2 _ngcontent-my-app-c84=\"\" class=\"article-title\">Hosszan tartó heves esőzés sújtja Németország több térségét</h2>,\n",
       " <h2 _ngcontent-my-app-c84=\"\" class=\"article-title\">Másodfokú riasztásokat adtak ki felhőszakadás veszélye miatt</h2>,\n",
       " <h2 _ngcontent-my-app-c84=\"\" class=\"article-title\">Majdnem húsz ember halálát okozta és jelentős pusztítást hagyott maga után az indiai gleccserlavina</h2>,\n",
       " <h2 _ngcontent-my-app-c84=\"\" class=\"article-title\">Áldozatot is szedett az országon átvonuló vihar</h2>,\n",
       " <h2 _ngcontent-my-app-c84=\"\" class=\"article-title\">Több turista meghalt egy villámárvízben Kenyában</h2>,\n",
       " <h2 _ngcontent-my-app-c84=\"\" class=\"article-title\">Okostelefon-alkalmazás segíti a villámárvizek kezelését</h2>,\n",
       " <h2 _ngcontent-my-app-c84=\"\" class=\"article-title\">Magyar-szerb villámárvizeket előrejelző rendszer készül</h2>,\n",
       " <h2 _ngcontent-my-app-c84=\"\" class=\"article-title\">Orbán Balázs: az atomenergia az uniós energiaárak kiküszöbölésében is fontos</h2>,\n",
       " <h2 _ngcontent-my-app-c84=\"\" class=\"article-title\">Tapolcai vonattragédia: több százan gyújtottak gyertyát Iván Gergő emlékére</h2>,\n",
       " <h2 _ngcontent-my-app-c84=\"\" class=\"article-title\">Két autó ütközött össze Kocséron</h2>,\n",
       " <h2 _ngcontent-my-app-c84=\"\" class=\"article-title\">Baloldali szavazók szedték ízekre Márki-Zay Pétert</h2>,\n",
       " <h2 _ngcontent-my-app-c84=\"\" class=\"article-title\">Így kezdhetjük tiszta lappal az új évet!</h2>,\n",
       " <h2 _ngcontent-my-app-c84=\"\" class=\"article-title\">Komplex szolgáltatásfejlesztési projekt zárult a Szegedi Tudományegyetemen</h2>,\n",
       " <h2 _ngcontent-my-app-c84=\"\" class=\"article-title\">Rendkívül sikeres évet zár a Mandiner – díjjal jutalmazták munkatársaik odaadó munkáját</h2>,\n",
       " <h2 _ngcontent-my-app-c84=\"\" class=\"article-title\">Baleset ért: mit tegyek?</h2>,\n",
       " <h2 _ngcontent-my-app-c84=\"\" class=\"article-title\">Napelem, mint értéknövelő beruházás</h2>,\n",
       " <h2 _ngcontent-my-app-c84=\"\" class=\"article-title\">Nemzeti Kiválóság Díjat kapott a kecskeméti fékgyártó nagyvállalat</h2>,\n",
       " <h2 _ngcontent-my-app-c84=\"\" class=\"article-title\"> Foktőn is várják a véradókat <!-- --><!-- --></h2>,\n",
       " <h2 _ngcontent-my-app-c84=\"\" class=\"article-title\"> Így élhetünk együtt a szobanövényekkel <!-- --><!-- --></h2>,\n",
       " <h2 _ngcontent-my-app-c84=\"\" class=\"article-title\"> Együtt képviselte hazáját a táncospár az izraeli világbajnokságon <!-- --><!-- --></h2>,\n",
       " <h2 _ngcontent-my-app-c84=\"\" class=\"article-title\"> A Getafe legyőzte a Real Madridot <!-- --><!-- --></h2>,\n",
       " <h2 _ngcontent-my-app-c84=\"\" class=\"article-title\">Szívszorító búcsú Babicsek Bernáttól: „Rengeteg tervünk volt veled”</h2>,\n",
       " <h2 _ngcontent-my-app-c84=\"\" class=\"article-title\">Szívszorító búcsú Babicsek Bernáttól: „Rengeteg tervünk volt veled”</h2>,\n",
       " <h2 _ngcontent-my-app-c84=\"\" class=\"article-title\">Keresztezte egymást a koronavírus és az influenza – megjelent a Flurona</h2>,\n",
       " <h2 _ngcontent-my-app-c84=\"\" class=\"article-title\">Keresztezte egymást a koronavírus és az influenza – megjelent a Flurona</h2>,\n",
       " <h2 _ngcontent-my-app-c84=\"\" class=\"article-title\">Damu Roland két évvel a halála előtt öngyilkosságot kísérelt meg</h2>,\n",
       " <h2 _ngcontent-my-app-c84=\"\" class=\"article-title\">Damu Roland két évvel a halála előtt öngyilkosságot kísérelt meg</h2>,\n",
       " <h2 _ngcontent-my-app-c84=\"\" class=\"article-title\">Szünetel a temetésfelvétel a kecskeméti köztemető Béke fasori ügyfélszolgálatán</h2>,\n",
       " <h2 _ngcontent-my-app-c84=\"\" class=\"article-title\">Nosztalgiával emlékeznek olvasóink a régi szép időkre</h2>,\n",
       " <h2 _ngcontent-my-app-c84=\"\" class=\"article-title\">Januárban kétszer viszik el a fenyőfákat ingyen Bácsszentgyörgyön</h2>,\n",
       " <h2 _ngcontent-my-app-c84=\"\" class=\"article-title\">Január közepén jön a Samsung nagy bejelentése</h2>,\n",
       " <h2 _ngcontent-my-app-c84=\"\" class=\"article-title\">Január közepén jön a Samsung nagy bejelentése</h2>,\n",
       " <h2 _ngcontent-my-app-c84=\"\" class=\"article-title\">A jövőben a vérnyomást és a vércukorszintet is mérheti egy okosgyűrű</h2>,\n",
       " <h2 _ngcontent-my-app-c84=\"\" class=\"article-title\">A jövőben a vérnyomást és a vércukorszintet is mérheti egy okosgyűrű</h2>,\n",
       " <h2 _ngcontent-my-app-c84=\"\" class=\"article-title\">A digitális kapcsolattartás uralta az ünnepeket</h2>,\n",
       " <h2 _ngcontent-my-app-c84=\"\" class=\"article-title\">A digitális kapcsolattartás uralta az ünnepeket</h2>]"
      ]
     },
     "execution_count": 43,
     "metadata": {},
     "output_type": "execute_result"
    }
   ],
   "source": [
    "soup.find_all(\"h2\", class_=\"article-title\")"
   ]
  },
  {
   "cell_type": "code",
   "execution_count": 64,
   "metadata": {},
   "outputs": [
    {
     "ename": "TypeError",
     "evalue": "unhashable type: 'slice'",
     "output_type": "error",
     "traceback": [
      "\u001b[0;31m---------------------------------------------------------------------------\u001b[0m",
      "\u001b[0;31mTypeError\u001b[0m                                 Traceback (most recent call last)",
      "\u001b[0;32m/var/folders/f4/25wfnr0j4f7cqph3245jt7240000gn/T/ipykernel_7573/1834787892.py\u001b[0m in \u001b[0;36m<module>\u001b[0;34m\u001b[0m\n\u001b[0;32m----> 1\u001b[0;31m \u001b[0mnewspaper\u001b[0m\u001b[0;34m.\u001b[0m\u001b[0mfulltext\u001b[0m\u001b[0;34m(\u001b[0m\u001b[0msubsoup\u001b[0m\u001b[0;34m)\u001b[0m\u001b[0;34m\u001b[0m\u001b[0;34m\u001b[0m\u001b[0m\n\u001b[0m",
      "\u001b[0;32m~/opt/miniconda3/envs/relief_sandbox/lib/python3.8/site-packages/newspaper/api.py\u001b[0m in \u001b[0;36mfulltext\u001b[0;34m(html, language)\u001b[0m\n\u001b[1;32m     85\u001b[0m     \u001b[0moutput_formatter\u001b[0m \u001b[0;34m=\u001b[0m \u001b[0mOutputFormatter\u001b[0m\u001b[0;34m(\u001b[0m\u001b[0mconfig\u001b[0m\u001b[0;34m)\u001b[0m\u001b[0;34m\u001b[0m\u001b[0;34m\u001b[0m\u001b[0m\n\u001b[1;32m     86\u001b[0m \u001b[0;34m\u001b[0m\u001b[0m\n\u001b[0;32m---> 87\u001b[0;31m     \u001b[0mdoc\u001b[0m \u001b[0;34m=\u001b[0m \u001b[0mconfig\u001b[0m\u001b[0;34m.\u001b[0m\u001b[0mget_parser\u001b[0m\u001b[0;34m(\u001b[0m\u001b[0;34m)\u001b[0m\u001b[0;34m.\u001b[0m\u001b[0mfromstring\u001b[0m\u001b[0;34m(\u001b[0m\u001b[0mhtml\u001b[0m\u001b[0;34m)\u001b[0m\u001b[0;34m\u001b[0m\u001b[0;34m\u001b[0m\u001b[0m\n\u001b[0m\u001b[1;32m     88\u001b[0m     \u001b[0mdoc\u001b[0m \u001b[0;34m=\u001b[0m \u001b[0mdocument_cleaner\u001b[0m\u001b[0;34m.\u001b[0m\u001b[0mclean\u001b[0m\u001b[0;34m(\u001b[0m\u001b[0mdoc\u001b[0m\u001b[0;34m)\u001b[0m\u001b[0;34m\u001b[0m\u001b[0;34m\u001b[0m\u001b[0m\n\u001b[1;32m     89\u001b[0m \u001b[0;34m\u001b[0m\u001b[0m\n",
      "\u001b[0;32m~/opt/miniconda3/envs/relief_sandbox/lib/python3.8/site-packages/newspaper/parsers.py\u001b[0m in \u001b[0;36mfromstring\u001b[0;34m(cls, html)\u001b[0m\n\u001b[1;32m     59\u001b[0m     \u001b[0;34m@\u001b[0m\u001b[0mclassmethod\u001b[0m\u001b[0;34m\u001b[0m\u001b[0;34m\u001b[0m\u001b[0m\n\u001b[1;32m     60\u001b[0m     \u001b[0;32mdef\u001b[0m \u001b[0mfromstring\u001b[0m\u001b[0;34m(\u001b[0m\u001b[0mcls\u001b[0m\u001b[0;34m,\u001b[0m \u001b[0mhtml\u001b[0m\u001b[0;34m)\u001b[0m\u001b[0;34m:\u001b[0m\u001b[0;34m\u001b[0m\u001b[0;34m\u001b[0m\u001b[0m\n\u001b[0;32m---> 61\u001b[0;31m         \u001b[0mhtml\u001b[0m \u001b[0;34m=\u001b[0m \u001b[0mcls\u001b[0m\u001b[0;34m.\u001b[0m\u001b[0mget_unicode_html\u001b[0m\u001b[0;34m(\u001b[0m\u001b[0mhtml\u001b[0m\u001b[0;34m)\u001b[0m\u001b[0;34m\u001b[0m\u001b[0;34m\u001b[0m\u001b[0m\n\u001b[0m\u001b[1;32m     62\u001b[0m         \u001b[0;31m# Enclosed in a `try` to prevent bringing the entire library\u001b[0m\u001b[0;34m\u001b[0m\u001b[0;34m\u001b[0m\u001b[0;34m\u001b[0m\u001b[0m\n\u001b[1;32m     63\u001b[0m         \u001b[0;31m# down due to one article (out of potentially many in a `Source`)\u001b[0m\u001b[0;34m\u001b[0m\u001b[0;34m\u001b[0m\u001b[0;34m\u001b[0m\u001b[0m\n",
      "\u001b[0;32m~/opt/miniconda3/envs/relief_sandbox/lib/python3.8/site-packages/newspaper/parsers.py\u001b[0m in \u001b[0;36mget_unicode_html\u001b[0;34m(cls, html)\u001b[0m\n\u001b[1;32m     49\u001b[0m         \u001b[0;32mif\u001b[0m \u001b[0;32mnot\u001b[0m \u001b[0mhtml\u001b[0m\u001b[0;34m:\u001b[0m\u001b[0;34m\u001b[0m\u001b[0;34m\u001b[0m\u001b[0m\n\u001b[1;32m     50\u001b[0m             \u001b[0;32mreturn\u001b[0m \u001b[0mhtml\u001b[0m\u001b[0;34m\u001b[0m\u001b[0;34m\u001b[0m\u001b[0m\n\u001b[0;32m---> 51\u001b[0;31m         \u001b[0mconverted\u001b[0m \u001b[0;34m=\u001b[0m \u001b[0mUnicodeDammit\u001b[0m\u001b[0;34m(\u001b[0m\u001b[0mhtml\u001b[0m\u001b[0;34m,\u001b[0m \u001b[0mis_html\u001b[0m\u001b[0;34m=\u001b[0m\u001b[0;32mTrue\u001b[0m\u001b[0;34m)\u001b[0m\u001b[0;34m\u001b[0m\u001b[0;34m\u001b[0m\u001b[0m\n\u001b[0m\u001b[1;32m     52\u001b[0m         \u001b[0;32mif\u001b[0m \u001b[0;32mnot\u001b[0m \u001b[0mconverted\u001b[0m\u001b[0;34m.\u001b[0m\u001b[0municode_markup\u001b[0m\u001b[0;34m:\u001b[0m\u001b[0;34m\u001b[0m\u001b[0;34m\u001b[0m\u001b[0m\n\u001b[1;32m     53\u001b[0m             raise Exception(\n",
      "\u001b[0;32m~/opt/miniconda3/envs/relief_sandbox/lib/python3.8/site-packages/bs4/dammit.py\u001b[0m in \u001b[0;36m__init__\u001b[0;34m(self, markup, known_definite_encodings, smart_quotes_to, is_html, exclude_encodings, user_encodings, override_encodings)\u001b[0m\n\u001b[1;32m   2825\u001b[0m         \u001b[0mself\u001b[0m\u001b[0;34m.\u001b[0m\u001b[0mis_html\u001b[0m \u001b[0;34m=\u001b[0m \u001b[0mis_html\u001b[0m\u001b[0;34m\u001b[0m\u001b[0;34m\u001b[0m\u001b[0m\n\u001b[1;32m   2826\u001b[0m         \u001b[0mself\u001b[0m\u001b[0;34m.\u001b[0m\u001b[0mlog\u001b[0m \u001b[0;34m=\u001b[0m \u001b[0mlogging\u001b[0m\u001b[0;34m.\u001b[0m\u001b[0mgetLogger\u001b[0m\u001b[0;34m(\u001b[0m\u001b[0m__name__\u001b[0m\u001b[0;34m)\u001b[0m\u001b[0;34m\u001b[0m\u001b[0;34m\u001b[0m\u001b[0m\n\u001b[0;32m-> 2827\u001b[0;31m         self.detector = EncodingDetector(\n\u001b[0m\u001b[1;32m   2828\u001b[0m             \u001b[0mmarkup\u001b[0m\u001b[0;34m,\u001b[0m \u001b[0mknown_definite_encodings\u001b[0m\u001b[0;34m,\u001b[0m \u001b[0mis_html\u001b[0m\u001b[0;34m,\u001b[0m \u001b[0mexclude_encodings\u001b[0m\u001b[0;34m,\u001b[0m\u001b[0;34m\u001b[0m\u001b[0;34m\u001b[0m\u001b[0m\n\u001b[1;32m   2829\u001b[0m             \u001b[0muser_encodings\u001b[0m\u001b[0;34m,\u001b[0m \u001b[0moverride_encodings\u001b[0m\u001b[0;34m\u001b[0m\u001b[0;34m\u001b[0m\u001b[0m\n",
      "\u001b[0;32m~/opt/miniconda3/envs/relief_sandbox/lib/python3.8/site-packages/bs4/dammit.py\u001b[0m in \u001b[0;36m__init__\u001b[0;34m(self, markup, known_definite_encodings, is_html, exclude_encodings, user_encodings, override_encodings)\u001b[0m\n\u001b[1;32m   2630\u001b[0m \u001b[0;34m\u001b[0m\u001b[0m\n\u001b[1;32m   2631\u001b[0m         \u001b[0;31m# First order of business: strip a byte-order mark.\u001b[0m\u001b[0;34m\u001b[0m\u001b[0;34m\u001b[0m\u001b[0;34m\u001b[0m\u001b[0m\n\u001b[0;32m-> 2632\u001b[0;31m         \u001b[0mself\u001b[0m\u001b[0;34m.\u001b[0m\u001b[0mmarkup\u001b[0m\u001b[0;34m,\u001b[0m \u001b[0mself\u001b[0m\u001b[0;34m.\u001b[0m\u001b[0msniffed_encoding\u001b[0m \u001b[0;34m=\u001b[0m \u001b[0mself\u001b[0m\u001b[0;34m.\u001b[0m\u001b[0mstrip_byte_order_mark\u001b[0m\u001b[0;34m(\u001b[0m\u001b[0mmarkup\u001b[0m\u001b[0;34m)\u001b[0m\u001b[0;34m\u001b[0m\u001b[0;34m\u001b[0m\u001b[0m\n\u001b[0m\u001b[1;32m   2633\u001b[0m \u001b[0;34m\u001b[0m\u001b[0m\n\u001b[1;32m   2634\u001b[0m     \u001b[0;32mdef\u001b[0m \u001b[0m_usable\u001b[0m\u001b[0;34m(\u001b[0m\u001b[0mself\u001b[0m\u001b[0;34m,\u001b[0m \u001b[0mencoding\u001b[0m\u001b[0;34m,\u001b[0m \u001b[0mtried\u001b[0m\u001b[0;34m)\u001b[0m\u001b[0;34m:\u001b[0m\u001b[0;34m\u001b[0m\u001b[0;34m\u001b[0m\u001b[0m\n",
      "\u001b[0;32m~/opt/miniconda3/envs/relief_sandbox/lib/python3.8/site-packages/bs4/dammit.py\u001b[0m in \u001b[0;36mstrip_byte_order_mark\u001b[0;34m(cls, data)\u001b[0m\n\u001b[1;32m   2703\u001b[0m             \u001b[0;31m# Unicode data cannot have a byte-order mark.\u001b[0m\u001b[0;34m\u001b[0m\u001b[0;34m\u001b[0m\u001b[0;34m\u001b[0m\u001b[0m\n\u001b[1;32m   2704\u001b[0m             \u001b[0;32mreturn\u001b[0m \u001b[0mdata\u001b[0m\u001b[0;34m,\u001b[0m \u001b[0mencoding\u001b[0m\u001b[0;34m\u001b[0m\u001b[0;34m\u001b[0m\u001b[0m\n\u001b[0;32m-> 2705\u001b[0;31m         \u001b[0;32mif\u001b[0m \u001b[0;34m(\u001b[0m\u001b[0mlen\u001b[0m\u001b[0;34m(\u001b[0m\u001b[0mdata\u001b[0m\u001b[0;34m)\u001b[0m \u001b[0;34m>=\u001b[0m \u001b[0;36m4\u001b[0m\u001b[0;34m)\u001b[0m \u001b[0;32mand\u001b[0m \u001b[0;34m(\u001b[0m\u001b[0mdata\u001b[0m\u001b[0;34m[\u001b[0m\u001b[0;34m:\u001b[0m\u001b[0;36m2\u001b[0m\u001b[0;34m]\u001b[0m \u001b[0;34m==\u001b[0m \u001b[0;34mb'\\xfe\\xff'\u001b[0m\u001b[0;34m)\u001b[0m\u001b[0;31m \u001b[0m\u001b[0;31m\\\u001b[0m\u001b[0;34m\u001b[0m\u001b[0;34m\u001b[0m\u001b[0m\n\u001b[0m\u001b[1;32m   2706\u001b[0m                \u001b[0;32mand\u001b[0m \u001b[0;34m(\u001b[0m\u001b[0mdata\u001b[0m\u001b[0;34m[\u001b[0m\u001b[0;36m2\u001b[0m\u001b[0;34m:\u001b[0m\u001b[0;36m4\u001b[0m\u001b[0;34m]\u001b[0m \u001b[0;34m!=\u001b[0m \u001b[0;34m'\\x00\\x00'\u001b[0m\u001b[0;34m)\u001b[0m\u001b[0;34m:\u001b[0m\u001b[0;34m\u001b[0m\u001b[0;34m\u001b[0m\u001b[0m\n\u001b[1;32m   2707\u001b[0m             \u001b[0mencoding\u001b[0m \u001b[0;34m=\u001b[0m \u001b[0;34m'utf-16be'\u001b[0m\u001b[0;34m\u001b[0m\u001b[0;34m\u001b[0m\u001b[0m\n",
      "\u001b[0;32m~/opt/miniconda3/envs/relief_sandbox/lib/python3.8/site-packages/bs4/element.py\u001b[0m in \u001b[0;36m__getitem__\u001b[0;34m(self, key)\u001b[0m\n\u001b[1;32m   1484\u001b[0m         \"\"\"tag[key] returns the value of the 'key' attribute for the Tag,\n\u001b[1;32m   1485\u001b[0m         and throws an exception if it's not there.\"\"\"\n\u001b[0;32m-> 1486\u001b[0;31m         \u001b[0;32mreturn\u001b[0m \u001b[0mself\u001b[0m\u001b[0;34m.\u001b[0m\u001b[0mattrs\u001b[0m\u001b[0;34m[\u001b[0m\u001b[0mkey\u001b[0m\u001b[0;34m]\u001b[0m\u001b[0;34m\u001b[0m\u001b[0;34m\u001b[0m\u001b[0m\n\u001b[0m\u001b[1;32m   1487\u001b[0m \u001b[0;34m\u001b[0m\u001b[0m\n\u001b[1;32m   1488\u001b[0m     \u001b[0;32mdef\u001b[0m \u001b[0m__iter__\u001b[0m\u001b[0;34m(\u001b[0m\u001b[0mself\u001b[0m\u001b[0;34m)\u001b[0m\u001b[0;34m:\u001b[0m\u001b[0;34m\u001b[0m\u001b[0;34m\u001b[0m\u001b[0m\n",
      "\u001b[0;31mTypeError\u001b[0m: unhashable type: 'slice'"
     ]
    }
   ],
   "source": [
    "newspaper."
   ]
  },
  {
   "cell_type": "code",
   "execution_count": 68,
   "metadata": {},
   "outputs": [
    {
     "name": "stdout",
     "output_type": "stream",
     "text": [
      "baon: villámárvíz\n"
     ]
    }
   ],
   "source": [
    "keyword=\"villámárvíz\"\n",
    "for i in site_df.index:\n",
    "\n",
    "    site_name=site_df[\"site_name\"].iloc[i]\n",
    "    file_name=f\"/Users/benceszabo/Side/relief/data/local/search_results/{site_name}_{keyword}.html\"\n",
    "\n",
    "    print (f\"{site_name}: {keyword}\")\n",
    "\n",
    "    with open(file_name,\"r\") as html_file:\n",
    "        html_text=html_file.read()\n",
    "\n",
    "\n",
    "\n",
    "    break\n",
    "    \n"
   ]
  },
  {
   "cell_type": "code",
   "execution_count": 71,
   "metadata": {},
   "outputs": [],
   "source": [
    "soup=bs4.BeautifulSoup(html_text)\n",
    "subsoup=soup.find(class_=\"left-column ng-tns-c101-0\")"
   ]
  },
  {
   "cell_type": "code",
   "execution_count": 83,
   "metadata": {},
   "outputs": [],
   "source": [
    "results=subsoup.find_all(class_=\"article-block ng-star-inserted\")"
   ]
  },
  {
   "cell_type": "code",
   "execution_count": 84,
   "metadata": {},
   "outputs": [
    {
     "data": {
      "text/plain": [
       "10"
      ]
     },
     "execution_count": 84,
     "metadata": {},
     "output_type": "execute_result"
    }
   ],
   "source": [
    "len(results)"
   ]
  },
  {
   "cell_type": "code",
   "execution_count": 85,
   "metadata": {},
   "outputs": [
    {
     "data": {
      "text/plain": [
       "'A villámárvizekről rendeztek konferenciát Baján'"
      ]
     },
     "execution_count": 85,
     "metadata": {},
     "output_type": "execute_result"
    }
   ],
   "source": [
    "results[0].find(class_=\"article-title\").text"
   ]
  },
  {
   "cell_type": "code",
   "execution_count": 88,
   "metadata": {},
   "outputs": [
    {
     "data": {
      "text/plain": [
       "'2021.10.16. 09:11'"
      ]
     },
     "execution_count": 88,
     "metadata": {},
     "output_type": "execute_result"
    }
   ],
   "source": [
    "results[0].find(class_=\"article-date\").text\n"
   ]
  },
  {
   "cell_type": "code",
   "execution_count": 95,
   "metadata": {},
   "outputs": [
    {
     "data": {
      "text/plain": [
       "'/helyi-kozelet/2021/10/a-villamarvizekrol-rendeztek-konferenciat-bajan'"
      ]
     },
     "execution_count": 95,
     "metadata": {},
     "output_type": "execute_result"
    }
   ],
   "source": [
    "results[0].find(class_=\"article-link ng-star-inserted\")[\"href\"]"
   ]
  },
  {
   "cell_type": "code",
   "execution_count": 115,
   "metadata": {},
   "outputs": [
    {
     "name": "stdout",
     "output_type": "stream",
     "text": [
      "2021.10.16. 09:11\n",
      "80 days, 12:30:49.321225\n",
      "False\n",
      "2021.09.20. 19:00\n",
      "106 days, 2:41:49.321546\n",
      "False\n",
      "2021.07.18. 16:07\n",
      "170 days, 5:34:49.322394\n",
      "False\n",
      "2021.07.14. 15:50\n",
      "174 days, 5:51:49.324244\n",
      "False\n",
      "2021.07.11. 08:35\n",
      "177 days, 13:06:49.324526\n",
      "False\n",
      "2021.02.08. 18:30\n",
      "330 days, 3:11:49.325281\n",
      "False\n",
      "2020.06.14. 18:46\n",
      "569 days, 2:55:49.325535\n",
      "False\n",
      "2019.09.02. 12:10\n",
      "855 days, 9:31:49.325771\n",
      "False\n",
      "2019.06.08. 14:25\n",
      "941 days, 7:16:49.326278\n",
      "False\n",
      "2019.04.25. 18:00\n",
      "985 days, 3:41:49.326540\n",
      "False\n"
     ]
    }
   ],
   "source": [
    "for result in results:\n",
    "    date=result.find(class_=\"article-date\").text\n",
    "    print (date)\n",
    "    date_obj = datetime. strptime(date, '%Y.%m.%d. %H:%M')\n",
    "    \n",
    "    print (datetime.now()-timedelta(days=1) < date_obj)\n"
   ]
  },
  {
   "cell_type": "code",
   "execution_count": 110,
   "metadata": {},
   "outputs": [
    {
     "data": {
      "text/plain": [
       "datetime.datetime(2021, 12, 28, 21, 39, 58, 385556)"
      ]
     },
     "execution_count": 110,
     "metadata": {},
     "output_type": "execute_result"
    }
   ],
   "source": [
    "datetime.now()-timedelta(weeks=1)"
   ]
  },
  {
   "cell_type": "code",
   "execution_count": null,
   "metadata": {},
   "outputs": [],
   "source": [
    "a<a _ngcontent-my-app-c84=\"\" class=\"article-link ng-star-inserted\" href=\"/helyi-kozelet/2021/09/konferenciat-szervez-a-bajai-kar\"><h2 _ngcontent-my-app-c84=\"\" class=\"article-title\">Konferenciát szervez a bajai kar</h2><span _ngcontent-my-app-c84=\"\" class=\"article-sub-title\">A dombvidéki vízrendezés is témája lesz a konferenciának.</span></a>"
   ]
  }
 ],
 "metadata": {
  "interpreter": {
   "hash": "1ed379fcb060ad2a17c7c071b22fd52c95940d845c7d2670f23a000ff4c4624a"
  },
  "kernelspec": {
   "display_name": "Python 3.8.12 64-bit ('relief_sandbox': conda)",
   "language": "python",
   "name": "python3"
  },
  "language_info": {
   "codemirror_mode": {
    "name": "ipython",
    "version": 3
   },
   "file_extension": ".py",
   "mimetype": "text/x-python",
   "name": "python",
   "nbconvert_exporter": "python",
   "pygments_lexer": "ipython3",
   "version": "3.8.12"
  },
  "orig_nbformat": 4
 },
 "nbformat": 4,
 "nbformat_minor": 2
}
