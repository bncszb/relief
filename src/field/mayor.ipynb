{
 "cells": [
  {
   "cell_type": "code",
   "execution_count": 21,
   "metadata": {},
   "outputs": [],
   "source": [
    "import requests\n",
    "from bs4 import BeautifulSoup\n",
    "import json\n",
    "import pandas as pd\n",
    "import time"
   ]
  },
  {
   "cell_type": "code",
   "execution_count": 7,
   "metadata": {},
   "outputs": [],
   "source": [
    "base_url=\"http://xn--tosz-5qa.hu/szolgaltatasaink/onkormanyzati-adatbazis/?telepules=\"\n"
   ]
  },
  {
   "cell_type": "code",
   "execution_count": 23,
   "metadata": {},
   "outputs": [],
   "source": [
    "URL = \"http://xn--tosz-5qa.hu/szolgaltatasaink/onkormanyzati-adatbazis/?telepules=\"\n",
    "county_pagepage = requests.get(URL)\n",
    "\n",
    "soup= BeautifulSoup(page.text)"
   ]
  },
  {
   "cell_type": "code",
   "execution_count": 82,
   "metadata": {},
   "outputs": [
    {
     "data": {
      "text/plain": [
       "{'Bács-Kiskun Megye': 'del-alfoldi-regio-1/bacs-kiskun-megye-1',\n",
       " 'Baranya Megye': 'del-dunantuli-regio-2/baranya-megye-2',\n",
       " 'Békés Megye': 'del-alfoldi-regio-1/bekes-megye-3',\n",
       " 'Borsod-Abaúj-Zemplén Megye': 'eszak-magyarorszagi-regio-4/borsod-abauj-zemplen-megye-4',\n",
       " 'Budapest Főváros': 'kozep-magyarorszagi-regio-6/budapest-fovaros-5',\n",
       " 'Csongrád Megye': 'del-alfoldi-regio-1/csongrad-megye-6',\n",
       " 'Fejér Megye': 'kozep-dunantuli-regio-5/fejer-megye-7',\n",
       " 'Győr-Moson-Sopron Megye': 'nyugat-dunantuli-regio-7/gyor-moson-sopron-megye-8',\n",
       " 'Hajdú-Bihar Megye': 'eszak-alfoldi-regio-3/hajdu-bihar-megye-9',\n",
       " 'Heves Megye': 'eszak-magyarorszagi-regio-4/heves-megye-10',\n",
       " 'Jász-Nagykun-Szolnok Megye': 'eszak-alfoldi-regio-3/jasz-nagykun-szolnok-megye-11',\n",
       " 'Komárom-Esztergom Megye': 'kozep-dunantuli-regio-5/komarom-esztergom-megye-12',\n",
       " 'Nógrád Megye': 'eszak-magyarorszagi-regio-4/nograd-megye-13',\n",
       " 'Pest Megye': 'kozep-magyarorszagi-regio-6/pest-megye-14',\n",
       " 'Somogy Megye': 'del-dunantuli-regio-2/somogy-megye-15',\n",
       " 'Szabolcs-Szatmár-Bereg Megye': 'eszak-alfoldi-regio-3/szabolcs-szatmar-bereg-megye-16',\n",
       " 'Tolna Megye': 'del-dunantuli-regio-2/tolna-megye-17',\n",
       " 'Vas Megye': 'nyugat-dunantuli-regio-7/vas-megye-18',\n",
       " 'Veszprém Megye': 'kozep-dunantuli-regio-5/veszprem-megye-19',\n",
       " 'Zala Megye': 'nyugat-dunantuli-regio-7/zala-megye-20'}"
      ]
     },
     "execution_count": 82,
     "metadata": {},
     "output_type": "execute_result"
    }
   ],
   "source": [
    "selectors=soup.find_all(\"select\")\n",
    "for s in selectors:\n",
    "    if \"megye\" in s[\"onchange\"]:\n",
    "        county_opts = {o.text: o[\"value\"] for o in s.contents if \"Válasszon\" not in o.text}\n",
    "        break\n",
    "\n",
    "county_opts\n",
    "        "
   ]
  },
  {
   "cell_type": "code",
   "execution_count": 90,
   "metadata": {},
   "outputs": [
    {
     "name": "stdout",
     "output_type": "stream",
     "text": [
      "http://xn--tosz-5qa.hu/szolgaltatasaink/onkormanyzati-adatbazis/?telepules=del-alfoldi-regio-1/bacs-kiskun-megye-1\n",
      "http://xn--tosz-5qa.hu/szolgaltatasaink/onkormanyzati-adatbazis/?telepules=del-dunantuli-regio-2/baranya-megye-2\n",
      "http://xn--tosz-5qa.hu/szolgaltatasaink/onkormanyzati-adatbazis/?telepules=del-alfoldi-regio-1/bekes-megye-3\n",
      "http://xn--tosz-5qa.hu/szolgaltatasaink/onkormanyzati-adatbazis/?telepules=eszak-magyarorszagi-regio-4/borsod-abauj-zemplen-megye-4\n",
      "http://xn--tosz-5qa.hu/szolgaltatasaink/onkormanyzati-adatbazis/?telepules=kozep-magyarorszagi-regio-6/budapest-fovaros-5\n",
      "http://xn--tosz-5qa.hu/szolgaltatasaink/onkormanyzati-adatbazis/?telepules=del-alfoldi-regio-1/csongrad-megye-6\n",
      "http://xn--tosz-5qa.hu/szolgaltatasaink/onkormanyzati-adatbazis/?telepules=kozep-dunantuli-regio-5/fejer-megye-7\n",
      "http://xn--tosz-5qa.hu/szolgaltatasaink/onkormanyzati-adatbazis/?telepules=nyugat-dunantuli-regio-7/gyor-moson-sopron-megye-8\n",
      "http://xn--tosz-5qa.hu/szolgaltatasaink/onkormanyzati-adatbazis/?telepules=eszak-alfoldi-regio-3/hajdu-bihar-megye-9\n",
      "http://xn--tosz-5qa.hu/szolgaltatasaink/onkormanyzati-adatbazis/?telepules=eszak-magyarorszagi-regio-4/heves-megye-10\n",
      "http://xn--tosz-5qa.hu/szolgaltatasaink/onkormanyzati-adatbazis/?telepules=eszak-alfoldi-regio-3/jasz-nagykun-szolnok-megye-11\n",
      "http://xn--tosz-5qa.hu/szolgaltatasaink/onkormanyzati-adatbazis/?telepules=kozep-dunantuli-regio-5/komarom-esztergom-megye-12\n",
      "http://xn--tosz-5qa.hu/szolgaltatasaink/onkormanyzati-adatbazis/?telepules=eszak-magyarorszagi-regio-4/nograd-megye-13\n",
      "http://xn--tosz-5qa.hu/szolgaltatasaink/onkormanyzati-adatbazis/?telepules=kozep-magyarorszagi-regio-6/pest-megye-14\n",
      "http://xn--tosz-5qa.hu/szolgaltatasaink/onkormanyzati-adatbazis/?telepules=del-dunantuli-regio-2/somogy-megye-15\n",
      "http://xn--tosz-5qa.hu/szolgaltatasaink/onkormanyzati-adatbazis/?telepules=eszak-alfoldi-regio-3/szabolcs-szatmar-bereg-megye-16\n",
      "http://xn--tosz-5qa.hu/szolgaltatasaink/onkormanyzati-adatbazis/?telepules=del-dunantuli-regio-2/tolna-megye-17\n",
      "http://xn--tosz-5qa.hu/szolgaltatasaink/onkormanyzati-adatbazis/?telepules=nyugat-dunantuli-regio-7/vas-megye-18\n",
      "http://xn--tosz-5qa.hu/szolgaltatasaink/onkormanyzati-adatbazis/?telepules=kozep-dunantuli-regio-5/veszprem-megye-19\n",
      "http://xn--tosz-5qa.hu/szolgaltatasaink/onkormanyzati-adatbazis/?telepules=nyugat-dunantuli-regio-7/zala-megye-20\n"
     ]
    }
   ],
   "source": [
    "ks = ['Bács-Kiskun Megye']\n",
    "\n",
    "all_towns={}\n",
    "for k in county_opts:\n",
    "    county_URL=URL+county_opts[k]\n",
    "    print(county_URL)\n",
    "    \n",
    "    county_page = requests.get(county_URL)\n",
    "    county_soup= BeautifulSoup(county_page.text)\n",
    "\n",
    "    selectors=county_soup.find_all(\"select\")\n",
    "    for s in selectors:\n",
    "        if \"telepules\" in s[\"onchange\"]:\n",
    "            opts = {o.text: o[\"value\"] for o in s.contents if \"Válasszon\" not in o.text}\n",
    "            break\n",
    "\n",
    "    all_towns.update(opts)\n",
    "    time.sleep(1)\n",
    "\n",
    "\n",
    "    "
   ]
  },
  {
   "cell_type": "code",
   "execution_count": 96,
   "metadata": {},
   "outputs": [],
   "source": [
    "with open(\"toosz_towns.json\",\"w\") as f:\n",
    "    json.dump(all_towns,f)"
   ]
  },
  {
   "cell_type": "code",
   "execution_count": 3,
   "metadata": {},
   "outputs": [],
   "source": [
    "with open(\"toosz_towns.json\") as f:\n",
    "    all_towns=json.load(f)"
   ]
  },
  {
   "cell_type": "code",
   "execution_count": 22,
   "metadata": {},
   "outputs": [
    {
     "name": "stdout",
     "output_type": "stream",
     "text": [
      "Ágasegyháza\n",
      "Akasztó\n",
      "Apostag\n",
      "Bácsalmás\n",
      "Bácsbokod\n",
      "Bácsborsód\n",
      "Bácsszentgyörgy\n",
      "Bácsszőlős\n",
      "Baja\n",
      "Ballószög\n",
      "Balotaszállás\n",
      "Bátmonostor\n",
      "Bátya\n",
      "Bócsa\n",
      "Borota\n",
      "Bugac\n",
      "Bugacpusztaháza\n",
      "Császártöltés\n",
      "Csátalja\n",
      "Csávoly\n",
      "Csengőd\n",
      "Csikéria\n",
      "Csólyospálos\n",
      "Dávod\n",
      "Drágszél\n",
      "Dunaegyháza\n",
      "Dunafalva\n",
      "Dunapataj\n",
      "Dunaszentbenedek\n",
      "Dunatetétlen\n",
      "Dunavecse\n",
      "Dusnok\n",
      "Érsekcsanád\n",
      "Érsekhalma\n",
      "Fajsz\n",
      "Felsőlajos\n",
      "Felsőszentiván\n",
      "Foktő\n",
      "Fülöpháza\n",
      "Fülöpjakab\n",
      "Fülöpszállás\n",
      "Gara\n",
      "Gátér\n",
      "Géderlak\n",
      "Hajós\n",
      "Harkakötöny\n",
      "Harta\n",
      "Helvécia\n",
      "Hercegszántó\n",
      "Homokmégy\n",
      "Imrehegy\n",
      "Izsák\n",
      "Jakabszállás\n",
      "Jánoshalma\n",
      "Jászszentlászló\n",
      "Kalocsa\n",
      "Kaskantyú\n",
      "Katymár\n",
      "Kecel\n",
      "Kecskemét\n",
      "Kelebia\n",
      "Kéleshalom\n",
      "Kerekegyháza\n",
      "Kiskőrös\n",
      "Kiskunfélegyháza\n",
      "Kiskunhalas\n",
      "Kiskunmajsa\n",
      "Kisszállás\n",
      "Kömpöc\n",
      "Kunadacs\n",
      "Kunbaja\n",
      "Kunbaracs\n",
      "Kunfehértó\n",
      "Kunpeszér\n",
      "Kunszállás\n",
      "Kunszentmiklós\n",
      "Ladánybene\n",
      "Lajosmizse\n",
      "Lakitelek\n",
      "Madaras\n",
      "Mátételke\n",
      "Mélykút\n",
      "Miske\n",
      "Móricgát\n",
      "Nagybaracska\n",
      "Nemesnádudvar\n",
      "Nyárlőrinc\n",
      "Ordas\n",
      "Öregcsertő\n",
      "Orgovány\n",
      "Páhi\n",
      "Pálmonostora\n",
      "Petőfiszállás\n",
      "Pirtó\n",
      "Rém\n",
      "Solt\n",
      "Soltszentimre\n",
      "Soltvadkert\n",
      "Sükösd\n",
      "Szabadszállás\n"
     ]
    }
   ],
   "source": [
    "ks = list(all_towns.keys())[:100]\n",
    "\n",
    "df = pd.DataFrame(columns=['Polgármester e-mail', 'Polgármester', 'Cím', 'Önkormányzat telefon',\n",
    "       'Önkormányzat e-mail'])\n",
    "\n",
    "for k in ks:\n",
    "    town_url=base_url+all_towns[k]\n",
    "    print(k)\n",
    "    \n",
    "    town_page = requests.get(town_url)\n",
    "    town_soup= BeautifulSoup(town_page.text)\n",
    "    town_soup.find_all(\"col_md_6\")\n",
    "\n",
    "    col_md_6s=town_soup.find_all(\"div\", {\"class\": \"col-md-6\"})\n",
    "\n",
    "    town_info={}\n",
    "    for c in col_md_6s:\n",
    "        if \"önkormányzat\" in str(c.contents[0]).lower():\n",
    "            for line in c.contents[0].contents:\n",
    "                if \"Cím:\" in line:\n",
    "                    town_info['Cím']=line.replace(\"Cím: \",\"\")\n",
    "                elif \"Telefon\" in line:\n",
    "                    town_info['Önkormányzat telefon']=line.replace(\"Telefon: \",\"\")\n",
    "                elif \"mailto:\" in str(line):\n",
    "                    town_info['Önkormányzat e-mail']=line.text\n",
    "\n",
    "        if \"polgármester\" in str(c.contents[0]).lower():\n",
    "            for line in c.contents[0].contents:\n",
    "                if \"Cím:\" in line:\n",
    "                    town_info['Cím']=line.replace(\"Cím: \",\"\")\n",
    "                elif \"Telefon\" in line:\n",
    "                    town_info['Polgármester telefon']=line.replace(\"Telefon: \",\"\")\n",
    "                elif \"mailto:\" in str(line):\n",
    "                    town_info['Polgármester e-mail']=line.text\n",
    "            \n",
    "            town_info['Polgármester']=c.contents[0].contents[3]\n",
    "    town_series=pd.Series(town_info,name=k)\n",
    "    df.loc[k]=town_info\n",
    "    time.sleep(1)\n",
    "        "
   ]
  },
  {
   "cell_type": "code",
   "execution_count": 26,
   "metadata": {},
   "outputs": [],
   "source": [
    "df.to_excel(\"polgik_100.xlsx\")"
   ]
  },
  {
   "cell_type": "code",
   "execution_count": 210,
   "metadata": {},
   "outputs": [
    {
     "data": {
      "text/plain": [
       "Index(['Polgármester e-mail', 'Polgármester', 'Cím', 'Önkormányzat telefon',\n",
       "       'Önkormányzat e-mail'],\n",
       "      dtype='object')"
      ]
     },
     "execution_count": 210,
     "metadata": {},
     "output_type": "execute_result"
    }
   ],
   "source": [
    "df.index"
   ]
  },
  {
   "cell_type": "code",
   "execution_count": 190,
   "metadata": {},
   "outputs": [
    {
     "name": "stdout",
     "output_type": "stream",
     "text": [
      "{'Polgármester e-mail': 'furedi.janos@t-online.hu', 'Polgármester': 'Füredi János', 'Cím': '6076 Ágasegyháza, Szent István tér 1.', 'Önkormányzat telefon': '(76)571-009', 'Önkormányzat e-mail': 'pmstrh@t-online.hu'}\n"
     ]
    }
   ],
   "source": [
    "col_md_6s=town_soup.find_all(\"div\", {\"class\": \"col-md-6\"})\n",
    "\n",
    "town_info={}\n",
    "for c in col_md_6s:\n",
    "    if \"önkormányzat\" in str(c.contents[0]).lower():\n",
    "        for line in c.contents[0].contents:\n",
    "            if \"Cím:\" in line:\n",
    "                town_info['Cím']=line.replace(\"Cím: \",\"\")\n",
    "            elif \"Telefon\" in line:\n",
    "                town_info['Önkormányzat telefon']=line.replace(\"Telefon: \",\"\")\n",
    "            elif \"mailto:\" in str(line):\n",
    "                town_info['Önkormányzat e-mail']=line.text\n",
    "\n",
    "    if \"polgármester\" in str(c.contents[0]).lower():\n",
    "        for line in c.contents[0].contents:\n",
    "            if \"Cím:\" in line:\n",
    "                town_info['Cím']=line.replace(\"Cím: \",\"\")\n",
    "            elif \"Telefon\" in line:\n",
    "                town_info['Polgármester telefon']=line.replace(\"Telefon: \",\"\")\n",
    "            elif \"mailto:\" in str(line):\n",
    "                town_info['Polgármester e-mail']=line.text\n",
    "        \n",
    "        town_info['Polgármester']=c.contents[0].contents[3]\n",
    "print(town_info)\n",
    "    "
   ]
  },
  {
   "cell_type": "code",
   "execution_count": 187,
   "metadata": {},
   "outputs": [
    {
     "data": {
      "text/plain": [
       "{'Önkormányzat e-mail': 'furedi.janos@t-online.hu',\n",
       " 'Polgármester': 'Füredi János'}"
      ]
     },
     "execution_count": 187,
     "metadata": {},
     "output_type": "execute_result"
    }
   ],
   "source": [
    "c=col_md_6s[0]\n",
    "\n",
    "town_info={}\n",
    "\n",
    "\n",
    "if \"önkormányzat\" in str(c.contents[0]).lower():\n",
    "    for line in c.contents[0].contents:\n",
    "        if \"Cím:\" in line:\n",
    "            town_info['Cím']=line.replace(\"Cím: \",\"\")\n",
    "        elif \"Telefon\" in line:\n",
    "            town_info['Önkormányzat telefon']=line.replace(\"Telefon: \",\"\")\n",
    "        elif \"mailto:\" in str(line):\n",
    "            town_info['Önkormányzat e-mail']=line.text\n",
    "\n",
    "if \"polgármester\" in str(c.contents[0]).lower():\n",
    "    for line in c.contents[0].contents:\n",
    "        if \"Cím:\" in line:\n",
    "            town_info['Cím']=line.replace(\"Cím: \",\"\")\n",
    "        elif \"Telefon\" in line:\n",
    "            town_info['Önkormányzat telefon']=line.replace(\"Telefon: \",\"\")\n",
    "        elif \"mailto:\" in str(line):\n",
    "            town_info['Önkormányzat e-mail']=line.text\n",
    "    \n",
    "    town_info['Polgármester']=c.contents[0].contents[3]\n",
    "town_info"
   ]
  },
  {
   "cell_type": "code",
   "execution_count": 186,
   "metadata": {},
   "outputs": [
    {
     "data": {
      "text/plain": [
       "'Füredi János'"
      ]
     },
     "execution_count": 186,
     "metadata": {},
     "output_type": "execute_result"
    }
   ],
   "source": [
    "c.contents[0].contents[3]"
   ]
  }
 ],
 "metadata": {
  "kernelspec": {
   "display_name": "Python 3.8.12 ('relief_sandbox')",
   "language": "python",
   "name": "python3"
  },
  "language_info": {
   "codemirror_mode": {
    "name": "ipython",
    "version": 3
   },
   "file_extension": ".py",
   "mimetype": "text/x-python",
   "name": "python",
   "nbconvert_exporter": "python",
   "pygments_lexer": "ipython3",
   "version": "3.8.12"
  },
  "orig_nbformat": 4,
  "vscode": {
   "interpreter": {
    "hash": "1ed379fcb060ad2a17c7c071b22fd52c95940d845c7d2670f23a000ff4c4624a"
   }
  }
 },
 "nbformat": 4,
 "nbformat_minor": 2
}
