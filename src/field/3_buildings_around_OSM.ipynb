{
 "cells": [
  {
   "cell_type": "code",
   "execution_count": 2,
   "metadata": {},
   "outputs": [],
   "source": [
    "import overpy"
   ]
  },
  {
   "cell_type": "code",
   "execution_count": 35,
   "metadata": {},
   "outputs": [],
   "source": [
    "lat, lon=(48.2064026, 22.51293014945082)"
   ]
  },
  {
   "cell_type": "code",
   "execution_count": 36,
   "metadata": {},
   "outputs": [
    {
     "data": {
      "text/plain": [
       "48.2064026"
      ]
     },
     "execution_count": 36,
     "metadata": {},
     "output_type": "execute_result"
    }
   ],
   "source": [
    "lat"
   ]
  },
  {
   "cell_type": "code",
   "execution_count": 54,
   "metadata": {},
   "outputs": [],
   "source": [
    "api = overpy.Overpass()\n",
    "\n",
    "\n",
    "query = \"\"\"node(around:1000,{lat},{lon});out;\n",
    "        \"\"\".format(lat=lat,lon=lon)\n",
    "result = api.query(query)\n",
    "education = len(result.nodes)"
   ]
  },
  {
   "cell_type": "code",
   "execution_count": 55,
   "metadata": {},
   "outputs": [
    {
     "data": {
      "text/plain": [
       "385"
      ]
     },
     "execution_count": 55,
     "metadata": {},
     "output_type": "execute_result"
    }
   ],
   "source": [
    "education"
   ]
  },
  {
   "cell_type": "code",
   "execution_count": 59,
   "metadata": {},
   "outputs": [],
   "source": [
    "with_tags=[n for n in result.nodes if len(n.tags)>0]"
   ]
  },
  {
   "cell_type": "code",
   "execution_count": 62,
   "metadata": {},
   "outputs": [
    {
     "name": "stdout",
     "output_type": "stream",
     "text": [
      "{'man_made': 'water_tower'}\n",
      "{'bus': 'yes', 'description': 'Szabadság utca 34. Beregsurány felé', 'highway': 'bus_stop', 'public_transport': 'platform', 'source': 'turistautak.hu', 'source:date': '2013-07-07', 'url': 'http://turistautak.hu/poi.php?id=156083'}\n",
      "{'bus': 'yes', 'description': 'Szabadság utca 34. Vásárosnamény felé', 'highway': 'bus_stop', 'public_transport': 'platform', 'source': 'turistautak.hu', 'source:date': '2013-07-07', 'url': 'http://turistautak.hu/poi.php?id=156084'}\n",
      "{'power': 'pole'}\n",
      "{'power': 'pole'}\n",
      "{'power': 'pole'}\n",
      "{'power': 'pole'}\n",
      "{'power': 'pole'}\n",
      "{'power': 'pole'}\n",
      "{'power': 'pole'}\n",
      "{'barrier': 'gate'}\n",
      "{'barrier': 'gate'}\n",
      "{'power': 'pole'}\n",
      "{'power': 'pole'}\n",
      "{'name': 'Újtanya', 'place': 'farm'}\n"
     ]
    }
   ],
   "source": [
    "for n in with_tags:\n",
    "    print(n.tags)"
   ]
  },
  {
   "cell_type": "code",
   "execution_count": null,
   "metadata": {},
   "outputs": [],
   "source": []
  }
 ],
 "metadata": {
  "interpreter": {
   "hash": "1ed379fcb060ad2a17c7c071b22fd52c95940d845c7d2670f23a000ff4c4624a"
  },
  "kernelspec": {
   "display_name": "Python 3.8.12 ('relief_sandbox')",
   "language": "python",
   "name": "python3"
  },
  "language_info": {
   "codemirror_mode": {
    "name": "ipython",
    "version": 3
   },
   "file_extension": ".py",
   "mimetype": "text/x-python",
   "name": "python",
   "nbconvert_exporter": "python",
   "pygments_lexer": "ipython3",
   "version": "3.8.12"
  },
  "orig_nbformat": 4
 },
 "nbformat": 4,
 "nbformat_minor": 2
}
